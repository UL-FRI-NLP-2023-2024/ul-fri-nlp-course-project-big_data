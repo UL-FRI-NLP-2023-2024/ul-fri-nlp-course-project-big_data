{
 "cells": [
  {
   "cell_type": "code",
   "execution_count": 1,
   "metadata": {},
   "outputs": [],
   "source": [
    "import pandas as pd\n",
    "import os\n",
    "from sentence_transformers import SentenceTransformer\n",
    "import numpy as np\n",
    "import matplotlib.pyplot as plt\n",
    "\n",
    "%load_ext autoreload\n",
    "%autoreload 2"
   ]
  },
  {
   "cell_type": "code",
   "execution_count": 2,
   "metadata": {},
   "outputs": [
    {
     "data": {
      "text/html": [
       "<div>\n",
       "<style scoped>\n",
       "    .dataframe tbody tr th:only-of-type {\n",
       "        vertical-align: middle;\n",
       "    }\n",
       "\n",
       "    .dataframe tbody tr th {\n",
       "        vertical-align: top;\n",
       "    }\n",
       "\n",
       "    .dataframe thead th {\n",
       "        text-align: right;\n",
       "    }\n",
       "</style>\n",
       "<table border=\"1\" class=\"dataframe\">\n",
       "  <thead>\n",
       "    <tr style=\"text-align: right;\">\n",
       "      <th></th>\n",
       "      <th>Message</th>\n",
       "      <th>R2DiscussionType</th>\n",
       "    </tr>\n",
       "  </thead>\n",
       "  <tbody>\n",
       "    <tr>\n",
       "      <th>0</th>\n",
       "      <td>Hello.</td>\n",
       "      <td>Social</td>\n",
       "    </tr>\n",
       "    <tr>\n",
       "      <th>1</th>\n",
       "      <td>My assumption is</td>\n",
       "      <td>Seminar</td>\n",
       "    </tr>\n",
       "    <tr>\n",
       "      <th>2</th>\n",
       "      <td>that the emphasis on barbarism implies that sh...</td>\n",
       "      <td>Seminar</td>\n",
       "    </tr>\n",
       "    <tr>\n",
       "      <th>3</th>\n",
       "      <td>I agree with Cassandra's noticing</td>\n",
       "      <td>Seminar</td>\n",
       "    </tr>\n",
       "    <tr>\n",
       "      <th>4</th>\n",
       "      <td>of the author's word choice of barbarism.</td>\n",
       "      <td>Seminar</td>\n",
       "    </tr>\n",
       "    <tr>\n",
       "      <th>...</th>\n",
       "      <td>...</td>\n",
       "      <td>...</td>\n",
       "    </tr>\n",
       "    <tr>\n",
       "      <th>606</th>\n",
       "      <td>P2: The king may send his daughter to the aren...</td>\n",
       "      <td>Seminar</td>\n",
       "    </tr>\n",
       "    <tr>\n",
       "      <th>607</th>\n",
       "      <td>I have no guess as to which is behind the door...</td>\n",
       "      <td>Seminar</td>\n",
       "    </tr>\n",
       "    <tr>\n",
       "      <th>608</th>\n",
       "      <td>Part 2: The daughter is “the apple of the king...</td>\n",
       "      <td>Seminar</td>\n",
       "    </tr>\n",
       "    <tr>\n",
       "      <th>609</th>\n",
       "      <td>Part 1: Honestly hard to say, though I'd like ...</td>\n",
       "      <td>Seminar</td>\n",
       "    </tr>\n",
       "    <tr>\n",
       "      <th>610</th>\n",
       "      <td>Part 2: The king most certainly spares his dau...</td>\n",
       "      <td>Seminar</td>\n",
       "    </tr>\n",
       "  </tbody>\n",
       "</table>\n",
       "<p>611 rows × 2 columns</p>\n",
       "</div>"
      ],
      "text/plain": [
       "                                               Message R2DiscussionType\n",
       "0                                              Hello.            Social\n",
       "1                                     My assumption is          Seminar\n",
       "2    that the emphasis on barbarism implies that sh...          Seminar\n",
       "3                   I agree with Cassandra's noticing           Seminar\n",
       "4            of the author's word choice of barbarism.          Seminar\n",
       "..                                                 ...              ...\n",
       "606  P2: The king may send his daughter to the aren...          Seminar\n",
       "607  I have no guess as to which is behind the door...          Seminar\n",
       "608  Part 2: The daughter is “the apple of the king...          Seminar\n",
       "609  Part 1: Honestly hard to say, though I'd like ...          Seminar\n",
       "610  Part 2: The king most certainly spares his dau...          Seminar\n",
       "\n",
       "[611 rows x 2 columns]"
      ]
     },
     "metadata": {},
     "output_type": "display_data"
    }
   ],
   "source": [
    "DATA_DIR = \"../data/\"\n",
    "\n",
    "data_path = os.path.join(DATA_DIR, \"new_data.csv\")\n",
    "df = pd.read_csv(data_path)[[\"Message\",\"R2DiscussionType\"]]\n",
    "df = df.dropna()\n",
    "\n",
    "display(df)\n",
    "X = df[\"Message\"]\n",
    "Y = df[\"R2DiscussionType\"]\n",
    "\n",
    "Y_clean = Y.str.contains(\",\")\n",
    "\n",
    "Y = Y[~Y_clean]\n",
    "X = X[~Y_clean]"
   ]
  },
  {
   "cell_type": "markdown",
   "metadata": {},
   "source": [
    "# explore the data"
   ]
  },
  {
   "cell_type": "code",
   "execution_count": 3,
   "metadata": {},
   "outputs": [
    {
     "data": {
      "text/plain": [
       "array(['Social', 'Seminar', 'Procedure', 'Other', 'Deliberation', 'UX',\n",
       "       'Imaginative entry', 'Imaginative'], dtype=object)"
      ]
     },
     "execution_count": 3,
     "metadata": {},
     "output_type": "execute_result"
    }
   ],
   "source": [
    "onehot_lookup = np.array(Y.unique())\n",
    "onehot_lookup"
   ]
  },
  {
   "cell_type": "code",
   "execution_count": 4,
   "metadata": {},
   "outputs": [],
   "source": [
    "def from_onehot(data:np.ndarray):\n",
    "  data = np.argmax(data, axis=1)\n",
    "  return onehot_lookup[data]\n",
    "\n",
    "def to_onehot(data:np.ndarray):\n",
    "  key=np.argsort(onehot_lookup)\n",
    "  result=key[onehot_lookup[key].searchsorted(data)]\n",
    "\n",
    "  out = np.zeros((data.shape[0], onehot_lookup.size))\n",
    "  out[np.arange(out.shape[0]),result] = 1\n",
    "  return out"
   ]
  },
  {
   "cell_type": "code",
   "execution_count": 5,
   "metadata": {},
   "outputs": [
    {
     "name": "stdout",
     "output_type": "stream",
     "text": [
      "R2DiscussionType\n",
      "Seminar              333\n",
      "Deliberation          85\n",
      "Social                69\n",
      "UX                    47\n",
      "Procedure             46\n",
      "Imaginative entry     18\n",
      "Other                  6\n",
      "Imaginative            2\n",
      "Name: count, dtype: int64\n"
     ]
    }
   ],
   "source": [
    "print(Y.value_counts())\n",
    "Y_onehot= to_onehot(Y.to_numpy())\n",
    "# print(Y[3])\n",
    "# print(Y_onehot[3])"
   ]
  },
  {
   "cell_type": "code",
   "execution_count": 6,
   "metadata": {},
   "outputs": [
    {
     "name": "stdout",
     "output_type": "stream",
     "text": [
      "8 Procedure ['Procedure']\n"
     ]
    }
   ],
   "source": [
    "index = 8\n",
    "test = Y[index]\n",
    "a = Y_onehot[index]\n",
    "a = np.array([a])   \n",
    "print(index, test, from_onehot(a))"
   ]
  },
  {
   "cell_type": "markdown",
   "metadata": {},
   "source": [
    "# Generate sentence embeddings"
   ]
  },
  {
   "cell_type": "code",
   "execution_count": 7,
   "metadata": {},
   "outputs": [],
   "source": [
    "embeding_model = SentenceTransformer('sentence-transformers/all-MiniLM-L6-v2')\n",
    "X_embeddings = embeding_model.encode(X.to_numpy())"
   ]
  },
  {
   "cell_type": "code",
   "execution_count": 8,
   "metadata": {},
   "outputs": [
    {
     "name": "stdout",
     "output_type": "stream",
     "text": [
      "(606, 384)\n"
     ]
    }
   ],
   "source": [
    "print(X_embeddings.shape)"
   ]
  },
  {
   "cell_type": "code",
   "execution_count": 9,
   "metadata": {},
   "outputs": [],
   "source": [
    "import torch\n",
    "from torch import nn\n",
    "\n",
    "# Check Device configuration\n",
    "device = torch.device('cuda' if torch.cuda.is_available() else 'cpu')"
   ]
  },
  {
   "cell_type": "code",
   "execution_count": 10,
   "metadata": {},
   "outputs": [
    {
     "data": {
      "text/plain": [
       "torch.Size([606, 384])"
      ]
     },
     "metadata": {},
     "output_type": "display_data"
    },
    {
     "data": {
      "text/plain": [
       "torch.Size([606, 8])"
      ]
     },
     "metadata": {},
     "output_type": "display_data"
    }
   ],
   "source": [
    "from sklearn.model_selection import train_test_split\n",
    "\n",
    "\n",
    "X = torch.tensor(X_embeddings).float().to(device)\n",
    "Y = torch.tensor(Y_onehot).float().to(device)\n",
    "display(X.shape, Y.shape)\n",
    "\n",
    "X_train, X_test, y_train, y_test = train_test_split(X, Y, test_size=0.15, random_state=42)"
   ]
  },
  {
   "cell_type": "code",
   "execution_count": 11,
   "metadata": {},
   "outputs": [],
   "source": [
    "from model import NeuralNet\n",
    "\n",
    "num_epochs = 3000\n",
    "learning_rate = 1e-4\n",
    "\n",
    "model = NeuralNet(X.shape[1], 30, Y.shape[1]).to(device)\n",
    "# # Loss and optimizer\n",
    "# def CEL_with_l2(y_hat, y, model):\n",
    "#   criterion = nn.CrossEntropyLoss()\n",
    "\n",
    "criterion = nn.CrossEntropyLoss()\n",
    "optimizer = torch.optim.Adam(model.parameters(), lr=learning_rate)  "
   ]
  },
  {
   "cell_type": "code",
   "execution_count": 12,
   "metadata": {},
   "outputs": [
    {
     "name": "stdout",
     "output_type": "stream",
     "text": [
      "Epoch [100/3000], Train Loss: 2.0586, Test Loss: 2.0560\n",
      "Epoch [200/3000], Train Loss: 1.9688, Test Loss: 1.9722\n",
      "Epoch [300/3000], Train Loss: 1.7697, Test Loss: 1.7407\n",
      "Epoch [400/3000], Train Loss: 1.4811, Test Loss: 1.4007\n",
      "Epoch [500/3000], Train Loss: 1.3289, Test Loss: 1.2156\n",
      "Epoch [600/3000], Train Loss: 1.2462, Test Loss: 1.1308\n",
      "Epoch [700/3000], Train Loss: 1.2294, Test Loss: 1.0781\n",
      "Epoch [800/3000], Train Loss: 1.1244, Test Loss: 1.0378\n",
      "Epoch [900/3000], Train Loss: 1.1019, Test Loss: 1.0044\n",
      "Epoch [1000/3000], Train Loss: 1.0714, Test Loss: 0.9783\n",
      "Epoch [1100/3000], Train Loss: 1.0025, Test Loss: 0.9571\n",
      "Epoch [1200/3000], Train Loss: 1.0263, Test Loss: 0.9411\n",
      "Epoch [1300/3000], Train Loss: 0.9836, Test Loss: 0.9272\n",
      "Epoch [1400/3000], Train Loss: 0.9389, Test Loss: 0.9155\n",
      "Epoch [1500/3000], Train Loss: 0.9358, Test Loss: 0.9054\n",
      "Epoch [1600/3000], Train Loss: 0.8764, Test Loss: 0.8964\n",
      "Epoch [1700/3000], Train Loss: 0.8908, Test Loss: 0.8885\n",
      "Epoch [1800/3000], Train Loss: 0.8707, Test Loss: 0.8815\n",
      "Epoch [1900/3000], Train Loss: 0.8596, Test Loss: 0.8761\n",
      "Epoch [2000/3000], Train Loss: 0.8273, Test Loss: 0.8711\n",
      "Epoch [2100/3000], Train Loss: 0.8148, Test Loss: 0.8684\n",
      "Epoch [2200/3000], Train Loss: 0.8028, Test Loss: 0.8655\n",
      "Epoch [2300/3000], Train Loss: 0.7947, Test Loss: 0.8626\n",
      "Epoch [2400/3000], Train Loss: 0.7782, Test Loss: 0.8599\n",
      "Epoch [2500/3000], Train Loss: 0.7445, Test Loss: 0.8579\n",
      "Epoch [2600/3000], Train Loss: 0.7153, Test Loss: 0.8576\n",
      "Epoch [2700/3000], Train Loss: 0.6834, Test Loss: 0.8571\n",
      "Epoch [2800/3000], Train Loss: 0.7110, Test Loss: 0.8574\n",
      "Epoch [2900/3000], Train Loss: 0.7103, Test Loss: 0.8581\n",
      "Epoch [3000/3000], Train Loss: 0.6494, Test Loss: 0.8604\n"
     ]
    }
   ],
   "source": [
    "\n",
    "total_step = len(X)\n",
    "for epoch in range(num_epochs):\n",
    "    # for i, (inputs, labels) in enumerate(zip(X, Y)):  \n",
    "    # Move tensors to the configured device\n",
    "    # inputs = inputs.to(device)\n",
    "    # labels = labels.to(device)\n",
    "    \n",
    "    # Forward pass\n",
    "    outputs = model(X_train)\n",
    "    loss = criterion(outputs, y_train)\n",
    "    \n",
    "    # Backprpagation and optimization\n",
    "    optimizer.zero_grad()\n",
    "    loss.backward()\n",
    "    optimizer.step()\n",
    "    \n",
    "    if (epoch+1) % 100 == 0:\n",
    "        train_loss = loss.item()\n",
    "\n",
    "        # test\n",
    "        with torch.no_grad():\n",
    "            model.train(False)\n",
    "            outputs = model(X_test)\n",
    "            loss = criterion(outputs, y_test)\n",
    "            test_loss = loss.item()\n",
    "            model.train(True)\n",
    "            \n",
    "        print('Epoch [{}/{}], Train Loss: {:.4f}, Test Loss: {:.4f}' \n",
    "                .format(epoch+1, num_epochs, train_loss, test_loss))"
   ]
  },
  {
   "cell_type": "code",
   "execution_count": 13,
   "metadata": {},
   "outputs": [],
   "source": [
    "from sklearn.metrics import confusion_matrix, ConfusionMatrixDisplay\n",
    "import seaborn as sns\n",
    "\n",
    "with torch.no_grad():\n",
    "  model.train(False)\n",
    "  y_hat = model(X_test)\n",
    "\n",
    "Y_amax = y_test.detach().cpu().numpy()\n",
    "Y_hat_amax = y_hat.detach().cpu().numpy()\n",
    "\n",
    "cm = confusion_matrix(from_onehot(Y_amax),from_onehot(Y_hat_amax))"
   ]
  },
  {
   "cell_type": "code",
   "execution_count": 14,
   "metadata": {},
   "outputs": [
    {
     "data": {
      "image/png": "[encoded data removed]",
      "text/plain": [
       "<Figure size 800x600 with 2 Axes>"
      ]
     },
     "metadata": {},
     "output_type": "display_data"
    }
   ],
   "source": [
    "# Create confusion matrix\n",
    "\n",
    "# Plot confusion matrix using seaborn\n",
    "plt.figure(figsize=(8, 6))\n",
    "sns.heatmap(cm, annot=True, fmt='d', cmap='Blues', xticklabels=onehot_lookup, yticklabels=onehot_lookup)\n",
    "plt.xlabel('Predicted')\n",
    "plt.ylabel('True')\n",
    "plt.title('Confusion Matrix')\n",
    "plt.show()"
   ]
  },
  {
   "cell_type": "markdown",
   "metadata": {},
   "source": [
    "# custom prediction"
   ]
  },
  {
   "cell_type": "code",
   "execution_count": 21,
   "metadata": {},
   "outputs": [
    {
     "name": "stdout",
     "output_type": "stream",
     "text": [
      "['Social' 'Seminar' 'Procedure']\n"
     ]
    }
   ],
   "source": [
    "text = [\"Hey, greetings\", \"I belive that the lion lived because of the princesses decision\", \"job submited\"]\n",
    "embedded = embeding_model.encode(text)\n",
    "embedded = torch.tensor(embedded) \n",
    "with torch.no_grad():\n",
    "  out = model(embedded)\n",
    "\n",
    "print(from_onehot(out))"
   ]
  },
  {
   "cell_type": "code",
   "execution_count": 19,
   "metadata": {},
   "outputs": [
    {
     "name": "stderr",
     "output_type": "stream",
     "text": [
      "/tmp/ipykernel_219410/1184356501.py:13: UserWarning: FigureCanvasAgg is non-interactive, and thus cannot be shown\n",
      "  fig.show()\n"
     ]
    },
    {
     "data": {
      "image/png": "[encoded data removed]",
      "text/plain": [
       "<Figure size 1000x1000 with 1 Axes>"
      ]
     },
     "metadata": {},
     "output_type": "display_data"
    }
   ],
   "source": [
    "from sklearn.manifold import TSNE\n",
    "\n",
    "\n",
    "with torch.no_grad():\n",
    "  model.train(False)\n",
    "  y_hat = model(X_test)\n",
    "\n",
    "tsne = TSNE(n_components=2, random_state=0, perplexity=40)\n",
    "out = tsne.fit_transform(y_hat).reshape(2, -1)\n",
    "\n",
    "fig, axis= plt.subplots(1,1, figsize=(10, 10))\n",
    "axis.scatter(out[0], out[1], s=30)\n",
    "fig.show()\n",
    "# for i,t in enumerate(data):\n",
    "#   axis.text(out[0][i], out[1][i], t, fontsize=7)"
   ]
  }
 ],
 "metadata": {
  "kernelspec": {
   "display_name": "venv",
   "language": "python",
   "name": "python3"
  },
  "language_info": {
   "codemirror_mode": {
    "name": "ipython",
    "version": 3
   },
   "file_extension": ".py",
   "mimetype": "text/x-python",
   "name": "python",
   "nbconvert_exporter": "python",
   "pygments_lexer": "ipython3",
   "version": "3.11.8"
  }
 },
 "nbformat": 4,
 "nbformat_minor": 2
}

{
 "cells": [
  {
   "cell_type": "code",
   "execution_count": 325,
   "metadata": {},
   "outputs": [
    {
     "name": "stdout",
     "output_type": "stream",
     "text": [
      "The autoreload extension is already loaded. To reload it, use:\n",
      "  %reload_ext autoreload\n"
     ]
    }
   ],
   "source": [
    "import pandas as pd\n",
    "import os\n",
    "from sentence_transformers import SentenceTransformer\n",
    "import numpy as np\n",
    "import matplotlib.pyplot as plt\n",
    "\n",
    "%load_ext autoreload\n",
    "%autoreload 2"
   ]
  },
  {
   "cell_type": "code",
   "execution_count": 326,
   "metadata": {},
   "outputs": [
    {
     "data": {
      "text/html": [
       "<div>\n",
       "<style scoped>\n",
       "    .dataframe tbody tr th:only-of-type {\n",
       "        vertical-align: middle;\n",
       "    }\n",
       "\n",
       "    .dataframe tbody tr th {\n",
       "        vertical-align: top;\n",
       "    }\n",
       "\n",
       "    .dataframe thead th {\n",
       "        text-align: right;\n",
       "    }\n",
       "</style>\n",
       "<table border=\"1\" class=\"dataframe\">\n",
       "  <thead>\n",
       "    <tr style=\"text-align: right;\">\n",
       "      <th></th>\n",
       "      <th>Message</th>\n",
       "      <th>R2DiscussionType</th>\n",
       "    </tr>\n",
       "  </thead>\n",
       "  <tbody>\n",
       "    <tr>\n",
       "      <th>0</th>\n",
       "      <td>Hello.</td>\n",
       "      <td>Social</td>\n",
       "    </tr>\n",
       "    <tr>\n",
       "      <th>1</th>\n",
       "      <td>My assumption is</td>\n",
       "      <td>Seminar</td>\n",
       "    </tr>\n",
       "    <tr>\n",
       "      <th>2</th>\n",
       "      <td>that the emphasis on barbarism implies that sh...</td>\n",
       "      <td>Seminar</td>\n",
       "    </tr>\n",
       "    <tr>\n",
       "      <th>3</th>\n",
       "      <td>I agree with Cassandra's noticing</td>\n",
       "      <td>Seminar</td>\n",
       "    </tr>\n",
       "    <tr>\n",
       "      <th>4</th>\n",
       "      <td>of the author's word choice of barbarism.</td>\n",
       "      <td>Seminar</td>\n",
       "    </tr>\n",
       "    <tr>\n",
       "      <th>...</th>\n",
       "      <td>...</td>\n",
       "      <td>...</td>\n",
       "    </tr>\n",
       "    <tr>\n",
       "      <th>606</th>\n",
       "      <td>P2: The king may send his daughter to the aren...</td>\n",
       "      <td>Seminar</td>\n",
       "    </tr>\n",
       "    <tr>\n",
       "      <th>607</th>\n",
       "      <td>I have no guess as to which is behind the door...</td>\n",
       "      <td>Seminar</td>\n",
       "    </tr>\n",
       "    <tr>\n",
       "      <th>608</th>\n",
       "      <td>Part 2: The daughter is “the apple of the king...</td>\n",
       "      <td>Seminar</td>\n",
       "    </tr>\n",
       "    <tr>\n",
       "      <th>609</th>\n",
       "      <td>Part 1: Honestly hard to say, though I'd like ...</td>\n",
       "      <td>Seminar</td>\n",
       "    </tr>\n",
       "    <tr>\n",
       "      <th>610</th>\n",
       "      <td>Part 2: The king most certainly spares his dau...</td>\n",
       "      <td>Seminar</td>\n",
       "    </tr>\n",
       "  </tbody>\n",
       "</table>\n",
       "<p>611 rows × 2 columns</p>\n",
       "</div>"
      ],
      "text/plain": [
       "                                               Message R2DiscussionType\n",
       "0                                              Hello.            Social\n",
       "1                                     My assumption is          Seminar\n",
       "2    that the emphasis on barbarism implies that sh...          Seminar\n",
       "3                   I agree with Cassandra's noticing           Seminar\n",
       "4            of the author's word choice of barbarism.          Seminar\n",
       "..                                                 ...              ...\n",
       "606  P2: The king may send his daughter to the aren...          Seminar\n",
       "607  I have no guess as to which is behind the door...          Seminar\n",
       "608  Part 2: The daughter is “the apple of the king...          Seminar\n",
       "609  Part 1: Honestly hard to say, though I'd like ...          Seminar\n",
       "610  Part 2: The king most certainly spares his dau...          Seminar\n",
       "\n",
       "[611 rows x 2 columns]"
      ]
     },
     "metadata": {},
     "output_type": "display_data"
    },
    {
     "data": {
      "text/plain": [
       "0       Social\n",
       "1      Seminar\n",
       "2      Seminar\n",
       "3      Seminar\n",
       "4      Seminar\n",
       "5      Seminar\n",
       "6      Seminar\n",
       "7      Seminar\n",
       "8    Procedure\n",
       "9      Seminar\n",
       "Name: R2DiscussionType, dtype: object"
      ]
     },
     "execution_count": 326,
     "metadata": {},
     "output_type": "execute_result"
    }
   ],
   "source": [
    "DATA_DIR = \"../data/\"\n",
    "\n",
    "data_path = os.path.join(DATA_DIR, \"new_data.csv\")\n",
    "df = pd.read_csv(data_path)[[\"Message\",\"R2DiscussionType\"]]\n",
    "df = df.dropna()\n",
    "\n",
    "display(df)\n",
    "X = df[\"Message\"]\n",
    "Y = df[\"R2DiscussionType\"]\n",
    "\n",
    "Y.head(10)"
   ]
  },
  {
   "cell_type": "markdown",
   "metadata": {},
   "source": [
    "# explore the data"
   ]
  },
  {
   "cell_type": "code",
   "execution_count": 327,
   "metadata": {},
   "outputs": [
    {
     "data": {
      "text/plain": [
       "array(['Social', 'Seminar', 'Procedure', 'Other', 'Deliberation', 'UX',\n",
       "       'Imaginative entry', 'Seminar, Deliberation',\n",
       "       'Social, Deliberation', 'Deliberation, Seminar',\n",
       "       'Social, Procedure', 'Imaginative'], dtype=object)"
      ]
     },
     "execution_count": 327,
     "metadata": {},
     "output_type": "execute_result"
    }
   ],
   "source": [
    "onehot_lookup = np.array(Y.unique())\n",
    "onehot_lookup"
   ]
  },
  {
   "cell_type": "code",
   "execution_count": 328,
   "metadata": {},
   "outputs": [],
   "source": [
    "def from_onehot(data:np.ndarray):\n",
    "  data = np.argmax(data, axis=1)\n",
    "  return onehot_lookup[data]\n",
    "\n",
    "def to_onehot(data:np.ndarray):\n",
    "  key=np.argsort(onehot_lookup)\n",
    "  result=key[onehot_lookup[key].searchsorted(data)]\n",
    "\n",
    "  out = np.zeros((data.shape[0], onehot_lookup.size))\n",
    "  out[np.arange(out.shape[0]),result] = 1\n",
    "  return out"
   ]
  },
  {
   "cell_type": "code",
   "execution_count": 329,
   "metadata": {},
   "outputs": [
    {
     "name": "stdout",
     "output_type": "stream",
     "text": [
      "R2DiscussionType\n",
      "Seminar                  333\n",
      "Deliberation              85\n",
      "Social                    69\n",
      "UX                        47\n",
      "Procedure                 46\n",
      "Imaginative entry         18\n",
      "Other                      6\n",
      "Seminar, Deliberation      2\n",
      "Imaginative                2\n",
      "Social, Deliberation       1\n",
      "Deliberation, Seminar      1\n",
      "Social, Procedure          1\n",
      "Name: count, dtype: int64\n"
     ]
    }
   ],
   "source": [
    "print(Y.value_counts())\n",
    "Y_onehot= to_onehot(Y.to_numpy())\n",
    "# print(Y[3])\n",
    "# print(Y_onehot[3])"
   ]
  },
  {
   "cell_type": "code",
   "execution_count": 330,
   "metadata": {},
   "outputs": [
    {
     "name": "stdout",
     "output_type": "stream",
     "text": [
      "8 Procedure ['Procedure']\n"
     ]
    }
   ],
   "source": [
    "index = 8\n",
    "test = Y[index]\n",
    "a = Y_onehot[index]\n",
    "a = np.array([a])\n",
    "print(index, test, from_onehot(a))"
   ]
  },
  {
   "cell_type": "markdown",
   "metadata": {},
   "source": [
    "# Generate sentence embeddings"
   ]
  },
  {
   "cell_type": "code",
   "execution_count": 340,
   "metadata": {},
   "outputs": [
    {
     "ename": "TypeError",
     "evalue": "len() of a 0-d tensor",
     "output_type": "error",
     "traceback": [
      "\u001b[0;31m---------------------------------------------------------------------------\u001b[0m",
      "\u001b[0;31mTypeError\u001b[0m                                 Traceback (most recent call last)",
      "Cell \u001b[0;32mIn[340], line 2\u001b[0m\n\u001b[1;32m      1\u001b[0m embeding_model \u001b[38;5;241m=\u001b[39m SentenceTransformer(\u001b[38;5;124m'\u001b[39m\u001b[38;5;124msentence-transformers/all-MiniLM-L6-v2\u001b[39m\u001b[38;5;124m'\u001b[39m)\n\u001b[0;32m----> 2\u001b[0m X_embeddings \u001b[38;5;241m=\u001b[39m \u001b[43membeding_model\u001b[49m\u001b[38;5;241;43m.\u001b[39;49m\u001b[43mencode\u001b[49m\u001b[43m(\u001b[49m\u001b[43mX\u001b[49m\u001b[43m)\u001b[49m\n",
      "File \u001b[0;32m~/Desktop/ONJ-project/venv/lib64/python3.11/site-packages/sentence_transformers/SentenceTransformer.py:361\u001b[0m, in \u001b[0;36mSentenceTransformer.encode\u001b[0;34m(self, sentences, prompt_name, prompt, batch_size, show_progress_bar, output_value, precision, convert_to_numpy, convert_to_tensor, device, normalize_embeddings)\u001b[0m\n\u001b[1;32m    358\u001b[0m \u001b[38;5;28mself\u001b[39m\u001b[38;5;241m.\u001b[39mto(device)\n\u001b[1;32m    360\u001b[0m all_embeddings \u001b[38;5;241m=\u001b[39m []\n\u001b[0;32m--> 361\u001b[0m length_sorted_idx \u001b[38;5;241m=\u001b[39m np\u001b[38;5;241m.\u001b[39margsort(\u001b[43m[\u001b[49m\u001b[38;5;241;43m-\u001b[39;49m\u001b[38;5;28;43mself\u001b[39;49m\u001b[38;5;241;43m.\u001b[39;49m\u001b[43m_text_length\u001b[49m\u001b[43m(\u001b[49m\u001b[43msen\u001b[49m\u001b[43m)\u001b[49m\u001b[43m \u001b[49m\u001b[38;5;28;43;01mfor\u001b[39;49;00m\u001b[43m \u001b[49m\u001b[43msen\u001b[49m\u001b[43m \u001b[49m\u001b[38;5;129;43;01min\u001b[39;49;00m\u001b[43m \u001b[49m\u001b[43msentences\u001b[49m\u001b[43m]\u001b[49m)\n\u001b[1;32m    362\u001b[0m sentences_sorted \u001b[38;5;241m=\u001b[39m [sentences[idx] \u001b[38;5;28;01mfor\u001b[39;00m idx \u001b[38;5;129;01min\u001b[39;00m length_sorted_idx]\n\u001b[1;32m    364\u001b[0m \u001b[38;5;28;01mfor\u001b[39;00m start_index \u001b[38;5;129;01min\u001b[39;00m trange(\u001b[38;5;241m0\u001b[39m, \u001b[38;5;28mlen\u001b[39m(sentences), batch_size, desc\u001b[38;5;241m=\u001b[39m\u001b[38;5;124m\"\u001b[39m\u001b[38;5;124mBatches\u001b[39m\u001b[38;5;124m\"\u001b[39m, disable\u001b[38;5;241m=\u001b[39m\u001b[38;5;129;01mnot\u001b[39;00m show_progress_bar):\n",
      "File \u001b[0;32m~/Desktop/ONJ-project/venv/lib64/python3.11/site-packages/sentence_transformers/SentenceTransformer.py:361\u001b[0m, in \u001b[0;36m<listcomp>\u001b[0;34m(.0)\u001b[0m\n\u001b[1;32m    358\u001b[0m \u001b[38;5;28mself\u001b[39m\u001b[38;5;241m.\u001b[39mto(device)\n\u001b[1;32m    360\u001b[0m all_embeddings \u001b[38;5;241m=\u001b[39m []\n\u001b[0;32m--> 361\u001b[0m length_sorted_idx \u001b[38;5;241m=\u001b[39m np\u001b[38;5;241m.\u001b[39margsort([\u001b[38;5;241m-\u001b[39m\u001b[38;5;28;43mself\u001b[39;49m\u001b[38;5;241;43m.\u001b[39;49m\u001b[43m_text_length\u001b[49m\u001b[43m(\u001b[49m\u001b[43msen\u001b[49m\u001b[43m)\u001b[49m \u001b[38;5;28;01mfor\u001b[39;00m sen \u001b[38;5;129;01min\u001b[39;00m sentences])\n\u001b[1;32m    362\u001b[0m sentences_sorted \u001b[38;5;241m=\u001b[39m [sentences[idx] \u001b[38;5;28;01mfor\u001b[39;00m idx \u001b[38;5;129;01min\u001b[39;00m length_sorted_idx]\n\u001b[1;32m    364\u001b[0m \u001b[38;5;28;01mfor\u001b[39;00m start_index \u001b[38;5;129;01min\u001b[39;00m trange(\u001b[38;5;241m0\u001b[39m, \u001b[38;5;28mlen\u001b[39m(sentences), batch_size, desc\u001b[38;5;241m=\u001b[39m\u001b[38;5;124m\"\u001b[39m\u001b[38;5;124mBatches\u001b[39m\u001b[38;5;124m\"\u001b[39m, disable\u001b[38;5;241m=\u001b[39m\u001b[38;5;129;01mnot\u001b[39;00m show_progress_bar):\n",
      "File \u001b[0;32m~/Desktop/ONJ-project/venv/lib64/python3.11/site-packages/sentence_transformers/SentenceTransformer.py:926\u001b[0m, in \u001b[0;36mSentenceTransformer._text_length\u001b[0;34m(self, text)\u001b[0m\n\u001b[1;32m    924\u001b[0m     \u001b[38;5;28;01mreturn\u001b[39;00m \u001b[38;5;28mlen\u001b[39m(text)\n\u001b[1;32m    925\u001b[0m \u001b[38;5;28;01melse\u001b[39;00m:\n\u001b[0;32m--> 926\u001b[0m     \u001b[38;5;28;01mreturn\u001b[39;00m \u001b[38;5;28msum\u001b[39m(\u001b[43m[\u001b[49m\u001b[38;5;28;43mlen\u001b[39;49m\u001b[43m(\u001b[49m\u001b[43mt\u001b[49m\u001b[43m)\u001b[49m\u001b[43m \u001b[49m\u001b[38;5;28;43;01mfor\u001b[39;49;00m\u001b[43m \u001b[49m\u001b[43mt\u001b[49m\u001b[43m \u001b[49m\u001b[38;5;129;43;01min\u001b[39;49;00m\u001b[43m \u001b[49m\u001b[43mtext\u001b[49m\u001b[43m]\u001b[49m)\n",
      "File \u001b[0;32m~/Desktop/ONJ-project/venv/lib64/python3.11/site-packages/sentence_transformers/SentenceTransformer.py:926\u001b[0m, in \u001b[0;36m<listcomp>\u001b[0;34m(.0)\u001b[0m\n\u001b[1;32m    924\u001b[0m     \u001b[38;5;28;01mreturn\u001b[39;00m \u001b[38;5;28mlen\u001b[39m(text)\n\u001b[1;32m    925\u001b[0m \u001b[38;5;28;01melse\u001b[39;00m:\n\u001b[0;32m--> 926\u001b[0m     \u001b[38;5;28;01mreturn\u001b[39;00m \u001b[38;5;28msum\u001b[39m([\u001b[38;5;28mlen\u001b[39m(t) \u001b[38;5;28;01mfor\u001b[39;00m t \u001b[38;5;129;01min\u001b[39;00m text])\n",
      "File \u001b[0;32m~/Desktop/ONJ-project/venv/lib64/python3.11/site-packages/torch/_tensor.py:1000\u001b[0m, in \u001b[0;36mTensor.__len__\u001b[0;34m(self)\u001b[0m\n\u001b[1;32m    998\u001b[0m     \u001b[38;5;28;01mreturn\u001b[39;00m handle_torch_function(Tensor\u001b[38;5;241m.\u001b[39m\u001b[38;5;21m__len__\u001b[39m, (\u001b[38;5;28mself\u001b[39m,), \u001b[38;5;28mself\u001b[39m)\n\u001b[1;32m    999\u001b[0m \u001b[38;5;28;01mif\u001b[39;00m \u001b[38;5;28mself\u001b[39m\u001b[38;5;241m.\u001b[39mdim() \u001b[38;5;241m==\u001b[39m \u001b[38;5;241m0\u001b[39m:\n\u001b[0;32m-> 1000\u001b[0m     \u001b[38;5;28;01mraise\u001b[39;00m \u001b[38;5;167;01mTypeError\u001b[39;00m(\u001b[38;5;124m\"\u001b[39m\u001b[38;5;124mlen() of a 0-d tensor\u001b[39m\u001b[38;5;124m\"\u001b[39m)\n\u001b[1;32m   1001\u001b[0m \u001b[38;5;28;01mif\u001b[39;00m torch\u001b[38;5;241m.\u001b[39m_C\u001b[38;5;241m.\u001b[39m_get_tracing_state():\n\u001b[1;32m   1002\u001b[0m     warnings\u001b[38;5;241m.\u001b[39mwarn(\n\u001b[1;32m   1003\u001b[0m         \u001b[38;5;124m\"\u001b[39m\u001b[38;5;124mUsing len to get tensor shape might cause the trace to be incorrect. \u001b[39m\u001b[38;5;124m\"\u001b[39m\n\u001b[1;32m   1004\u001b[0m         \u001b[38;5;124m\"\u001b[39m\u001b[38;5;124mRecommended usage would be tensor.shape[0]. \u001b[39m\u001b[38;5;124m\"\u001b[39m\n\u001b[0;32m   (...)\u001b[0m\n\u001b[1;32m   1008\u001b[0m         stacklevel\u001b[38;5;241m=\u001b[39m\u001b[38;5;241m2\u001b[39m,\n\u001b[1;32m   1009\u001b[0m     )\n",
      "\u001b[0;31mTypeError\u001b[0m: len() of a 0-d tensor"
     ]
    }
   ],
   "source": [
    "embeding_model = SentenceTransformer('sentence-transformers/all-MiniLM-L6-v2')\n",
    "X_embeddings = embeding_model.encode(X)"
   ]
  },
  {
   "cell_type": "code",
   "execution_count": 332,
   "metadata": {},
   "outputs": [
    {
     "name": "stdout",
     "output_type": "stream",
     "text": [
      "(611, 384)\n"
     ]
    }
   ],
   "source": [
    "print(X_embeddings.shape)"
   ]
  },
  {
   "cell_type": "code",
   "execution_count": 333,
   "metadata": {},
   "outputs": [],
   "source": [
    "from model import NeuralNet\n",
    "import torch\n",
    "from torch import nn\n",
    "\n",
    "# Check Device configuration\n",
    "device = torch.device('cuda' if torch.cuda.is_available() else 'cpu')"
   ]
  },
  {
   "cell_type": "code",
   "execution_count": 334,
   "metadata": {},
   "outputs": [
    {
     "data": {
      "text/plain": [
       "torch.Size([611, 384])"
      ]
     },
     "metadata": {},
     "output_type": "display_data"
    },
    {
     "data": {
      "text/plain": [
       "torch.Size([611, 12])"
      ]
     },
     "metadata": {},
     "output_type": "display_data"
    }
   ],
   "source": [
    "X = torch.tensor(X_embeddings).float().to(device)\n",
    "Y = torch.tensor(Y_onehot).float().to(device)\n",
    "display(X.shape, Y.shape)"
   ]
  },
  {
   "cell_type": "code",
   "execution_count": 335,
   "metadata": {},
   "outputs": [],
   "source": [
    "num_epochs = 10000\n",
    "learning_rate = 1e-4\n",
    "\n",
    "model = NeuralNet(X.shape[1], 512, Y.shape[1]).to(device)\n",
    "# Loss and optimizer\n",
    "criterion = nn.CrossEntropyLoss()\n",
    "optimizer = torch.optim.Adam(model.parameters(), lr=learning_rate)  "
   ]
  },
  {
   "cell_type": "code",
   "execution_count": 336,
   "metadata": {},
   "outputs": [
    {
     "name": "stdout",
     "output_type": "stream",
     "text": [
      "Epoch [100/10000], Step [100/611], Loss: 1.8503\n",
      "Epoch [200/10000], Step [200/611], Loss: 1.1430\n",
      "Epoch [300/10000], Step [300/611], Loss: 0.8949\n",
      "Epoch [400/10000], Step [400/611], Loss: 0.7527\n",
      "Epoch [500/10000], Step [500/611], Loss: 0.6479\n",
      "Epoch [600/10000], Step [600/611], Loss: 0.5607\n",
      "Epoch [700/10000], Step [700/611], Loss: 0.4848\n",
      "Epoch [800/10000], Step [800/611], Loss: 0.4174\n",
      "Epoch [900/10000], Step [900/611], Loss: 0.3575\n",
      "Epoch [1000/10000], Step [1000/611], Loss: 0.3045\n",
      "Epoch [1100/10000], Step [1100/611], Loss: 0.2584\n",
      "Epoch [1200/10000], Step [1200/611], Loss: 0.2188\n",
      "Epoch [1300/10000], Step [1300/611], Loss: 0.1850\n",
      "Epoch [1400/10000], Step [1400/611], Loss: 0.1564\n",
      "Epoch [1500/10000], Step [1500/611], Loss: 0.1321\n",
      "Epoch [1600/10000], Step [1600/611], Loss: 0.1117\n",
      "Epoch [1700/10000], Step [1700/611], Loss: 0.0946\n",
      "Epoch [1800/10000], Step [1800/611], Loss: 0.0804\n",
      "Epoch [1900/10000], Step [1900/611], Loss: 0.0688\n",
      "Epoch [2000/10000], Step [2000/611], Loss: 0.0594\n",
      "Epoch [2100/10000], Step [2100/611], Loss: 0.0516\n",
      "Epoch [2200/10000], Step [2200/611], Loss: 0.0453\n",
      "Epoch [2300/10000], Step [2300/611], Loss: 0.0401\n",
      "Epoch [2400/10000], Step [2400/611], Loss: 0.0358\n",
      "Epoch [2500/10000], Step [2500/611], Loss: 0.0322\n",
      "Epoch [2600/10000], Step [2600/611], Loss: 0.0292\n",
      "Epoch [2700/10000], Step [2700/611], Loss: 0.0267\n",
      "Epoch [2800/10000], Step [2800/611], Loss: 0.0245\n",
      "Epoch [2900/10000], Step [2900/611], Loss: 0.0227\n",
      "Epoch [3000/10000], Step [3000/611], Loss: 0.0211\n",
      "Epoch [3100/10000], Step [3100/611], Loss: 0.0197\n",
      "Epoch [3200/10000], Step [3200/611], Loss: 0.0185\n",
      "Epoch [3300/10000], Step [3300/611], Loss: 0.0175\n",
      "Epoch [3400/10000], Step [3400/611], Loss: 0.0165\n",
      "Epoch [3500/10000], Step [3500/611], Loss: 0.0157\n",
      "Epoch [3600/10000], Step [3600/611], Loss: 0.0150\n",
      "Epoch [3700/10000], Step [3700/611], Loss: 0.0143\n",
      "Epoch [3800/10000], Step [3800/611], Loss: 0.0138\n",
      "Epoch [3900/10000], Step [3900/611], Loss: 0.0133\n",
      "Epoch [4000/10000], Step [4000/611], Loss: 0.0128\n",
      "Epoch [4100/10000], Step [4100/611], Loss: 0.0124\n",
      "Epoch [4200/10000], Step [4200/611], Loss: 0.0120\n",
      "Epoch [4300/10000], Step [4300/611], Loss: 0.0117\n",
      "Epoch [4400/10000], Step [4400/611], Loss: 0.0114\n",
      "Epoch [4500/10000], Step [4500/611], Loss: 0.0111\n",
      "Epoch [4600/10000], Step [4600/611], Loss: 0.0108\n",
      "Epoch [4700/10000], Step [4700/611], Loss: 0.0106\n",
      "Epoch [4800/10000], Step [4800/611], Loss: 0.0104\n",
      "Epoch [4900/10000], Step [4900/611], Loss: 0.0102\n",
      "Epoch [5000/10000], Step [5000/611], Loss: 0.0100\n",
      "Epoch [5100/10000], Step [5100/611], Loss: 0.0098\n",
      "Epoch [5200/10000], Step [5200/611], Loss: 0.0097\n",
      "Epoch [5300/10000], Step [5300/611], Loss: 0.0095\n",
      "Epoch [5400/10000], Step [5400/611], Loss: 0.0094\n",
      "Epoch [5500/10000], Step [5500/611], Loss: 0.0093\n",
      "Epoch [5600/10000], Step [5600/611], Loss: 0.0092\n",
      "Epoch [5700/10000], Step [5700/611], Loss: 0.0091\n",
      "Epoch [5800/10000], Step [5800/611], Loss: 0.0090\n",
      "Epoch [5900/10000], Step [5900/611], Loss: 0.0089\n",
      "Epoch [6000/10000], Step [6000/611], Loss: 0.0088\n",
      "Epoch [6100/10000], Step [6100/611], Loss: 0.0087\n",
      "Epoch [6200/10000], Step [6200/611], Loss: 0.0087\n",
      "Epoch [6300/10000], Step [6300/611], Loss: 0.0086\n",
      "Epoch [6400/10000], Step [6400/611], Loss: 0.0085\n",
      "Epoch [6500/10000], Step [6500/611], Loss: 0.0085\n",
      "Epoch [6600/10000], Step [6600/611], Loss: 0.0084\n",
      "Epoch [6700/10000], Step [6700/611], Loss: 0.0084\n",
      "Epoch [6800/10000], Step [6800/611], Loss: 0.0083\n",
      "Epoch [6900/10000], Step [6900/611], Loss: 0.0083\n",
      "Epoch [7000/10000], Step [7000/611], Loss: 0.0083\n",
      "Epoch [7100/10000], Step [7100/611], Loss: 0.0082\n",
      "Epoch [7200/10000], Step [7200/611], Loss: 0.0082\n",
      "Epoch [7300/10000], Step [7300/611], Loss: 0.0082\n",
      "Epoch [7400/10000], Step [7400/611], Loss: 0.0081\n",
      "Epoch [7500/10000], Step [7500/611], Loss: 0.0081\n",
      "Epoch [7600/10000], Step [7600/611], Loss: 0.0081\n",
      "Epoch [7700/10000], Step [7700/611], Loss: 0.0081\n",
      "Epoch [7800/10000], Step [7800/611], Loss: 0.0080\n",
      "Epoch [7900/10000], Step [7900/611], Loss: 0.0080\n",
      "Epoch [8000/10000], Step [8000/611], Loss: 0.0080\n",
      "Epoch [8100/10000], Step [8100/611], Loss: 0.0080\n",
      "Epoch [8200/10000], Step [8200/611], Loss: 0.0079\n",
      "Epoch [8300/10000], Step [8300/611], Loss: 0.0079\n",
      "Epoch [8400/10000], Step [8400/611], Loss: 0.0079\n",
      "Epoch [8500/10000], Step [8500/611], Loss: 0.0079\n",
      "Epoch [8600/10000], Step [8600/611], Loss: 0.0079\n",
      "Epoch [8700/10000], Step [8700/611], Loss: 0.0079\n",
      "Epoch [8800/10000], Step [8800/611], Loss: 0.0079\n",
      "Epoch [8900/10000], Step [8900/611], Loss: 0.0079\n",
      "Epoch [9000/10000], Step [9000/611], Loss: 0.0078\n",
      "Epoch [9100/10000], Step [9100/611], Loss: 0.0078\n",
      "Epoch [9200/10000], Step [9200/611], Loss: 0.0078\n",
      "Epoch [9300/10000], Step [9300/611], Loss: 0.0078\n",
      "Epoch [9400/10000], Step [9400/611], Loss: 0.0078\n",
      "Epoch [9500/10000], Step [9500/611], Loss: 0.0078\n",
      "Epoch [9600/10000], Step [9600/611], Loss: 0.0078\n",
      "Epoch [9700/10000], Step [9700/611], Loss: 0.0078\n",
      "Epoch [9800/10000], Step [9800/611], Loss: 0.0078\n",
      "Epoch [9900/10000], Step [9900/611], Loss: 0.0078\n",
      "Epoch [10000/10000], Step [10000/611], Loss: 0.0078\n"
     ]
    }
   ],
   "source": [
    "\n",
    "total_step = len(X)\n",
    "i=0\n",
    "for epoch in range(num_epochs):\n",
    "    # for i, (inputs, labels) in enumerate(zip(X, Y)):  \n",
    "    # Move tensors to the configured device\n",
    "    # inputs = inputs.to(device)\n",
    "    # labels = labels.to(device)\n",
    "    \n",
    "    # Forward pass\n",
    "    outputs = model(X)\n",
    "    loss = criterion(outputs, Y)\n",
    "    \n",
    "    # Backprpagation and optimization\n",
    "    optimizer.zero_grad()\n",
    "    loss.backward()\n",
    "    optimizer.step()\n",
    "    \n",
    "    if (i+1) % 100 == 0:\n",
    "        print ('Epoch [{}/{}], Step [{}/{}], Loss: {:.4f}' \n",
    "                .format(epoch+1, num_epochs, i+1, total_step, loss.item()))\n",
    "    i += 1"
   ]
  },
  {
   "cell_type": "code",
   "execution_count": 364,
   "metadata": {},
   "outputs": [],
   "source": [
    "from sklearn.metrics import confusion_matrix, ConfusionMatrixDisplay\n",
    "import seaborn as sns\n",
    "\n",
    "with torch.no_grad():\n",
    "  y_hat = model(X)\n",
    "\n",
    "Y_amax = Y.detach().cpu().numpy()\n",
    "Y_hat_amax = y_hat.detach().cpu().numpy()\n",
    "\n",
    "cm = confusion_matrix(from_onehot(Y_amax),from_onehot(Y_hat_amax))"
   ]
  },
  {
   "cell_type": "code",
   "execution_count": 361,
   "metadata": {},
   "outputs": [
    {
     "data": {
      "image/png": "[encoded data removed]",
      "text/plain": [
       "<Figure size 800x600 with 2 Axes>"
      ]
     },
     "metadata": {},
     "output_type": "display_data"
    }
   ],
   "source": [
    "# Create confusion matrix\n",
    "\n",
    "# Plot confusion matrix using seaborn\n",
    "plt.figure(figsize=(8, 6))\n",
    "sns.heatmap(cm, annot=True, fmt='d', cmap='Blues', xticklabels=onehot_lookup, yticklabels=onehot_lookup)\n",
    "plt.xlabel('Predicted')\n",
    "plt.ylabel('True')\n",
    "plt.title('Confusion Matrix')\n",
    "plt.show()"
   ]
  },
  {
   "cell_type": "markdown",
   "metadata": {},
   "source": [
    "# custom prediction"
   ]
  },
  {
   "cell_type": "code",
   "execution_count": 356,
   "metadata": {},
   "outputs": [
    {
     "name": "stdout",
     "output_type": "stream",
     "text": [
      "['Social' 'Seminar' 'UX']\n"
     ]
    }
   ],
   "source": [
    "text = [\"Hello\", \"princess should kill the lion\", \"job submited\"]\n",
    "embedded = embeding_model.encode(text)\n",
    "embedded = torch.tensor(embedded)\n",
    "with torch.no_grad():\n",
    "  out = model(embedded)\n",
    "\n",
    "print(from_onehot(out))"
   ]
  }
 ],
 "metadata": {
  "kernelspec": {
   "display_name": "venv",
   "language": "python",
   "name": "python3"
  },
  "language_info": {
   "codemirror_mode": {
    "name": "ipython",
    "version": 3
   },
   "file_extension": ".py",
   "mimetype": "text/x-python",
   "name": "python",
   "nbconvert_exporter": "python",
   "pygments_lexer": "ipython3",
   "version": "3.11.8"
  }
 },
 "nbformat": 4,
 "nbformat_minor": 2
}

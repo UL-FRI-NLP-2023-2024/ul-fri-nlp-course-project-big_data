{
 "cells": [
  {
   "cell_type": "code",
   "execution_count": 15,
   "id": "d57ee831-27c0-44bd-a61b-a9e6e9708993",
   "metadata": {},
   "outputs": [],
   "source": [
    "import pandas as pd\n",
    "import numpy as np\n",
    "from langchain_community.embeddings.ollama import OllamaEmbeddings"
   ]
  },
  {
   "cell_type": "markdown",
   "id": "c0b53448-0764-4db2-8f13-18e83d4b8a72",
   "metadata": {},
   "source": [
    "Embed all lines."
   ]
  },
  {
   "cell_type": "code",
   "execution_count": 16,
   "id": "42ee64a6-e04a-40e6-8e26-14d6b8e3cb5f",
   "metadata": {},
   "outputs": [],
   "source": [
    "df = pd.read_csv('../data/new_data.csv')\n",
    "df = df[~df['R2DiscussionType'].str.contains(\",\")]"
   ]
  },
  {
   "cell_type": "code",
   "execution_count": 18,
   "id": "b7dfb730-65d2-4aaf-a09c-4064ddd12afc",
   "metadata": {},
   "outputs": [
    {
     "data": {
      "text/plain": [
       "R2DiscussionType\n",
       "Seminar              333\n",
       "Deliberation          85\n",
       "Social                69\n",
       "UX                    47\n",
       "Procedure             46\n",
       "Imaginative entry     18\n",
       "Other                  6\n",
       "Imaginative            2\n",
       "Name: count, dtype: int64"
      ]
     },
     "execution_count": 18,
     "metadata": {},
     "output_type": "execute_result"
    }
   ],
   "source": [
    "df['R2DiscussionType'].value_counts()"
   ]
  },
  {
   "cell_type": "code",
   "execution_count": 19,
   "id": "a63dba93-0ff3-4da0-9be1-dfd07ec2cc4f",
   "metadata": {},
   "outputs": [],
   "source": [
    "df['R2DiscussionType'] = df['R2DiscussionType'].map(lambda x: 'Imaginative entry' if x == 'Imaginative' else x)"
   ]
  },
  {
   "cell_type": "code",
   "execution_count": 20,
   "id": "13167c39-ade7-4ecf-97a6-4bfdfe2e9abc",
   "metadata": {},
   "outputs": [
    {
     "data": {
      "text/plain": [
       "R2DiscussionType\n",
       "Seminar              333\n",
       "Deliberation          85\n",
       "Social                69\n",
       "UX                    47\n",
       "Procedure             46\n",
       "Imaginative entry     20\n",
       "Other                  6\n",
       "Name: count, dtype: int64"
      ]
     },
     "execution_count": 20,
     "metadata": {},
     "output_type": "execute_result"
    }
   ],
   "source": [
    "df['R2DiscussionType'].value_counts()"
   ]
  },
  {
   "cell_type": "code",
   "execution_count": 21,
   "id": "cfa101dd-1511-4637-a624-659132ced73a",
   "metadata": {},
   "outputs": [],
   "source": [
    "with open('../unprocessed_data/definitions.json', 'r') as file:\n",
    "    instructions = file.read()"
   ]
  },
  {
   "cell_type": "code",
   "execution_count": 22,
   "id": "40ae61fb-5a74-4bee-879c-f004a7b54284",
   "metadata": {},
   "outputs": [
    {
     "data": {
      "text/plain": [
       "5142"
      ]
     },
     "execution_count": 22,
     "metadata": {},
     "output_type": "execute_result"
    }
   ],
   "source": [
    "len(instructions)"
   ]
  },
  {
   "cell_type": "code",
   "execution_count": 88,
   "id": "a0ccf583-8e15-4ac3-9a6b-dd33d5e46324",
   "metadata": {},
   "outputs": [
    {
     "ename": "ResponseError",
     "evalue": "pull model manifest: Get \"https://registry.ollama.ai/v2/library/phi3/manifests/latest\": dial tcp: lookup registry.ollama.ai: i/o timeout",
     "output_type": "error",
     "traceback": [
      "\u001b[0;31m---------------------------------------------------------------------------\u001b[0m",
      "\u001b[0;31mResponseError\u001b[0m                             Traceback (most recent call last)",
      "Cell \u001b[0;32mIn[88], line 29\u001b[0m\n\u001b[1;32m      1\u001b[0m \u001b[38;5;28;01mimport\u001b[39;00m \u001b[38;5;21;01mollama\u001b[39;00m\n\u001b[1;32m      2\u001b[0m modelfile\u001b[38;5;241m=\u001b[39m\u001b[38;5;124m'''\u001b[39m\n\u001b[1;32m      3\u001b[0m \u001b[38;5;124mFROM phi3\u001b[39m\n\u001b[1;32m      4\u001b[0m \u001b[38;5;124mSYSTEM \u001b[39m\u001b[38;5;124m\"\u001b[39m\u001b[38;5;124m\"\u001b[39m\u001b[38;5;124m\"\u001b[39m\n\u001b[0;32m   (...)\u001b[0m\n\u001b[1;32m     26\u001b[0m \u001b[38;5;124m\"\u001b[39m\u001b[38;5;124m\"\u001b[39m\u001b[38;5;124m\"\u001b[39m\n\u001b[1;32m     27\u001b[0m \u001b[38;5;124m'''\u001b[39m\n\u001b[0;32m---> 29\u001b[0m \u001b[43mollama\u001b[49m\u001b[38;5;241;43m.\u001b[39;49m\u001b[43mcreate\u001b[49m\u001b[43m(\u001b[49m\u001b[43mmodel\u001b[49m\u001b[38;5;241;43m=\u001b[39;49m\u001b[38;5;124;43m'\u001b[39;49m\u001b[38;5;124;43mdiscourse\u001b[39;49m\u001b[38;5;124;43m'\u001b[39;49m\u001b[43m,\u001b[49m\u001b[43m \u001b[49m\u001b[43mmodelfile\u001b[49m\u001b[38;5;241;43m=\u001b[39;49m\u001b[43mmodelfile\u001b[49m\u001b[43m)\u001b[49m\n",
      "File \u001b[0;32m/nix/store/n17dzrkzzsfcmlkxcq9viqm11hbvmzin-python3-3.11.9-env/lib/python3.11/site-packages/ollama/_client.py:272\u001b[0m, in \u001b[0;36mClient.create\u001b[0;34m(self, model, path, modelfile, stream)\u001b[0m\n\u001b[1;32m    269\u001b[0m \u001b[38;5;28;01melse\u001b[39;00m:\n\u001b[1;32m    270\u001b[0m   \u001b[38;5;28;01mraise\u001b[39;00m RequestError(\u001b[38;5;124m'\u001b[39m\u001b[38;5;124mmust provide either path or modelfile\u001b[39m\u001b[38;5;124m'\u001b[39m)\n\u001b[0;32m--> 272\u001b[0m \u001b[38;5;28;01mreturn\u001b[39;00m \u001b[38;5;28;43mself\u001b[39;49m\u001b[38;5;241;43m.\u001b[39;49m\u001b[43m_request_stream\u001b[49m\u001b[43m(\u001b[49m\n\u001b[1;32m    273\u001b[0m \u001b[43m  \u001b[49m\u001b[38;5;124;43m'\u001b[39;49m\u001b[38;5;124;43mPOST\u001b[39;49m\u001b[38;5;124;43m'\u001b[39;49m\u001b[43m,\u001b[49m\n\u001b[1;32m    274\u001b[0m \u001b[43m  \u001b[49m\u001b[38;5;124;43m'\u001b[39;49m\u001b[38;5;124;43m/api/create\u001b[39;49m\u001b[38;5;124;43m'\u001b[39;49m\u001b[43m,\u001b[49m\n\u001b[1;32m    275\u001b[0m \u001b[43m  \u001b[49m\u001b[43mjson\u001b[49m\u001b[38;5;241;43m=\u001b[39;49m\u001b[43m{\u001b[49m\n\u001b[1;32m    276\u001b[0m \u001b[43m    \u001b[49m\u001b[38;5;124;43m'\u001b[39;49m\u001b[38;5;124;43mname\u001b[39;49m\u001b[38;5;124;43m'\u001b[39;49m\u001b[43m:\u001b[49m\u001b[43m \u001b[49m\u001b[43mmodel\u001b[49m\u001b[43m,\u001b[49m\n\u001b[1;32m    277\u001b[0m \u001b[43m    \u001b[49m\u001b[38;5;124;43m'\u001b[39;49m\u001b[38;5;124;43mmodelfile\u001b[39;49m\u001b[38;5;124;43m'\u001b[39;49m\u001b[43m:\u001b[49m\u001b[43m \u001b[49m\u001b[43mmodelfile\u001b[49m\u001b[43m,\u001b[49m\n\u001b[1;32m    278\u001b[0m \u001b[43m    \u001b[49m\u001b[38;5;124;43m'\u001b[39;49m\u001b[38;5;124;43mstream\u001b[39;49m\u001b[38;5;124;43m'\u001b[39;49m\u001b[43m:\u001b[49m\u001b[43m \u001b[49m\u001b[43mstream\u001b[49m\u001b[43m,\u001b[49m\n\u001b[1;32m    279\u001b[0m \u001b[43m  \u001b[49m\u001b[43m}\u001b[49m\u001b[43m,\u001b[49m\n\u001b[1;32m    280\u001b[0m \u001b[43m  \u001b[49m\u001b[43mstream\u001b[49m\u001b[38;5;241;43m=\u001b[39;49m\u001b[43mstream\u001b[49m\u001b[43m,\u001b[49m\n\u001b[1;32m    281\u001b[0m \u001b[43m\u001b[49m\u001b[43m)\u001b[49m\n",
      "File \u001b[0;32m/nix/store/n17dzrkzzsfcmlkxcq9viqm11hbvmzin-python3-3.11.9-env/lib/python3.11/site-packages/ollama/_client.py:97\u001b[0m, in \u001b[0;36mClient._request_stream\u001b[0;34m(self, stream, *args, **kwargs)\u001b[0m\n\u001b[1;32m     91\u001b[0m \u001b[38;5;28;01mdef\u001b[39;00m \u001b[38;5;21m_request_stream\u001b[39m(\n\u001b[1;32m     92\u001b[0m   \u001b[38;5;28mself\u001b[39m,\n\u001b[1;32m     93\u001b[0m   \u001b[38;5;241m*\u001b[39margs,\n\u001b[1;32m     94\u001b[0m   stream: \u001b[38;5;28mbool\u001b[39m \u001b[38;5;241m=\u001b[39m \u001b[38;5;28;01mFalse\u001b[39;00m,\n\u001b[1;32m     95\u001b[0m   \u001b[38;5;241m*\u001b[39m\u001b[38;5;241m*\u001b[39mkwargs,\n\u001b[1;32m     96\u001b[0m ) \u001b[38;5;241m-\u001b[39m\u001b[38;5;241m>\u001b[39m Union[Mapping[\u001b[38;5;28mstr\u001b[39m, Any], Iterator[Mapping[\u001b[38;5;28mstr\u001b[39m, Any]]]:\n\u001b[0;32m---> 97\u001b[0m   \u001b[38;5;28;01mreturn\u001b[39;00m \u001b[38;5;28mself\u001b[39m\u001b[38;5;241m.\u001b[39m_stream(\u001b[38;5;241m*\u001b[39margs, \u001b[38;5;241m*\u001b[39m\u001b[38;5;241m*\u001b[39mkwargs) \u001b[38;5;28;01mif\u001b[39;00m stream \u001b[38;5;28;01melse\u001b[39;00m \u001b[38;5;28;43mself\u001b[39;49m\u001b[38;5;241;43m.\u001b[39;49m\u001b[43m_request\u001b[49m\u001b[43m(\u001b[49m\u001b[38;5;241;43m*\u001b[39;49m\u001b[43margs\u001b[49m\u001b[43m,\u001b[49m\u001b[43m \u001b[49m\u001b[38;5;241;43m*\u001b[39;49m\u001b[38;5;241;43m*\u001b[39;49m\u001b[43mkwargs\u001b[49m\u001b[43m)\u001b[49m\u001b[38;5;241m.\u001b[39mjson()\n",
      "File \u001b[0;32m/nix/store/n17dzrkzzsfcmlkxcq9viqm11hbvmzin-python3-3.11.9-env/lib/python3.11/site-packages/ollama/_client.py:73\u001b[0m, in \u001b[0;36mClient._request\u001b[0;34m(self, method, url, **kwargs)\u001b[0m\n\u001b[1;32m     71\u001b[0m   response\u001b[38;5;241m.\u001b[39mraise_for_status()\n\u001b[1;32m     72\u001b[0m \u001b[38;5;28;01mexcept\u001b[39;00m httpx\u001b[38;5;241m.\u001b[39mHTTPStatusError \u001b[38;5;28;01mas\u001b[39;00m e:\n\u001b[0;32m---> 73\u001b[0m   \u001b[38;5;28;01mraise\u001b[39;00m ResponseError(e\u001b[38;5;241m.\u001b[39mresponse\u001b[38;5;241m.\u001b[39mtext, e\u001b[38;5;241m.\u001b[39mresponse\u001b[38;5;241m.\u001b[39mstatus_code) \u001b[38;5;28;01mfrom\u001b[39;00m \u001b[38;5;28;01mNone\u001b[39;00m\n\u001b[1;32m     75\u001b[0m \u001b[38;5;28;01mreturn\u001b[39;00m response\n",
      "\u001b[0;31mResponseError\u001b[0m: pull model manifest: Get \"https://registry.ollama.ai/v2/library/phi3/manifests/latest\": dial tcp: lookup registry.ollama.ai: i/o timeout"
     ]
    }
   ],
   "source": [
    "import ollama\n",
    "modelfile='''\n",
    "FROM phi3\n",
    "SYSTEM \"\"\"\n",
    "<|begin_of_text|>\n",
    "<|start_header_id|>system<|end_header_id|>\n",
    "You are responsible for categorizing discourse. You get a message from the user and must figure out what type of discourse it is.\n",
    "The following provides the definitions and associated examples in each category:\n",
    "Discussion UX: emphasizes User's opinion about the IMapBook interface, or media they wish we would include, user experience, media, relationship with the media. The relevant examples in this category includes: 'I'm finding this program a bit slow and difficult to work in. ','I am not a fan of the sound effect, but would be a fan of some pictures.'.\n",
    "Discussion Social: indicates Discussion that establishes or maintains a relationship and does NOT relate to the assignments. The relevant examples in this category includes 'Greetings','Hello! I am excited to work with you all.'.\n",
    "Discussion Procedure: refers to Discussion toward accomplishing a task. How should the task be accomplished? Specifically, discussion of how to complete the assignment.Big Question is about how does this work? What does the teacher want us to do with this assignment? The relevant examples in this category includes: 'Are we each supposed to submit our own interpretations or compose something together?','Did we submit it? Is that why it is blank now?','What time is everyone available to meet and complete the task?'.\n",
    "Discussion Deliberation: indicates Turns related to decision-making about the content…. Or writing or wording. It also indicates the internal procedure of an individual, and interpersonal functioning of the group. Big Question is about what should we do next? The relevant examples in this category includes: 'What should be included in a collaborative submission, how it should be worded.','What do you think about the questions? How should they be answered?','In terms of just answering, I feel like the tiger was behind the door, and later the King puts his daughter to trial…','That is exactly what I think as well.'.\n",
    "Discussion Seminar: indicates discussion on the meaning or interpretation of content, such as My interpretation vs. your interpretation. What does it mean? The relevant examples in this category include: 'Perhaps the content could mean this…','I mean I think it states that the king does love the daughter at some point though. Maybe not to enough of a degree not to put her to trial...but he does love her, just like to a degree she loved the man'.\n",
    "Discussion Imaginary: indicates discourse that places the learner in the discussion as an active participant. The relevant example includes 'does this mean that we are all like this too?'.\n",
    "The messages are from a message board discussing a story named The Lady and the Tiger.\n",
    "Respond with only the category of the provided text.\n",
    "If you cannot determine the category please only write Other.\n",
    "IT IS VERY IMPORTANT THAT YOU DO NOT EVER WRITE ANYTHING ELSE EXCEPT THE CATEGORY NAME OF THE MESSAGE.\n",
    "<|eot_id|>\n",
    "<|start_header_id|>user<|end_header_id|>\n",
    "Message:\n",
    "{{ .Prompt }}\n",
    "<|eot_id|>\n",
    "<|start_header_id|>assistant<|end_header_id|>\n",
    "Discourse type: \n",
    "\"\"\"\n",
    "'''\n",
    "\n",
    "ollama.create(model='discourse', modelfile=modelfile)"
   ]
  },
  {
   "cell_type": "code",
   "execution_count": 86,
   "id": "7b11f995-60fd-433e-a78e-d3a6698b47e0",
   "metadata": {},
   "outputs": [
    {
     "data": {
      "text/plain": [
       "\"BUT, he'd tell her which door leads to a man and which leads to the tiger, thinking that she will obviously choose to marry and live.\""
      ]
     },
     "execution_count": 86,
     "metadata": {},
     "output_type": "execute_result"
    }
   ],
   "source": [
    "df['Message'][140]"
   ]
  },
  {
   "cell_type": "code",
   "execution_count": 66,
   "id": "86312982-585a-41af-846a-e51fe23f85aa",
   "metadata": {},
   "outputs": [
    {
     "data": {
      "text/plain": [
       "'Seminar'"
      ]
     },
     "execution_count": 66,
     "metadata": {},
     "output_type": "execute_result"
    }
   ],
   "source": [
    "df['R2DiscussionType'][140]"
   ]
  },
  {
   "cell_type": "code",
   "execution_count": 87,
   "id": "8aeda8a5-aa2f-4735-9db9-6c487e4e8fef",
   "metadata": {},
   "outputs": [
    {
     "data": {
      "text/plain": [
       "'Discussion Seminar'"
      ]
     },
     "execution_count": 87,
     "metadata": {},
     "output_type": "execute_result"
    }
   ],
   "source": [
    "ollama.generate(model='discourse', prompt=\"I know I wouldn't be able to live with myself if I knew I was the reason the person I loved was killed in such a painful manner\")['response']"
   ]
  },
  {
   "cell_type": "code",
   "execution_count": 80,
   "id": "f9c60e82-fcf4-4142-8daf-f9e32583c093",
   "metadata": {},
   "outputs": [
    {
     "name": "stderr",
     "output_type": "stream",
     "text": [
      "100%|██████████| 606/606 [02:28<00:00,  4.08it/s]\n"
     ]
    }
   ],
   "source": [
    "from tqdm import tqdm\n",
    "responses = []\n",
    "for message in tqdm(df['Message']):\n",
    "    responses.append(ollama.generate(model='discourse', prompt=message)['response'])"
   ]
  },
  {
   "cell_type": "code",
   "execution_count": 81,
   "id": "efd569ac-61a5-4d2b-be28-9993c00f4d94",
   "metadata": {},
   "outputs": [],
   "source": [
    "responses = [response.replace('Discussion ', '') for response in responses]"
   ]
  },
  {
   "cell_type": "code",
   "execution_count": 82,
   "id": "6b9c5e29-daf0-4da9-a182-9c89bd67bfef",
   "metadata": {},
   "outputs": [],
   "source": [
    "response = [response if len(response) < 20 else 'Seminar' for response in responses]"
   ]
  },
  {
   "cell_type": "code",
   "execution_count": 83,
   "id": "09269ddf-abf5-4233-83e0-00b152c6939a",
   "metadata": {},
   "outputs": [
    {
     "data": {
      "text/plain": [
       "0.6402640264026402"
      ]
     },
     "execution_count": 83,
     "metadata": {},
     "output_type": "execute_result"
    }
   ],
   "source": [
    "np.mean([1 if a == b else 0 for a, b in zip(df['R2DiscussionType'], responses)])"
   ]
  },
  {
   "cell_type": "code",
   "execution_count": 84,
   "id": "4b6a26e4-5d72-4af0-8da6-24aefadb9373",
   "metadata": {},
   "outputs": [
    {
     "data": {
      "text/plain": [
       "{'model': 'discourse',\n",
       " 'created_at': '2024-05-20T18:51:52.976338125Z',\n",
       " 'response': 'Discussion Seminar',\n",
       " 'done': True,\n",
       " 'context': [128006,\n",
       "  9125,\n",
       "  128007,\n",
       "  1432,\n",
       "  128000,\n",
       "  198,\n",
       "  128006,\n",
       "  9125,\n",
       "  128007,\n",
       "  198,\n",
       "  2675,\n",
       "  527,\n",
       "  8647,\n",
       "  369,\n",
       "  22824,\n",
       "  4954,\n",
       "  41602,\n",
       "  13,\n",
       "  1472,\n",
       "  636,\n",
       "  264,\n",
       "  1984,\n",
       "  505,\n",
       "  279,\n",
       "  1217,\n",
       "  323,\n",
       "  2011,\n",
       "  7216,\n",
       "  704,\n",
       "  1148,\n",
       "  955,\n",
       "  315,\n",
       "  41602,\n",
       "  433,\n",
       "  374,\n",
       "  13,\n",
       "  198,\n",
       "  791,\n",
       "  2768,\n",
       "  5825,\n",
       "  279,\n",
       "  17931,\n",
       "  323,\n",
       "  5938,\n",
       "  10507,\n",
       "  304,\n",
       "  1855,\n",
       "  5699,\n",
       "  25,\n",
       "  198,\n",
       "  72121,\n",
       "  62593,\n",
       "  25,\n",
       "  66159,\n",
       "  2724,\n",
       "  596,\n",
       "  9647,\n",
       "  922,\n",
       "  279,\n",
       "  358,\n",
       "  2276,\n",
       "  7280,\n",
       "  3834,\n",
       "  11,\n",
       "  477,\n",
       "  3772,\n",
       "  814,\n",
       "  6562,\n",
       "  584,\n",
       "  1053,\n",
       "  2997,\n",
       "  11,\n",
       "  1217,\n",
       "  3217,\n",
       "  11,\n",
       "  3772,\n",
       "  11,\n",
       "  5133,\n",
       "  449,\n",
       "  279,\n",
       "  3772,\n",
       "  13,\n",
       "  578,\n",
       "  9959,\n",
       "  10507,\n",
       "  304,\n",
       "  420,\n",
       "  5699,\n",
       "  5764,\n",
       "  25,\n",
       "  364,\n",
       "  40,\n",
       "  2846,\n",
       "  9455,\n",
       "  420,\n",
       "  2068,\n",
       "  264,\n",
       "  2766,\n",
       "  6435,\n",
       "  323,\n",
       "  5107,\n",
       "  311,\n",
       "  990,\n",
       "  304,\n",
       "  13,\n",
       "  23058,\n",
       "  40,\n",
       "  1097,\n",
       "  539,\n",
       "  264,\n",
       "  8571,\n",
       "  315,\n",
       "  279,\n",
       "  5222,\n",
       "  2515,\n",
       "  11,\n",
       "  719,\n",
       "  1053,\n",
       "  387,\n",
       "  264,\n",
       "  8571,\n",
       "  315,\n",
       "  1063,\n",
       "  9364,\n",
       "  37049,\n",
       "  198,\n",
       "  72121,\n",
       "  9983,\n",
       "  25,\n",
       "  15151,\n",
       "  36613,\n",
       "  430,\n",
       "  64664,\n",
       "  477,\n",
       "  33095,\n",
       "  264,\n",
       "  5133,\n",
       "  323,\n",
       "  1587,\n",
       "  4276,\n",
       "  29243,\n",
       "  311,\n",
       "  279,\n",
       "  32272,\n",
       "  13,\n",
       "  578,\n",
       "  9959,\n",
       "  10507,\n",
       "  304,\n",
       "  420,\n",
       "  5699,\n",
       "  5764,\n",
       "  364,\n",
       "  92886,\n",
       "  1882,\n",
       "  9906,\n",
       "  0,\n",
       "  358,\n",
       "  1097,\n",
       "  12304,\n",
       "  311,\n",
       "  990,\n",
       "  449,\n",
       "  499,\n",
       "  682,\n",
       "  37049,\n",
       "  198,\n",
       "  72121,\n",
       "  45546,\n",
       "  25,\n",
       "  19813,\n",
       "  311,\n",
       "  36613,\n",
       "  9017,\n",
       "  13390,\n",
       "  11218,\n",
       "  264,\n",
       "  3465,\n",
       "  13,\n",
       "  2650,\n",
       "  1288,\n",
       "  279,\n",
       "  3465,\n",
       "  387,\n",
       "  27332,\n",
       "  30,\n",
       "  45863,\n",
       "  11,\n",
       "  10430,\n",
       "  315,\n",
       "  1268,\n",
       "  311,\n",
       "  4686,\n",
       "  279,\n",
       "  16720,\n",
       "  70323,\n",
       "  16225,\n",
       "  374,\n",
       "  922,\n",
       "  1268,\n",
       "  1587,\n",
       "  420,\n",
       "  990,\n",
       "  30,\n",
       "  3639,\n",
       "  1587,\n",
       "  279,\n",
       "  11326,\n",
       "  1390,\n",
       "  603,\n",
       "  311,\n",
       "  656,\n",
       "  449,\n",
       "  420,\n",
       "  16720,\n",
       "  30,\n",
       "  578,\n",
       "  9959,\n",
       "  10507,\n",
       "  304,\n",
       "  420,\n",
       "  5699,\n",
       "  5764,\n",
       "  25,\n",
       "  364,\n",
       "  11787,\n",
       "  584,\n",
       "  1855,\n",
       "  10171,\n",
       "  311,\n",
       "  9502,\n",
       "  1057,\n",
       "  1866,\n",
       "  58689,\n",
       "  477,\n",
       "  31435,\n",
       "  2555,\n",
       "  3871,\n",
       "  30,\n",
       "  1882,\n",
       "  7131,\n",
       "  584,\n",
       "  9502,\n",
       "  433,\n",
       "  30,\n",
       "  2209,\n",
       "  430,\n",
       "  3249,\n",
       "  433,\n",
       "  374,\n",
       "  10321,\n",
       "  1457,\n",
       "  30,\n",
       "  1882,\n",
       "  3923,\n",
       "  892,\n",
       "  374,\n",
       "  5127,\n",
       "  2561,\n",
       "  311,\n",
       "  3449,\n",
       "  323,\n",
       "  4686,\n",
       "  279,\n",
       "  3465,\n",
       "  30,\n",
       "  4527,\n",
       "  198,\n",
       "  72121,\n",
       "  7462,\n",
       "  8799,\n",
       "  367,\n",
       "  25,\n",
       "  15151,\n",
       "  58334,\n",
       "  5552,\n",
       "  311,\n",
       "  5597,\n",
       "  28846,\n",
       "  922,\n",
       "  279,\n",
       "  2262,\n",
       "  21060,\n",
       "  2582,\n",
       "  4477,\n",
       "  477,\n",
       "  61327,\n",
       "  13,\n",
       "  1102,\n",
       "  1101,\n",
       "  15151,\n",
       "  279,\n",
       "  5419,\n",
       "  10537,\n",
       "  315,\n",
       "  459,\n",
       "  3927,\n",
       "  11,\n",
       "  323,\n",
       "  74958,\n",
       "  31301,\n",
       "  315,\n",
       "  279,\n",
       "  1912,\n",
       "  13,\n",
       "  6295,\n",
       "  16225,\n",
       "  374,\n",
       "  922,\n",
       "  1148,\n",
       "  1288,\n",
       "  584,\n",
       "  656,\n",
       "  1828,\n",
       "  30,\n",
       "  578,\n",
       "  9959,\n",
       "  10507,\n",
       "  304,\n",
       "  420,\n",
       "  5699,\n",
       "  5764,\n",
       "  25,\n",
       "  364,\n",
       "  3923,\n",
       "  1288,\n",
       "  387,\n",
       "  5343,\n",
       "  304,\n",
       "  264,\n",
       "  40806,\n",
       "  21142,\n",
       "  11,\n",
       "  1268,\n",
       "  433,\n",
       "  1288,\n",
       "  387,\n",
       "  3492,\n",
       "  291,\n",
       "  72082,\n",
       "  3923,\n",
       "  656,\n",
       "  499,\n",
       "  1781,\n",
       "  922,\n",
       "  279,\n",
       "  4860,\n",
       "  30,\n",
       "  2650,\n",
       "  1288,\n",
       "  814,\n",
       "  387,\n",
       "  19089,\n",
       "  30,\n",
       "  1882,\n",
       "  644,\n",
       "  3878,\n",
       "  315,\n",
       "  1120,\n",
       "  36864,\n",
       "  11,\n",
       "  358,\n",
       "  2733,\n",
       "  1093,\n",
       "  279,\n",
       "  52835,\n",
       "  574,\n",
       "  4920,\n",
       "  279,\n",
       "  6134,\n",
       "  11,\n",
       "  323,\n",
       "  3010,\n",
       "  279,\n",
       "  6342,\n",
       "  9711,\n",
       "  813,\n",
       "  10003,\n",
       "  311,\n",
       "  9269,\n",
       "  1981,\n",
       "  1882,\n",
       "  4897,\n",
       "  374,\n",
       "  7041,\n",
       "  1148,\n",
       "  358,\n",
       "  1781,\n",
       "  439,\n",
       "  1664,\n",
       "  37049,\n",
       "  198,\n",
       "  72121,\n",
       "  83282,\n",
       "  25,\n",
       "  15151,\n",
       "  10430,\n",
       "  389,\n",
       "  279,\n",
       "  7438,\n",
       "  477,\n",
       "  23692,\n",
       "  315,\n",
       "  2262,\n",
       "  11,\n",
       "  1778,\n",
       "  439,\n",
       "  3092,\n",
       "  23692,\n",
       "  6296,\n",
       "  13,\n",
       "  701,\n",
       "  23692,\n",
       "  13,\n",
       "  3639,\n",
       "  1587,\n",
       "  433,\n",
       "  3152,\n",
       "  30,\n",
       "  578,\n",
       "  9959,\n",
       "  10507,\n",
       "  304,\n",
       "  420,\n",
       "  5699,\n",
       "  2997,\n",
       "  25,\n",
       "  364,\n",
       "  32576,\n",
       "  279,\n",
       "  2262,\n",
       "  1436,\n",
       "  3152,\n",
       "  420,\n",
       "  1981,\n",
       "  1882,\n",
       "  40,\n",
       "  3152,\n",
       "  358,\n",
       "  1781,\n",
       "  433,\n",
       "  5415,\n",
       "  430,\n",
       "  279,\n",
       "  11734,\n",
       "  1587,\n",
       "  3021,\n",
       "  279,\n",
       "  10003,\n",
       "  520,\n",
       "  1063,\n",
       "  1486,\n",
       "  3582,\n",
       "  13,\n",
       "  10926,\n",
       "  539,\n",
       "  311,\n",
       "  3403,\n",
       "  315,\n",
       "  264,\n",
       "  8547,\n",
       "  539,\n",
       "  311,\n",
       "  2231,\n",
       "  1077,\n",
       "  311,\n",
       "  9269,\n",
       "  1131,\n",
       "  8248,\n",
       "  568,\n",
       "  1587,\n",
       "  3021,\n",
       "  1077,\n",
       "  11,\n",
       "  1120,\n",
       "  1093,\n",
       "  311,\n",
       "  264,\n",
       "  8547,\n",
       "  1364,\n",
       "  10456,\n",
       "  279,\n",
       "  893,\n",
       "  4527,\n",
       "  198,\n",
       "  72121,\n",
       "  77533,\n",
       "  3367,\n",
       "  25,\n",
       "  15151,\n",
       "  41602,\n",
       "  430,\n",
       "  7634,\n",
       "  279,\n",
       "  64060,\n",
       "  304,\n",
       "  279,\n",
       "  10430,\n",
       "  439,\n",
       "  459,\n",
       "  4642,\n",
       "  25923,\n",
       "  13,\n",
       "  578,\n",
       "  9959,\n",
       "  3187,\n",
       "  5764,\n",
       "  220,\n",
       "  4265,\n",
       "  7217,\n",
       "  420,\n",
       "  3152,\n",
       "  430,\n",
       "  584,\n",
       "  527,\n",
       "  682,\n",
       "  1093,\n",
       "  420,\n",
       "  2288,\n",
       "  30,\n",
       "  4527,\n",
       "  198,\n",
       "  791,\n",
       "  6743,\n",
       "  527,\n",
       "  505,\n",
       "  264,\n",
       "  1984,\n",
       "  4580,\n",
       "  25394,\n",
       "  264,\n",
       "  3446,\n",
       "  7086,\n",
       "  578,\n",
       "  21270,\n",
       "  323,\n",
       "  279,\n",
       "  36845,\n",
       "  13,\n",
       "  198,\n",
       "  66454,\n",
       "  449,\n",
       "  1193,\n",
       "  279,\n",
       "  5699,\n",
       "  315,\n",
       "  279,\n",
       "  3984,\n",
       "  1495,\n",
       "  13,\n",
       "  198,\n",
       "  2746,\n",
       "  499,\n",
       "  4250,\n",
       "  8417,\n",
       "  279,\n",
       "  5699,\n",
       "  4587,\n",
       "  1193,\n",
       "  3350,\n",
       "  7089,\n",
       "  13,\n",
       "  198,\n",
       "  964,\n",
       "  3507,\n",
       "  48174,\n",
       "  68240,\n",
       "  26336,\n",
       "  15334,\n",
       "  9503,\n",
       "  4276,\n",
       "  74766,\n",
       "  39652,\n",
       "  4230,\n",
       "  57764,\n",
       "  54026,\n",
       "  4154,\n",
       "  21752,\n",
       "  3247,\n",
       "  87147,\n",
       "  19668,\n",
       "  3083,\n",
       "  3247,\n",
       "  41858,\n",
       "  627,\n",
       "  128009,\n",
       "  198,\n",
       "  128006,\n",
       "  882,\n",
       "  128007,\n",
       "  198,\n",
       "  2097,\n",
       "  25,\n",
       "  198,\n",
       "  3052,\n",
       "  662,\n",
       "  55715,\n",
       "  8256,\n",
       "  128009,\n",
       "  198,\n",
       "  128006,\n",
       "  78191,\n",
       "  128007,\n",
       "  198,\n",
       "  24374,\n",
       "  5366,\n",
       "  955,\n",
       "  25,\n",
       "  720,\n",
       "  128009,\n",
       "  128006,\n",
       "  882,\n",
       "  128007,\n",
       "  198,\n",
       "  198,\n",
       "  40,\n",
       "  1440,\n",
       "  358,\n",
       "  8434,\n",
       "  956,\n",
       "  387,\n",
       "  3025,\n",
       "  311,\n",
       "  3974,\n",
       "  449,\n",
       "  7182,\n",
       "  422,\n",
       "  358,\n",
       "  7020,\n",
       "  358,\n",
       "  574,\n",
       "  279,\n",
       "  2944,\n",
       "  279,\n",
       "  1732,\n",
       "  358,\n",
       "  10456,\n",
       "  574,\n",
       "  7577,\n",
       "  304,\n",
       "  1778,\n",
       "  264,\n",
       "  26175,\n",
       "  11827,\n",
       "  128009,\n",
       "  128006,\n",
       "  78191,\n",
       "  128007,\n",
       "  198,\n",
       "  198,\n",
       "  72121,\n",
       "  83282,\n",
       "  128009],\n",
       " 'total_duration': 4242253799,\n",
       " 'load_duration': 2837019093,\n",
       " 'prompt_eval_count': 649,\n",
       " 'prompt_eval_duration': 1340046000,\n",
       " 'eval_count': 3,\n",
       " 'eval_duration': 64746000}"
      ]
     },
     "execution_count": 84,
     "metadata": {},
     "output_type": "execute_result"
    }
   ],
   "source": [
    "contexts = []\n",
    "for message in tqdm(df['Message']):\n",
    "    responses.append(ollama.generate(model='discourse', prompt=message)['response'])"
   ]
  },
  {
   "cell_type": "code",
   "execution_count": 89,
   "id": "d372087a-a70a-47fd-bd6d-5c5063ea5e5a",
   "metadata": {},
   "outputs": [],
   "source": [
    "ollama_emb = OllamaEmbeddings(\n",
    "    model=\"llama3\",\n",
    "    # embed_instruction=instructions\n",
    ")"
   ]
  },
  {
   "cell_type": "code",
   "execution_count": 90,
   "id": "23d46d7b-f68f-42ad-92a7-2cd4aecb05ef",
   "metadata": {},
   "outputs": [],
   "source": [
    "embeddings  = ollama_emb.embed_documents(list(df['Message']))"
   ]
  },
  {
   "cell_type": "code",
   "execution_count": 91,
   "id": "c67b18c0-e73a-4c13-906c-363acf387823",
   "metadata": {},
   "outputs": [],
   "source": [
    "embeddings = np.array(embeddings)"
   ]
  },
  {
   "cell_type": "markdown",
   "id": "1465d4ee-6306-4a0d-bad7-adf8311c256b",
   "metadata": {},
   "source": [
    "Get labels"
   ]
  },
  {
   "cell_type": "code",
   "execution_count": 92,
   "id": "f8020ad4-d0f3-40a9-9e84-645042031e2c",
   "metadata": {},
   "outputs": [],
   "source": [
    "labels = df['R2DiscussionType'].map(lambda x: next((i for i, v in enumerate(np.unique(df['R2DiscussionType'])) if v == x), None))"
   ]
  },
  {
   "cell_type": "markdown",
   "id": "a34c0284-ff62-4581-8056-21df8e1a2c4b",
   "metadata": {},
   "source": [
    "Reduce dimensionality"
   ]
  },
  {
   "cell_type": "code",
   "execution_count": 93,
   "id": "32fb3b13-0b98-4c46-b076-2826dfa4686d",
   "metadata": {},
   "outputs": [],
   "source": [
    "import umap"
   ]
  },
  {
   "cell_type": "code",
   "execution_count": 94,
   "id": "73b25b72-41d5-4273-99f3-835cab462b96",
   "metadata": {},
   "outputs": [],
   "source": [
    "reducer = umap.UMAP()"
   ]
  },
  {
   "cell_type": "code",
   "execution_count": 95,
   "id": "1d03cefd-2fe3-46b0-81fd-7d1d63fb044d",
   "metadata": {},
   "outputs": [
    {
     "data": {
      "text/plain": [
       "(606, 2)"
      ]
     },
     "execution_count": 95,
     "metadata": {},
     "output_type": "execute_result"
    }
   ],
   "source": [
    "reduced = reducer.fit_transform(embeddings)\n",
    "reduced.shape"
   ]
  },
  {
   "cell_type": "markdown",
   "id": "cecf57aa-49a0-465a-8729-681c478835fe",
   "metadata": {},
   "source": [
    "Plot UMAP"
   ]
  },
  {
   "cell_type": "code",
   "execution_count": 96,
   "id": "14ab6266-7dca-4522-9df7-bb1e6025d299",
   "metadata": {},
   "outputs": [],
   "source": [
    "from matplotlib import pyplot as plt"
   ]
  },
  {
   "cell_type": "code",
   "execution_count": 97,
   "id": "e2d82fae-b610-4739-86be-c2b0879ffba5",
   "metadata": {},
   "outputs": [
    {
     "data": {
      "image/png": "[encoded data removed]",
      "text/plain": [
       "<Figure size 640x480 with 1 Axes>"
      ]
     },
     "metadata": {},
     "output_type": "display_data"
    }
   ],
   "source": [
    "plt.scatter(\n",
    "    reduced[:, 0],\n",
    "    reduced[:, 1],\n",
    "    c=labels\n",
    ")\n",
    "plt.show()"
   ]
  },
  {
   "cell_type": "code",
   "execution_count": 98,
   "id": "65ef9cd8-0c29-4df9-908b-f34a87e8dae2",
   "metadata": {},
   "outputs": [],
   "source": [
    "from sklearn.cluster import KMeans"
   ]
  },
  {
   "cell_type": "markdown",
   "id": "f30d1d1c-c8aa-4908-9d31-67f05d4b2f3d",
   "metadata": {},
   "source": [
    "Looking at what groups we get"
   ]
  },
  {
   "cell_type": "code",
   "execution_count": 99,
   "id": "ca3a89e6-fa29-489f-9bd6-dbf7c97563ff",
   "metadata": {},
   "outputs": [
    {
     "data": {
      "text/html": [
       "<style>#sk-container-id-1 {\n",
       "  /* Definition of color scheme common for light and dark mode */\n",
       "  --sklearn-color-text: black;\n",
       "  --sklearn-color-line: gray;\n",
       "  /* Definition of color scheme for unfitted estimators */\n",
       "  --sklearn-color-unfitted-level-0: #fff5e6;\n",
       "  --sklearn-color-unfitted-level-1: #f6e4d2;\n",
       "  --sklearn-color-unfitted-level-2: #ffe0b3;\n",
       "  --sklearn-color-unfitted-level-3: chocolate;\n",
       "  /* Definition of color scheme for fitted estimators */\n",
       "  --sklearn-color-fitted-level-0: #f0f8ff;\n",
       "  --sklearn-color-fitted-level-1: #d4ebff;\n",
       "  --sklearn-color-fitted-level-2: #b3dbfd;\n",
       "  --sklearn-color-fitted-level-3: cornflowerblue;\n",
       "\n",
       "  /* Specific color for light theme */\n",
       "  --sklearn-color-text-on-default-background: var(--sg-text-color, var(--theme-code-foreground, var(--jp-content-font-color1, black)));\n",
       "  --sklearn-color-background: var(--sg-background-color, var(--theme-background, var(--jp-layout-color0, white)));\n",
       "  --sklearn-color-border-box: var(--sg-text-color, var(--theme-code-foreground, var(--jp-content-font-color1, black)));\n",
       "  --sklearn-color-icon: #696969;\n",
       "\n",
       "  @media (prefers-color-scheme: dark) {\n",
       "    /* Redefinition of color scheme for dark theme */\n",
       "    --sklearn-color-text-on-default-background: var(--sg-text-color, var(--theme-code-foreground, var(--jp-content-font-color1, white)));\n",
       "    --sklearn-color-background: var(--sg-background-color, var(--theme-background, var(--jp-layout-color0, #111)));\n",
       "    --sklearn-color-border-box: var(--sg-text-color, var(--theme-code-foreground, var(--jp-content-font-color1, white)));\n",
       "    --sklearn-color-icon: #878787;\n",
       "  }\n",
       "}\n",
       "\n",
       "#sk-container-id-1 {\n",
       "  color: var(--sklearn-color-text);\n",
       "}\n",
       "\n",
       "#sk-container-id-1 pre {\n",
       "  padding: 0;\n",
       "}\n",
       "\n",
       "#sk-container-id-1 input.sk-hidden--visually {\n",
       "  border: 0;\n",
       "  clip: rect(1px 1px 1px 1px);\n",
       "  clip: rect(1px, 1px, 1px, 1px);\n",
       "  height: 1px;\n",
       "  margin: -1px;\n",
       "  overflow: hidden;\n",
       "  padding: 0;\n",
       "  position: absolute;\n",
       "  width: 1px;\n",
       "}\n",
       "\n",
       "#sk-container-id-1 div.sk-dashed-wrapped {\n",
       "  border: 1px dashed var(--sklearn-color-line);\n",
       "  margin: 0 0.4em 0.5em 0.4em;\n",
       "  box-sizing: border-box;\n",
       "  padding-bottom: 0.4em;\n",
       "  background-color: var(--sklearn-color-background);\n",
       "}\n",
       "\n",
       "#sk-container-id-1 div.sk-container {\n",
       "  /* jupyter's `normalize.less` sets `[hidden] { display: none; }`\n",
       "     but bootstrap.min.css set `[hidden] { display: none !important; }`\n",
       "     so we also need the `!important` here to be able to override the\n",
       "     default hidden behavior on the sphinx rendered scikit-learn.org.\n",
       "     See: https://github.com/scikit-learn/scikit-learn/issues/21755 */\n",
       "  display: inline-block !important;\n",
       "  position: relative;\n",
       "}\n",
       "\n",
       "#sk-container-id-1 div.sk-text-repr-fallback {\n",
       "  display: none;\n",
       "}\n",
       "\n",
       "div.sk-parallel-item,\n",
       "div.sk-serial,\n",
       "div.sk-item {\n",
       "  /* draw centered vertical line to link estimators */\n",
       "  background-image: linear-gradient(var(--sklearn-color-text-on-default-background), var(--sklearn-color-text-on-default-background));\n",
       "  background-size: 2px 100%;\n",
       "  background-repeat: no-repeat;\n",
       "  background-position: center center;\n",
       "}\n",
       "\n",
       "/* Parallel-specific style estimator block */\n",
       "\n",
       "#sk-container-id-1 div.sk-parallel-item::after {\n",
       "  content: \"\";\n",
       "  width: 100%;\n",
       "  border-bottom: 2px solid var(--sklearn-color-text-on-default-background);\n",
       "  flex-grow: 1;\n",
       "}\n",
       "\n",
       "#sk-container-id-1 div.sk-parallel {\n",
       "  display: flex;\n",
       "  align-items: stretch;\n",
       "  justify-content: center;\n",
       "  background-color: var(--sklearn-color-background);\n",
       "  position: relative;\n",
       "}\n",
       "\n",
       "#sk-container-id-1 div.sk-parallel-item {\n",
       "  display: flex;\n",
       "  flex-direction: column;\n",
       "}\n",
       "\n",
       "#sk-container-id-1 div.sk-parallel-item:first-child::after {\n",
       "  align-self: flex-end;\n",
       "  width: 50%;\n",
       "}\n",
       "\n",
       "#sk-container-id-1 div.sk-parallel-item:last-child::after {\n",
       "  align-self: flex-start;\n",
       "  width: 50%;\n",
       "}\n",
       "\n",
       "#sk-container-id-1 div.sk-parallel-item:only-child::after {\n",
       "  width: 0;\n",
       "}\n",
       "\n",
       "/* Serial-specific style estimator block */\n",
       "\n",
       "#sk-container-id-1 div.sk-serial {\n",
       "  display: flex;\n",
       "  flex-direction: column;\n",
       "  align-items: center;\n",
       "  background-color: var(--sklearn-color-background);\n",
       "  padding-right: 1em;\n",
       "  padding-left: 1em;\n",
       "}\n",
       "\n",
       "\n",
       "/* Toggleable style: style used for estimator/Pipeline/ColumnTransformer box that is\n",
       "clickable and can be expanded/collapsed.\n",
       "- Pipeline and ColumnTransformer use this feature and define the default style\n",
       "- Estimators will overwrite some part of the style using the `sk-estimator` class\n",
       "*/\n",
       "\n",
       "/* Pipeline and ColumnTransformer style (default) */\n",
       "\n",
       "#sk-container-id-1 div.sk-toggleable {\n",
       "  /* Default theme specific background. It is overwritten whether we have a\n",
       "  specific estimator or a Pipeline/ColumnTransformer */\n",
       "  background-color: var(--sklearn-color-background);\n",
       "}\n",
       "\n",
       "/* Toggleable label */\n",
       "#sk-container-id-1 label.sk-toggleable__label {\n",
       "  cursor: pointer;\n",
       "  display: block;\n",
       "  width: 100%;\n",
       "  margin-bottom: 0;\n",
       "  padding: 0.5em;\n",
       "  box-sizing: border-box;\n",
       "  text-align: center;\n",
       "}\n",
       "\n",
       "#sk-container-id-1 label.sk-toggleable__label-arrow:before {\n",
       "  /* Arrow on the left of the label */\n",
       "  content: \"▸\";\n",
       "  float: left;\n",
       "  margin-right: 0.25em;\n",
       "  color: var(--sklearn-color-icon);\n",
       "}\n",
       "\n",
       "#sk-container-id-1 label.sk-toggleable__label-arrow:hover:before {\n",
       "  color: var(--sklearn-color-text);\n",
       "}\n",
       "\n",
       "/* Toggleable content - dropdown */\n",
       "\n",
       "#sk-container-id-1 div.sk-toggleable__content {\n",
       "  max-height: 0;\n",
       "  max-width: 0;\n",
       "  overflow: hidden;\n",
       "  text-align: left;\n",
       "  /* unfitted */\n",
       "  background-color: var(--sklearn-color-unfitted-level-0);\n",
       "}\n",
       "\n",
       "#sk-container-id-1 div.sk-toggleable__content.fitted {\n",
       "  /* fitted */\n",
       "  background-color: var(--sklearn-color-fitted-level-0);\n",
       "}\n",
       "\n",
       "#sk-container-id-1 div.sk-toggleable__content pre {\n",
       "  margin: 0.2em;\n",
       "  border-radius: 0.25em;\n",
       "  color: var(--sklearn-color-text);\n",
       "  /* unfitted */\n",
       "  background-color: var(--sklearn-color-unfitted-level-0);\n",
       "}\n",
       "\n",
       "#sk-container-id-1 div.sk-toggleable__content.fitted pre {\n",
       "  /* unfitted */\n",
       "  background-color: var(--sklearn-color-fitted-level-0);\n",
       "}\n",
       "\n",
       "#sk-container-id-1 input.sk-toggleable__control:checked~div.sk-toggleable__content {\n",
       "  /* Expand drop-down */\n",
       "  max-height: 200px;\n",
       "  max-width: 100%;\n",
       "  overflow: auto;\n",
       "}\n",
       "\n",
       "#sk-container-id-1 input.sk-toggleable__control:checked~label.sk-toggleable__label-arrow:before {\n",
       "  content: \"▾\";\n",
       "}\n",
       "\n",
       "/* Pipeline/ColumnTransformer-specific style */\n",
       "\n",
       "#sk-container-id-1 div.sk-label input.sk-toggleable__control:checked~label.sk-toggleable__label {\n",
       "  color: var(--sklearn-color-text);\n",
       "  background-color: var(--sklearn-color-unfitted-level-2);\n",
       "}\n",
       "\n",
       "#sk-container-id-1 div.sk-label.fitted input.sk-toggleable__control:checked~label.sk-toggleable__label {\n",
       "  background-color: var(--sklearn-color-fitted-level-2);\n",
       "}\n",
       "\n",
       "/* Estimator-specific style */\n",
       "\n",
       "/* Colorize estimator box */\n",
       "#sk-container-id-1 div.sk-estimator input.sk-toggleable__control:checked~label.sk-toggleable__label {\n",
       "  /* unfitted */\n",
       "  background-color: var(--sklearn-color-unfitted-level-2);\n",
       "}\n",
       "\n",
       "#sk-container-id-1 div.sk-estimator.fitted input.sk-toggleable__control:checked~label.sk-toggleable__label {\n",
       "  /* fitted */\n",
       "  background-color: var(--sklearn-color-fitted-level-2);\n",
       "}\n",
       "\n",
       "#sk-container-id-1 div.sk-label label.sk-toggleable__label,\n",
       "#sk-container-id-1 div.sk-label label {\n",
       "  /* The background is the default theme color */\n",
       "  color: var(--sklearn-color-text-on-default-background);\n",
       "}\n",
       "\n",
       "/* On hover, darken the color of the background */\n",
       "#sk-container-id-1 div.sk-label:hover label.sk-toggleable__label {\n",
       "  color: var(--sklearn-color-text);\n",
       "  background-color: var(--sklearn-color-unfitted-level-2);\n",
       "}\n",
       "\n",
       "/* Label box, darken color on hover, fitted */\n",
       "#sk-container-id-1 div.sk-label.fitted:hover label.sk-toggleable__label.fitted {\n",
       "  color: var(--sklearn-color-text);\n",
       "  background-color: var(--sklearn-color-fitted-level-2);\n",
       "}\n",
       "\n",
       "/* Estimator label */\n",
       "\n",
       "#sk-container-id-1 div.sk-label label {\n",
       "  font-family: monospace;\n",
       "  font-weight: bold;\n",
       "  display: inline-block;\n",
       "  line-height: 1.2em;\n",
       "}\n",
       "\n",
       "#sk-container-id-1 div.sk-label-container {\n",
       "  text-align: center;\n",
       "}\n",
       "\n",
       "/* Estimator-specific */\n",
       "#sk-container-id-1 div.sk-estimator {\n",
       "  font-family: monospace;\n",
       "  border: 1px dotted var(--sklearn-color-border-box);\n",
       "  border-radius: 0.25em;\n",
       "  box-sizing: border-box;\n",
       "  margin-bottom: 0.5em;\n",
       "  /* unfitted */\n",
       "  background-color: var(--sklearn-color-unfitted-level-0);\n",
       "}\n",
       "\n",
       "#sk-container-id-1 div.sk-estimator.fitted {\n",
       "  /* fitted */\n",
       "  background-color: var(--sklearn-color-fitted-level-0);\n",
       "}\n",
       "\n",
       "/* on hover */\n",
       "#sk-container-id-1 div.sk-estimator:hover {\n",
       "  /* unfitted */\n",
       "  background-color: var(--sklearn-color-unfitted-level-2);\n",
       "}\n",
       "\n",
       "#sk-container-id-1 div.sk-estimator.fitted:hover {\n",
       "  /* fitted */\n",
       "  background-color: var(--sklearn-color-fitted-level-2);\n",
       "}\n",
       "\n",
       "/* Specification for estimator info (e.g. \"i\" and \"?\") */\n",
       "\n",
       "/* Common style for \"i\" and \"?\" */\n",
       "\n",
       ".sk-estimator-doc-link,\n",
       "a:link.sk-estimator-doc-link,\n",
       "a:visited.sk-estimator-doc-link {\n",
       "  float: right;\n",
       "  font-size: smaller;\n",
       "  line-height: 1em;\n",
       "  font-family: monospace;\n",
       "  background-color: var(--sklearn-color-background);\n",
       "  border-radius: 1em;\n",
       "  height: 1em;\n",
       "  width: 1em;\n",
       "  text-decoration: none !important;\n",
       "  margin-left: 1ex;\n",
       "  /* unfitted */\n",
       "  border: var(--sklearn-color-unfitted-level-1) 1pt solid;\n",
       "  color: var(--sklearn-color-unfitted-level-1);\n",
       "}\n",
       "\n",
       ".sk-estimator-doc-link.fitted,\n",
       "a:link.sk-estimator-doc-link.fitted,\n",
       "a:visited.sk-estimator-doc-link.fitted {\n",
       "  /* fitted */\n",
       "  border: var(--sklearn-color-fitted-level-1) 1pt solid;\n",
       "  color: var(--sklearn-color-fitted-level-1);\n",
       "}\n",
       "\n",
       "/* On hover */\n",
       "div.sk-estimator:hover .sk-estimator-doc-link:hover,\n",
       ".sk-estimator-doc-link:hover,\n",
       "div.sk-label-container:hover .sk-estimator-doc-link:hover,\n",
       ".sk-estimator-doc-link:hover {\n",
       "  /* unfitted */\n",
       "  background-color: var(--sklearn-color-unfitted-level-3);\n",
       "  color: var(--sklearn-color-background);\n",
       "  text-decoration: none;\n",
       "}\n",
       "\n",
       "div.sk-estimator.fitted:hover .sk-estimator-doc-link.fitted:hover,\n",
       ".sk-estimator-doc-link.fitted:hover,\n",
       "div.sk-label-container:hover .sk-estimator-doc-link.fitted:hover,\n",
       ".sk-estimator-doc-link.fitted:hover {\n",
       "  /* fitted */\n",
       "  background-color: var(--sklearn-color-fitted-level-3);\n",
       "  color: var(--sklearn-color-background);\n",
       "  text-decoration: none;\n",
       "}\n",
       "\n",
       "/* Span, style for the box shown on hovering the info icon */\n",
       ".sk-estimator-doc-link span {\n",
       "  display: none;\n",
       "  z-index: 9999;\n",
       "  position: relative;\n",
       "  font-weight: normal;\n",
       "  right: .2ex;\n",
       "  padding: .5ex;\n",
       "  margin: .5ex;\n",
       "  width: min-content;\n",
       "  min-width: 20ex;\n",
       "  max-width: 50ex;\n",
       "  color: var(--sklearn-color-text);\n",
       "  box-shadow: 2pt 2pt 4pt #999;\n",
       "  /* unfitted */\n",
       "  background: var(--sklearn-color-unfitted-level-0);\n",
       "  border: .5pt solid var(--sklearn-color-unfitted-level-3);\n",
       "}\n",
       "\n",
       ".sk-estimator-doc-link.fitted span {\n",
       "  /* fitted */\n",
       "  background: var(--sklearn-color-fitted-level-0);\n",
       "  border: var(--sklearn-color-fitted-level-3);\n",
       "}\n",
       "\n",
       ".sk-estimator-doc-link:hover span {\n",
       "  display: block;\n",
       "}\n",
       "\n",
       "/* \"?\"-specific style due to the `<a>` HTML tag */\n",
       "\n",
       "#sk-container-id-1 a.estimator_doc_link {\n",
       "  float: right;\n",
       "  font-size: 1rem;\n",
       "  line-height: 1em;\n",
       "  font-family: monospace;\n",
       "  background-color: var(--sklearn-color-background);\n",
       "  border-radius: 1rem;\n",
       "  height: 1rem;\n",
       "  width: 1rem;\n",
       "  text-decoration: none;\n",
       "  /* unfitted */\n",
       "  color: var(--sklearn-color-unfitted-level-1);\n",
       "  border: var(--sklearn-color-unfitted-level-1) 1pt solid;\n",
       "}\n",
       "\n",
       "#sk-container-id-1 a.estimator_doc_link.fitted {\n",
       "  /* fitted */\n",
       "  border: var(--sklearn-color-fitted-level-1) 1pt solid;\n",
       "  color: var(--sklearn-color-fitted-level-1);\n",
       "}\n",
       "\n",
       "/* On hover */\n",
       "#sk-container-id-1 a.estimator_doc_link:hover {\n",
       "  /* unfitted */\n",
       "  background-color: var(--sklearn-color-unfitted-level-3);\n",
       "  color: var(--sklearn-color-background);\n",
       "  text-decoration: none;\n",
       "}\n",
       "\n",
       "#sk-container-id-1 a.estimator_doc_link.fitted:hover {\n",
       "  /* fitted */\n",
       "  background-color: var(--sklearn-color-fitted-level-3);\n",
       "}\n",
       "</style><div id=\"sk-container-id-1\" class=\"sk-top-container\"><div class=\"sk-text-repr-fallback\"><pre>KMeans(n_clusters=4)</pre><b>In a Jupyter environment, please rerun this cell to show the HTML representation or trust the notebook. <br />On GitHub, the HTML representation is unable to render, please try loading this page with nbviewer.org.</b></div><div class=\"sk-container\" hidden><div class=\"sk-item\"><div class=\"sk-estimator fitted sk-toggleable\"><input class=\"sk-toggleable__control sk-hidden--visually\" id=\"sk-estimator-id-1\" type=\"checkbox\" checked><label for=\"sk-estimator-id-1\" class=\"sk-toggleable__label fitted sk-toggleable__label-arrow fitted\">&nbsp;&nbsp;KMeans<a class=\"sk-estimator-doc-link fitted\" rel=\"noreferrer\" target=\"_blank\" href=\"https://scikit-learn.org/1.4/modules/generated/sklearn.cluster.KMeans.html\">?<span>Documentation for KMeans</span></a><span class=\"sk-estimator-doc-link fitted\">i<span>Fitted</span></span></label><div class=\"sk-toggleable__content fitted\"><pre>KMeans(n_clusters=4)</pre></div> </div></div></div></div>"
      ],
      "text/plain": [
       "KMeans(n_clusters=4)"
      ]
     },
     "execution_count": 99,
     "metadata": {},
     "output_type": "execute_result"
    }
   ],
   "source": [
    "kmeans = KMeans(n_clusters=4)\n",
    "kmeans.fit(reduced)"
   ]
  },
  {
   "cell_type": "code",
   "execution_count": 100,
   "id": "5dad9b1a-9e4d-4f9e-8673-0d06d3b755a1",
   "metadata": {},
   "outputs": [
    {
     "data": {
      "image/png": "[encoded data removed]",
      "text/plain": [
       "<Figure size 640x480 with 1 Axes>"
      ]
     },
     "metadata": {},
     "output_type": "display_data"
    }
   ],
   "source": [
    "plt.scatter(reduced[:, 0], reduced[:, 1], c=kmeans.labels_)\n",
    "plt.show()"
   ]
  },
  {
   "cell_type": "code",
   "execution_count": 120,
   "id": "fe0be8bd-e7f4-49df-a500-6fdeee0806b0",
   "metadata": {},
   "outputs": [
    {
     "data": {
      "text/html": [
       "<div>\n",
       "<style scoped>\n",
       "    .dataframe tbody tr th:only-of-type {\n",
       "        vertical-align: middle;\n",
       "    }\n",
       "\n",
       "    .dataframe tbody tr th {\n",
       "        vertical-align: top;\n",
       "    }\n",
       "\n",
       "    .dataframe thead th {\n",
       "        text-align: right;\n",
       "    }\n",
       "</style>\n",
       "<table border=\"1\" class=\"dataframe\">\n",
       "  <thead>\n",
       "    <tr style=\"text-align: right;\">\n",
       "      <th></th>\n",
       "      <th>Message</th>\n",
       "      <th>R2DiscussionType</th>\n",
       "    </tr>\n",
       "  </thead>\n",
       "  <tbody>\n",
       "    <tr>\n",
       "      <th>0</th>\n",
       "      <td>Hello.</td>\n",
       "      <td>Social</td>\n",
       "    </tr>\n",
       "    <tr>\n",
       "      <th>3</th>\n",
       "      <td>I agree with Cassandra's noticing</td>\n",
       "      <td>Seminar</td>\n",
       "    </tr>\n",
       "    <tr>\n",
       "      <th>5</th>\n",
       "      <td>I loved the addition of</td>\n",
       "      <td>Seminar</td>\n",
       "    </tr>\n",
       "    <tr>\n",
       "      <th>6</th>\n",
       "      <td>Her lover would die and never love another.\"</td>\n",
       "      <td>Seminar</td>\n",
       "    </tr>\n",
       "    <tr>\n",
       "      <th>9</th>\n",
       "      <td>If the princess possesses the same semi-barbaric trait as her father, then it would seem she directed her lover to the door with the tiger.</td>\n",
       "      <td>Seminar</td>\n",
       "    </tr>\n",
       "    <tr>\n",
       "      <th>12</th>\n",
       "      <td>however, she only comments that a tiger would bring shrieks and blood. From her revealed thoughts, she is</td>\n",
       "      <td>Seminar</td>\n",
       "    </tr>\n",
       "    <tr>\n",
       "      <th>18</th>\n",
       "      <td>he would have to send his daughter to the arena for a judgement.</td>\n",
       "      <td>Seminar</td>\n",
       "    </tr>\n",
       "    <tr>\n",
       "      <th>23</th>\n",
       "      <td>imagine this to be the catalyst that ends his idea of public punishment.</td>\n",
       "      <td>Seminar</td>\n",
       "    </tr>\n",
       "    <tr>\n",
       "      <th>27</th>\n",
       "      <td>I agree with Ashely</td>\n",
       "      <td>Seminar</td>\n",
       "    </tr>\n",
       "    <tr>\n",
       "      <th>33</th>\n",
       "      <td>I had orgininally thought that the king would either keep her secret out of love for his daughter, or out of barbaric pride that she sent her lover to his grizzly death, or a combination of the two.</td>\n",
       "      <td>Seminar</td>\n",
       "    </tr>\n",
       "    <tr>\n",
       "      <th>35</th>\n",
       "      <td>I had not considered Ashley's idea that this experience might be an</td>\n",
       "      <td>Seminar</td>\n",
       "    </tr>\n",
       "    <tr>\n",
       "      <th>39</th>\n",
       "      <td>The more I think about this activity, the more I wonder if we are supposed to be collaboratively writing an end to the story.</td>\n",
       "      <td>Deliberation</td>\n",
       "    </tr>\n",
       "    <tr>\n",
       "      <th>40</th>\n",
       "      <td>Perhaps the top of this page (where we type and send messages) is for planning and the bottom (open white area) is for writing an end to the story?</td>\n",
       "      <td>UX</td>\n",
       "    </tr>\n",
       "    <tr>\n",
       "      <th>41</th>\n",
       "      <td>I'm overall a little confused by this entire module</td>\n",
       "      <td>Deliberation</td>\n",
       "    </tr>\n",
       "    <tr>\n",
       "      <th>43</th>\n",
       "      <td>I think you are correct, Ashley.</td>\n",
       "      <td>Deliberation</td>\n",
       "    </tr>\n",
       "    <tr>\n",
       "      <th>47</th>\n",
       "      <td>That sounds great, Meg!</td>\n",
       "      <td>Social</td>\n",
       "    </tr>\n",
       "    <tr>\n",
       "      <th>49</th>\n",
       "      <td>I’ll check in soon and add to it</td>\n",
       "      <td>Procedure</td>\n",
       "    </tr>\n",
       "    <tr>\n",
       "      <th>52</th>\n",
       "      <td>I am late to the discussion</td>\n",
       "      <td>Procedure</td>\n",
       "    </tr>\n",
       "    <tr>\n",
       "      <th>56</th>\n",
       "      <td>Just because she comes from a semi-barbaric King does not make her semi-barbaric.</td>\n",
       "      <td>Seminar</td>\n",
       "    </tr>\n",
       "    <tr>\n",
       "      <th>60</th>\n",
       "      <td>make sense to allow her lover to live out of love just as much as it would make sense for her to have him killed.</td>\n",
       "      <td>Seminar</td>\n",
       "    </tr>\n",
       "    <tr>\n",
       "      <th>66</th>\n",
       "      <td>As for the second part, only her lover saw her give the signal so the second part is questionable as it would be based on hearsay.</td>\n",
       "      <td>Seminar</td>\n",
       "    </tr>\n",
       "    <tr>\n",
       "      <th>68</th>\n",
       "      <td>Who knows?</td>\n",
       "      <td>Seminar</td>\n",
       "    </tr>\n",
       "    <tr>\n",
       "      <th>73</th>\n",
       "      <td>Part 1: For this question, our team decided that the princess chose the door with the tiger.</td>\n",
       "      <td>Seminar</td>\n",
       "    </tr>\n",
       "    <tr>\n",
       "      <th>78</th>\n",
       "      <td>What do you guys think?</td>\n",
       "      <td>Seminar</td>\n",
       "    </tr>\n",
       "    <tr>\n",
       "      <th>81</th>\n",
       "      <td>I kind of think that even though she is angry and jealous, she would ultimately save him.</td>\n",
       "      <td>Seminar</td>\n",
       "    </tr>\n",
       "    <tr>\n",
       "      <th>84</th>\n",
       "      <td>I also think that even if the king finds out that she knew the doors he will know that either choice that she makes is a punishment in its own right. She suffers either way</td>\n",
       "      <td>Seminar</td>\n",
       "    </tr>\n",
       "    <tr>\n",
       "      <th>86</th>\n",
       "      <td>And what if the king already knew that she had broken the law.</td>\n",
       "      <td>Seminar</td>\n",
       "    </tr>\n",
       "    <tr>\n",
       "      <th>91</th>\n",
       "      <td>Kyra, those are some good thoughts!</td>\n",
       "      <td>Seminar</td>\n",
       "    </tr>\n",
       "    <tr>\n",
       "      <th>95</th>\n",
       "      <td>But I do also think that it is possible that the King could be in on it too.</td>\n",
       "      <td>Seminar</td>\n",
       "    </tr>\n",
       "    <tr>\n",
       "      <th>97</th>\n",
       "      <td>Emilie I can see that.</td>\n",
       "      <td>Seminar</td>\n",
       "    </tr>\n",
       "    <tr>\n",
       "      <th>99</th>\n",
       "      <td>Not what do you think she would do, but what would you do if you were in the situation?</td>\n",
       "      <td>Imaginative entry</td>\n",
       "    </tr>\n",
       "    <tr>\n",
       "      <th>101</th>\n",
       "      <td>It would hurt worse to know his death was my fault than to know that he was happy with someone else.</td>\n",
       "      <td>Imaginative entry</td>\n",
       "    </tr>\n",
       "    <tr>\n",
       "      <th>105</th>\n",
       "      <td>Personally, I would save him.</td>\n",
       "      <td>Imaginative entry</td>\n",
       "    </tr>\n",
       "    <tr>\n",
       "      <th>106</th>\n",
       "      <td>I'd rather be sad for a little while that the person I loved married someone else, than let them get killed.</td>\n",
       "      <td>Imaginative entry</td>\n",
       "    </tr>\n",
       "    <tr>\n",
       "      <th>108</th>\n",
       "      <td>And that's true!</td>\n",
       "      <td>Imaginative entry</td>\n",
       "    </tr>\n",
       "    <tr>\n",
       "      <th>112</th>\n",
       "      <td>I agree with that so much!</td>\n",
       "      <td>Imaginative entry</td>\n",
       "    </tr>\n",
       "    <tr>\n",
       "      <th>114</th>\n",
       "      <td>Do we know how many people are part of this group?</td>\n",
       "      <td>Procedure</td>\n",
       "    </tr>\n",
       "    <tr>\n",
       "      <th>116</th>\n",
       "      <td>I'm not sure!</td>\n",
       "      <td>Procedure</td>\n",
       "    </tr>\n",
       "    <tr>\n",
       "      <th>122</th>\n",
       "      <td>okay awesome!</td>\n",
       "      <td>Procedure</td>\n",
       "    </tr>\n",
       "    <tr>\n",
       "      <th>126</th>\n",
       "      <td>I'm honestly okay with either ending,</td>\n",
       "      <td>Deliberation</td>\n",
       "    </tr>\n",
       "    <tr>\n",
       "      <th>127</th>\n",
       "      <td>but I think we should incorporate the King mentioning that he helped feed his daughter the information on what was behind each door.</td>\n",
       "      <td>Seminar</td>\n",
       "    </tr>\n",
       "    <tr>\n",
       "      <th>129</th>\n",
       "      <td>Also, I got an email letting us know that Elias Royal is also a part of our group.</td>\n",
       "      <td>Procedure</td>\n",
       "    </tr>\n",
       "    <tr>\n",
       "      <th>133</th>\n",
       "      <td>I'm also okay with either ending for Part 1 as well.</td>\n",
       "      <td>Seminar</td>\n",
       "    </tr>\n",
       "    <tr>\n",
       "      <th>138</th>\n",
       "      <td>As for Part 2, I have a theory.</td>\n",
       "      <td>Seminar</td>\n",
       "    </tr>\n",
       "    <tr>\n",
       "      <th>145</th>\n",
       "      <td>Oooo I like that idea of how he might send her to the arena and then tell her which is behind each door.</td>\n",
       "      <td>Seminar</td>\n",
       "    </tr>\n",
       "    <tr>\n",
       "      <th>148</th>\n",
       "      <td>And I almost think if we can't decide we might just flip a coin</td>\n",
       "      <td>Seminar</td>\n",
       "    </tr>\n",
       "    <tr>\n",
       "      <th>149</th>\n",
       "      <td>lol</td>\n",
       "      <td>Social</td>\n",
       "    </tr>\n",
       "    <tr>\n",
       "      <th>152</th>\n",
       "      <td>Flipping a coin may not be the worst idea, honestly!</td>\n",
       "      <td>Deliberation</td>\n",
       "    </tr>\n",
       "    <tr>\n",
       "      <th>153</th>\n",
       "      <td>I like the idea of writing a paragraph or a few sentences and then bouncing off from there.</td>\n",
       "      <td>Deliberation</td>\n",
       "    </tr>\n",
       "    <tr>\n",
       "      <th>155</th>\n",
       "      <td>Glad you like that idea</td>\n",
       "      <td>Social</td>\n",
       "    </tr>\n",
       "    <tr>\n",
       "      <th>161</th>\n",
       "      <td>Kyra, I LOVE what you did for part 1!!</td>\n",
       "      <td>Social</td>\n",
       "    </tr>\n",
       "    <tr>\n",
       "      <th>162</th>\n",
       "      <td>That's some amazing writing!</td>\n",
       "      <td>Social</td>\n",
       "    </tr>\n",
       "    <tr>\n",
       "      <th>170</th>\n",
       "      <td>Yeah I was wondering because when I click 'My Answer' at the top it says I haven't submitted one.</td>\n",
       "      <td>UX</td>\n",
       "    </tr>\n",
       "    <tr>\n",
       "      <th>171</th>\n",
       "      <td>So I don't know.</td>\n",
       "      <td>UX</td>\n",
       "    </tr>\n",
       "    <tr>\n",
       "      <th>173</th>\n",
       "      <td>Maybe!</td>\n",
       "      <td>UX</td>\n",
       "    </tr>\n",
       "    <tr>\n",
       "      <th>180</th>\n",
       "      <td>Part 1: It is such an agonizing question of whether the lady or the tiger is behind the door.</td>\n",
       "      <td>Seminar</td>\n",
       "    </tr>\n",
       "    <tr>\n",
       "      <th>183</th>\n",
       "      <td>that the lady is behind the door; that the princess might be able to also feel that to take another human life, even when that life has so greatly wronged you, is far worse than to</td>\n",
       "      <td>Seminar</td>\n",
       "    </tr>\n",
       "    <tr>\n",
       "      <th>185</th>\n",
       "      <td>^Gina, that is a really interesting point that you make,</td>\n",
       "      <td>Seminar</td>\n",
       "    </tr>\n",
       "    <tr>\n",
       "      <th>186</th>\n",
       "      <td>that he sentences the princess to the same trial that he is on.</td>\n",
       "      <td>Seminar</td>\n",
       "    </tr>\n",
       "    <tr>\n",
       "      <th>187</th>\n",
       "      <td>The text describes the anxiety of being in a huge stadium with a roaring crowd and the fear of being killed horribly by a tiger,</td>\n",
       "      <td>Seminar</td>\n",
       "    </tr>\n",
       "    <tr>\n",
       "      <th>191</th>\n",
       "      <td>Hi John,</td>\n",
       "      <td>Social</td>\n",
       "    </tr>\n",
       "    <tr>\n",
       "      <th>425</th>\n",
       "      <td>I agree,</td>\n",
       "      <td>Seminar</td>\n",
       "    </tr>\n",
       "    <tr>\n",
       "      <th>431</th>\n",
       "      <td>I agree with Anne Marie and Rachel,</td>\n",
       "      <td>Seminar</td>\n",
       "    </tr>\n",
       "    <tr>\n",
       "      <th>433</th>\n",
       "      <td>This is such an unfortunate story. It looks to me that no matter the choice, all parties will be unhappy. I'd like to think that even though she did inherit some of her dad's fury, she would still try to give her lover a chance and not ...</td>\n",
       "      <td>Seminar</td>\n",
       "    </tr>\n",
       "    <tr>\n",
       "      <th>435</th>\n",
       "      <td>I think the story is supposed to be a 'it's up to interpretation' kind of ending, but in a way that purposefully leads you to believe that she sends him to the tiger. But that feels like such a shallow stereotype of a jealous woman. The...</td>\n",
       "      <td>Seminar</td>\n",
       "    </tr>\n",
       "    <tr>\n",
       "      <th>443</th>\n",
       "      <td>Part 2\\nI believe that when the King discovers that his daughter had broken the law by finding out what was behind the door and then signaling to her lover which one to open, he would be in infuriated. The story stated that he was extre...</td>\n",
       "      <td>Seminar</td>\n",
       "    </tr>\n",
       "  </tbody>\n",
       "</table>\n",
       "</div>"
      ],
      "text/plain": [
       "                                                                                                                                                                                                                                             Message  \\\n",
       "0                                                                                                                                                                                                                                            Hello.    \n",
       "3                                                                                                                                                                                                                 I agree with Cassandra's noticing    \n",
       "5                                                                                                                                                                                                                           I loved the addition of    \n",
       "6                                                                                                                                                                                                      Her lover would die and never love another.\"    \n",
       "9                                                                                                       If the princess possesses the same semi-barbaric trait as her father, then it would seem she directed her lover to the door with the tiger.    \n",
       "12                                                                                                                                        however, she only comments that a tiger would bring shrieks and blood. From her revealed thoughts, she is    \n",
       "18                                                                                                                                                                                 he would have to send his daughter to the arena for a judgement.    \n",
       "23                                                                                                                                                                         imagine this to be the catalyst that ends his idea of public punishment.    \n",
       "27                                                                                                                                                                                                                              I agree with Ashely    \n",
       "33                                           I had orgininally thought that the king would either keep her secret out of love for his daughter, or out of barbaric pride that she sent her lover to his grizzly death, or a combination of the two.    \n",
       "35                                                                                                                                                                              I had not considered Ashley's idea that this experience might be an    \n",
       "39                                                                                                                    The more I think about this activity, the more I wonder if we are supposed to be collaboratively writing an end to the story.    \n",
       "40                                                                                              Perhaps the top of this page (where we type and send messages) is for planning and the bottom (open white area) is for writing an end to the story?    \n",
       "41                                                                                                                                                                                              I'm overall a little confused by this entire module    \n",
       "43                                                                                                                                                                                                                 I think you are correct, Ashley.    \n",
       "47                                                                                                                                                                                                                          That sounds great, Meg!    \n",
       "49                                                                                                                                                                                                                 I’ll check in soon and add to it    \n",
       "52                                                                                                                                                                                                                      I am late to the discussion    \n",
       "56                                                                                                                                                                Just because she comes from a semi-barbaric King does not make her semi-barbaric.    \n",
       "60                                                                                                                                make sense to allow her lover to live out of love just as much as it would make sense for her to have him killed.    \n",
       "66                                                                                                               As for the second part, only her lover saw her give the signal so the second part is questionable as it would be based on hearsay.    \n",
       "68                                                                                                                                                                                                                                       Who knows?    \n",
       "73                                                                                                                                                     Part 1: For this question, our team decided that the princess chose the door with the tiger.    \n",
       "78                                                                                                                                                                                                                          What do you guys think?    \n",
       "81                                                                                                                                                        I kind of think that even though she is angry and jealous, she would ultimately save him.    \n",
       "84                                                                     I also think that even if the king finds out that she knew the doors he will know that either choice that she makes is a punishment in its own right. She suffers either way    \n",
       "86                                                                                                                                                                                   And what if the king already knew that she had broken the law.    \n",
       "91                                                                                                                                                                                                              Kyra, those are some good thoughts!    \n",
       "95                                                                                                                                                                     But I do also think that it is possible that the King could be in on it too.    \n",
       "97                                                                                                                                                                                                                           Emilie I can see that.    \n",
       "99                                                                                                                                                          Not what do you think she would do, but what would you do if you were in the situation?    \n",
       "101                                                                                                                                            It would hurt worse to know his death was my fault than to know that he was happy with someone else.    \n",
       "105                                                                                                                                                                                                                   Personally, I would save him.    \n",
       "106                                                                                                                                    I'd rather be sad for a little while that the person I loved married someone else, than let them get killed.    \n",
       "108                                                                                                                                                                                                                                And that's true!    \n",
       "112                                                                                                                                                                                                                      I agree with that so much!    \n",
       "114                                                                                                                                                                                              Do we know how many people are part of this group?    \n",
       "116                                                                                                                                                                                                                                   I'm not sure!    \n",
       "122                                                                                                                                                                                                                                   okay awesome!    \n",
       "126                                                                                                                                                                                                           I'm honestly okay with either ending,    \n",
       "127                                                                                                            but I think we should incorporate the King mentioning that he helped feed his daughter the information on what was behind each door.    \n",
       "129                                                                                                                                                              Also, I got an email letting us know that Elias Royal is also a part of our group.    \n",
       "133                                                                                                                                                                                            I'm also okay with either ending for Part 1 as well.    \n",
       "138                                                                                                                                                                                                                 As for Part 2, I have a theory.    \n",
       "145                                                                                                                                        Oooo I like that idea of how he might send her to the arena and then tell her which is behind each door.    \n",
       "148                                                                                                                                                                                 And I almost think if we can't decide we might just flip a coin    \n",
       "149                                                                                                                                                                                                                                             lol    \n",
       "152                                                                                                                                                                                            Flipping a coin may not be the worst idea, honestly!    \n",
       "153                                                                                                                                                     I like the idea of writing a paragraph or a few sentences and then bouncing off from there.    \n",
       "155                                                                                                                                                                                                                         Glad you like that idea    \n",
       "161                                                                                                                                                                                                          Kyra, I LOVE what you did for part 1!!    \n",
       "162                                                                                                                                                                                                                    That's some amazing writing!    \n",
       "170                                                                                                                                               Yeah I was wondering because when I click 'My Answer' at the top it says I haven't submitted one.    \n",
       "171                                                                                                                                                                                                                                So I don't know.    \n",
       "173                                                                                                                                                                                                                                          Maybe!    \n",
       "180                                                                                                                                                   Part 1: It is such an agonizing question of whether the lady or the tiger is behind the door.    \n",
       "183                                                            that the lady is behind the door; that the princess might be able to also feel that to take another human life, even when that life has so greatly wronged you, is far worse than to    \n",
       "185                                                                                                                                                                                        ^Gina, that is a really interesting point that you make,    \n",
       "186                                                                                                                                                                                 that he sentences the princess to the same trial that he is on.    \n",
       "187                                                                                                                The text describes the anxiety of being in a huge stadium with a roaring crowd and the fear of being killed horribly by a tiger,    \n",
       "191                                                                                                                                                                                                                                        Hi John,    \n",
       "425                                                                                                                                                                                                                                        I agree,    \n",
       "431                                                                                                                                                                                                             I agree with Anne Marie and Rachel,    \n",
       "433  This is such an unfortunate story. It looks to me that no matter the choice, all parties will be unhappy. I'd like to think that even though she did inherit some of her dad's fury, she would still try to give her lover a chance and not ...   \n",
       "435  I think the story is supposed to be a 'it's up to interpretation' kind of ending, but in a way that purposefully leads you to believe that she sends him to the tiger. But that feels like such a shallow stereotype of a jealous woman. The...   \n",
       "443  Part 2\\nI believe that when the King discovers that his daughter had broken the law by finding out what was behind the door and then signaling to her lover which one to open, he would be in infuriated. The story stated that he was extre...   \n",
       "\n",
       "      R2DiscussionType  \n",
       "0               Social  \n",
       "3              Seminar  \n",
       "5              Seminar  \n",
       "6              Seminar  \n",
       "9              Seminar  \n",
       "12             Seminar  \n",
       "18             Seminar  \n",
       "23             Seminar  \n",
       "27             Seminar  \n",
       "33             Seminar  \n",
       "35             Seminar  \n",
       "39        Deliberation  \n",
       "40                  UX  \n",
       "41        Deliberation  \n",
       "43        Deliberation  \n",
       "47              Social  \n",
       "49           Procedure  \n",
       "52           Procedure  \n",
       "56             Seminar  \n",
       "60             Seminar  \n",
       "66             Seminar  \n",
       "68             Seminar  \n",
       "73             Seminar  \n",
       "78             Seminar  \n",
       "81             Seminar  \n",
       "84             Seminar  \n",
       "86             Seminar  \n",
       "91             Seminar  \n",
       "95             Seminar  \n",
       "97             Seminar  \n",
       "99   Imaginative entry  \n",
       "101  Imaginative entry  \n",
       "105  Imaginative entry  \n",
       "106  Imaginative entry  \n",
       "108  Imaginative entry  \n",
       "112  Imaginative entry  \n",
       "114          Procedure  \n",
       "116          Procedure  \n",
       "122          Procedure  \n",
       "126       Deliberation  \n",
       "127            Seminar  \n",
       "129          Procedure  \n",
       "133            Seminar  \n",
       "138            Seminar  \n",
       "145            Seminar  \n",
       "148            Seminar  \n",
       "149             Social  \n",
       "152       Deliberation  \n",
       "153       Deliberation  \n",
       "155             Social  \n",
       "161             Social  \n",
       "162             Social  \n",
       "170                 UX  \n",
       "171                 UX  \n",
       "173                 UX  \n",
       "180            Seminar  \n",
       "183            Seminar  \n",
       "185            Seminar  \n",
       "186            Seminar  \n",
       "187            Seminar  \n",
       "191             Social  \n",
       "425            Seminar  \n",
       "431            Seminar  \n",
       "433            Seminar  \n",
       "435            Seminar  \n",
       "443            Seminar  "
      ]
     },
     "execution_count": 120,
     "metadata": {},
     "output_type": "execute_result"
    }
   ],
   "source": [
    "pd.set_option('display.max_rows', None)\n",
    "pd.set_option('display.max_colwidth', 240)\n",
    "df[kmeans.labels_ == 3][['Message', 'R2DiscussionType']]"
   ]
  },
  {
   "cell_type": "markdown",
   "id": "6d4b26d2-b17c-4cac-a70c-9a2f6821389c",
   "metadata": {},
   "source": [
    "Let's try classifying width the high dimensional vectors."
   ]
  },
  {
   "cell_type": "code",
   "execution_count": 110,
   "id": "88be1891-5b81-43d0-bd9b-c8bef4359bc5",
   "metadata": {},
   "outputs": [],
   "source": [
    "from sklearn.model_selection import cross_val_score\n",
    "from sklearn.svm import SVC\n",
    "from sklearn.linear_model import LogisticRegression\n",
    "from sklearn.linear_model import RidgeClassifier"
   ]
  },
  {
   "cell_type": "code",
   "execution_count": 137,
   "id": "55f79ff3-a6cc-4ee9-9f89-578f015d6ae5",
   "metadata": {},
   "outputs": [
    {
     "name": "stdout",
     "output_type": "stream",
     "text": [
      "[0.63114754 0.6446281  0.6446281  0.68595041 0.73553719]\n"
     ]
    },
    {
     "data": {
      "text/plain": [
       "(0.6683782685272999, 0.03829717790068736)"
      ]
     },
     "execution_count": 137,
     "metadata": {},
     "output_type": "execute_result"
    }
   ],
   "source": [
    "clf = RidgeClassifier()\n",
    "scores = cross_val_score(clf, embeddings, labels, cv=5)\n",
    "print(scores)\n",
    "np.mean(scores), np.std(scores)"
   ]
  },
  {
   "cell_type": "code",
   "execution_count": 136,
   "id": "fd0d6d86-dea8-4d8f-9945-9834c0781169",
   "metadata": {},
   "outputs": [
    {
     "name": "stdout",
     "output_type": "stream",
     "text": [
      "[0.6147541  0.60330579 0.6446281  0.61983471 0.61983471]\n"
     ]
    },
    {
     "data": {
      "text/plain": [
       "(0.6204714808291559, 0.013503353164709537)"
      ]
     },
     "execution_count": 136,
     "metadata": {},
     "output_type": "execute_result"
    }
   ],
   "source": [
    "from sklearn.neighbors import KNeighborsClassifier\n",
    "clf = KNeighborsClassifier(25)\n",
    "scores = cross_val_score(clf, embeddings, labels, cv=5)\n",
    "print(scores)\n",
    "np.mean(scores), np.std(scores)"
   ]
  },
  {
   "cell_type": "code",
   "execution_count": 141,
   "id": "03b8ce9a-c69a-44b0-8619-e4e38a67bddf",
   "metadata": {},
   "outputs": [
    {
     "name": "stdout",
     "output_type": "stream",
     "text": [
      "[0.53278689 0.61983471 0.55371901 0.53719008 0.61983471]\n"
     ]
    },
    {
     "data": {
      "text/plain": [
       "(0.5726730795285192, 0.0391347602457674)"
      ]
     },
     "execution_count": 141,
     "metadata": {},
     "output_type": "execute_result"
    }
   ],
   "source": [
    "from sklearn.ensemble import AdaBoostClassifier, RandomForestClassifier\n",
    "clf = AdaBoostClassifier(algorithm=\"SAMME\")\n",
    "scores = cross_val_score(clf, embeddings, labels, cv=5)\n",
    "print(scores)\n",
    "np.mean(scores), np.std(scores)"
   ]
  },
  {
   "cell_type": "code",
   "execution_count": 144,
   "id": "3cdf1324-cc02-42eb-953d-66c3346ae531",
   "metadata": {},
   "outputs": [
    {
     "name": "stdout",
     "output_type": "stream",
     "text": [
      "[0.58196721 0.72727273 0.68595041 0.71900826 0.66942149]\n"
     ]
    },
    {
     "data": {
      "text/plain": [
       "(0.6767240211353476, 0.051885325284005135)"
      ]
     },
     "execution_count": 144,
     "metadata": {},
     "output_type": "execute_result"
    }
   ],
   "source": [
    "from sklearn.neural_network import MLPClassifier\n",
    "clf = MLPClassifier(hidden_layer_sizes=(500, 100))\n",
    "scores = cross_val_score(clf, embeddings, labels, cv=5)\n",
    "print(scores)\n",
    "np.mean(scores), np.std(scores)"
   ]
  },
  {
   "cell_type": "code",
   "execution_count": 145,
   "id": "7b34ce76-ac5e-4a24-a6dd-1c16903e1ff4",
   "metadata": {},
   "outputs": [
    {
     "name": "stderr",
     "output_type": "stream",
     "text": [
      "/nix/store/n17dzrkzzsfcmlkxcq9viqm11hbvmzin-python3-3.11.9-env/lib/python3.11/site-packages/sklearn/discriminant_analysis.py:935: UserWarning: Variables are collinear\n",
      "  warnings.warn(\"Variables are collinear\")\n",
      "/nix/store/n17dzrkzzsfcmlkxcq9viqm11hbvmzin-python3-3.11.9-env/lib/python3.11/site-packages/sklearn/discriminant_analysis.py:935: UserWarning: Variables are collinear\n",
      "  warnings.warn(\"Variables are collinear\")\n",
      "/nix/store/n17dzrkzzsfcmlkxcq9viqm11hbvmzin-python3-3.11.9-env/lib/python3.11/site-packages/sklearn/discriminant_analysis.py:935: UserWarning: Variables are collinear\n",
      "  warnings.warn(\"Variables are collinear\")\n",
      "/nix/store/n17dzrkzzsfcmlkxcq9viqm11hbvmzin-python3-3.11.9-env/lib/python3.11/site-packages/sklearn/discriminant_analysis.py:935: UserWarning: Variables are collinear\n",
      "  warnings.warn(\"Variables are collinear\")\n",
      "/nix/store/n17dzrkzzsfcmlkxcq9viqm11hbvmzin-python3-3.11.9-env/lib/python3.11/site-packages/sklearn/discriminant_analysis.py:935: UserWarning: Variables are collinear\n",
      "  warnings.warn(\"Variables are collinear\")\n"
     ]
    },
    {
     "name": "stdout",
     "output_type": "stream",
     "text": [
      "[0.08196721 0.10743802 0.08264463 0.14876033 0.04132231]\n"
     ]
    },
    {
     "data": {
      "text/plain": [
       "(0.0924265004741905, 0.03525780939829703)"
      ]
     },
     "execution_count": 145,
     "metadata": {},
     "output_type": "execute_result"
    }
   ],
   "source": [
    "from sklearn.discriminant_analysis import QuadraticDiscriminantAnalysis\n",
    "clf = QuadraticDiscriminantAnalysis()\n",
    "scores = cross_val_score(clf, embeddings, labels, cv=5)\n",
    "print(scores)\n",
    "np.mean(scores), np.std(scores)"
   ]
  },
  {
   "cell_type": "markdown",
   "id": "641c40cb-8204-4a81-9483-1a2caed3a1ca",
   "metadata": {},
   "source": [
    "This doesn't look like it's leading anywhere. I think the llama embeddings are too complex. Althouuuuugh I can try\n",
    "LDA maybe that will be good."
   ]
  },
  {
   "cell_type": "code",
   "execution_count": 58,
   "id": "867a5f74-1040-4c27-bd3b-396a557d27f3",
   "metadata": {},
   "outputs": [],
   "source": [
    "from sklearn.discriminant_analysis import LinearDiscriminantAnalysis"
   ]
  },
  {
   "cell_type": "code",
   "execution_count": 59,
   "id": "76d9a0aa-2cc4-450b-bbcf-c47f6cb29ccf",
   "metadata": {},
   "outputs": [
    {
     "data": {
      "image/png": "[encoded data removed]",
      "text/plain": [
       "<Figure size 640x480 with 1 Axes>"
      ]
     },
     "metadata": {},
     "output_type": "display_data"
    }
   ],
   "source": [
    "clf = LinearDiscriminantAnalysis(n_components=2)\n",
    "ldad = clf.fit_transform(embeddings, labels)\n",
    "plt.scatter(\n",
    "    ldad[:, 0],\n",
    "    ldad[:, 1],\n",
    "    c=labels\n",
    ")\n",
    "plt.show()"
   ]
  },
  {
   "cell_type": "code",
   "execution_count": 70,
   "id": "acfc06b7-c5e6-4878-9d5d-d6b95c8425a4",
   "metadata": {},
   "outputs": [
    {
     "data": {
      "text/plain": [
       "13        mor\n",
       "59          s\n",
       "72     uwgyeu\n",
       "77        ha\"\n",
       "85          w\n",
       "176     darla\n",
       "436         w\n",
       "Name: Message, dtype: object"
      ]
     },
     "execution_count": 70,
     "metadata": {},
     "output_type": "execute_result"
    }
   ],
   "source": [
    "df.iloc[np.squeeze(np.argwhere(ldad[:, 1] < -15))]['Message']\n",
    "# stupid gibberish data"
   ]
  },
  {
   "cell_type": "code",
   "execution_count": 76,
   "id": "aee2a517-e2c1-48bb-b5ac-89d52b743a89",
   "metadata": {},
   "outputs": [
    {
     "data": {
      "image/png": "[encoded data removed]",
      "text/plain": [
       "<Figure size 640x480 with 1 Axes>"
      ]
     },
     "metadata": {},
     "output_type": "display_data"
    }
   ],
   "source": [
    "plt.scatter(\n",
    "    ldad[ldad[:, 1] >= -15][:, 0],\n",
    "    ldad[ldad[:, 1] >= -15][:, 1],\n",
    "    c=np.array(labels)[ldad[:, 1] >= -15]\n",
    ")\n",
    "plt.show()\n",
    "# This looks oddly good. Should try cross evaluation"
   ]
  },
  {
   "cell_type": "code",
   "execution_count": 81,
   "id": "5640927a-6ca9-4938-b281-8ba6c6211002",
   "metadata": {},
   "outputs": [
    {
     "name": "stderr",
     "output_type": "stream",
     "text": [
      "/nix/store/bbilhkh35cdldw231babbkycawvy38wq-python3-3.11.9-env/lib/python3.11/site-packages/sklearn/model_selection/_split.py:737: UserWarning: The least populated class in y has only 2 members, which is less than n_splits=3.\n",
      "  warnings.warn(\n"
     ]
    },
    {
     "data": {
      "text/plain": [
       "array([0.52970297, 0.69306931, 0.62871287])"
      ]
     },
     "execution_count": 81,
     "metadata": {},
     "output_type": "execute_result"
    }
   ],
   "source": [
    "# Scores very bad. weird\n",
    "scores = cross_val_score(LinearDiscriminantAnalysis(n_components=2), embeddings, labels, cv=3)\n",
    "scores"
   ]
  },
  {
   "cell_type": "markdown",
   "id": "04d92c4a-da33-43ce-8c69-9676f85b8147",
   "metadata": {},
   "source": [
    "Let's try some cross val since I don't trust this"
   ]
  },
  {
   "cell_type": "code",
   "execution_count": 78,
   "id": "d87afdae-e6ea-4053-9c07-d0f06be3d11f",
   "metadata": {},
   "outputs": [
    {
     "data": {
      "image/png": "[encoded data removed]",
      "text/plain": [
       "<Figure size 640x480 with 1 Axes>"
      ]
     },
     "metadata": {},
     "output_type": "display_data"
    }
   ],
   "source": [
    "clf = LinearDiscriminantAnalysis(n_components=2)\n",
    "ldad = clf.fit_transform(embeddings[:-100], labels[:-100])\n",
    "plt.scatter(\n",
    "    ldad[:, 0],\n",
    "    ldad[:, 1],\n",
    "    c=labels[:-100]\n",
    ")\n",
    "plt.show()"
   ]
  },
  {
   "cell_type": "code",
   "execution_count": 83,
   "id": "26b565be-cd46-41cc-91ab-a75747736108",
   "metadata": {},
   "outputs": [
    {
     "data": {
      "image/png": "[encoded data removed]",
      "text/plain": [
       "<Figure size 640x480 with 1 Axes>"
      ]
     },
     "metadata": {},
     "output_type": "display_data"
    }
   ],
   "source": [
    "predicted = clf.transform(embeddings[-100:])\n",
    "plt.scatter(\n",
    "    predicted[:, 0],\n",
    "    predicted[:, 1],\n",
    "    c=labels[-100:]\n",
    ")\n",
    "plt.show()\n",
    "# Okay this is obviously not working. Not good LDA scam."
   ]
  },
  {
   "cell_type": "markdown",
   "id": "af5f86fa-f6e1-47a2-a457-0e9adbd22ee6",
   "metadata": {},
   "source": [
    "This isn't working. I think we need better embeddings. (or less complex ones at least)\n",
    "Or maybe I'l try t-sne with classes."
   ]
  },
  {
   "cell_type": "code",
   "execution_count": 107,
   "id": "05fce45a-f090-412d-8b09-93e5d133aff9",
   "metadata": {},
   "outputs": [],
   "source": [
    "from sklearn.manifold import TSNE"
   ]
  },
  {
   "cell_type": "code",
   "execution_count": 118,
   "id": "bc058dda-543d-49f6-943b-9c58af5ad3ce",
   "metadata": {},
   "outputs": [
    {
     "data": {
      "image/png": "[encoded data removed]",
      "text/plain": [
       "<Figure size 640x480 with 1 Axes>"
      ]
     },
     "metadata": {},
     "output_type": "display_data"
    },
    {
     "data": {
      "image/png": "[encoded data removed]",
      "text/plain": [
       "<Figure size 640x480 with 1 Axes>"
      ]
     },
     "metadata": {},
     "output_type": "display_data"
    }
   ],
   "source": [
    "clf = TSNE(n_components=2)\n",
    "tsned = clf.fit_transform(embeddings, labels)\n",
    "fig = plt.figure()\n",
    "ax = fig.add_subplot()\n",
    "ax.scatter(\n",
    "    tsned[:, 0],\n",
    "    tsned[:, 1],\n",
    "    c=labels\n",
    ")\n",
    "display(fig)"
   ]
  },
  {
   "cell_type": "code",
   "execution_count": null,
   "id": "3845c292-5767-4e29-a61e-b2ac595fadc5",
   "metadata": {},
   "outputs": [],
   "source": []
  },
  {
   "cell_type": "markdown",
   "id": "da157bc9-7e96-4d8f-b1d2-5a64e3fd4ed1",
   "metadata": {},
   "source": [
    "Well that's not good. How about I try roBERTa."
   ]
  },
  {
   "cell_type": "code",
   "execution_count": 13,
   "id": "d2b824be-1500-45fb-904e-528787b21ade",
   "metadata": {},
   "outputs": [
    {
     "name": "stderr",
     "output_type": "stream",
     "text": [
      "Some weights of the model checkpoint at roberta-large-mnli were not used when initializing RobertaForSequenceClassification: ['roberta.pooler.dense.bias', 'roberta.pooler.dense.weight']\n",
      "- This IS expected if you are initializing RobertaForSequenceClassification from the checkpoint of a model trained on another task or with another architecture (e.g. initializing a BertForSequenceClassification model from a BertForPreTraining model).\n",
      "- This IS NOT expected if you are initializing RobertaForSequenceClassification from the checkpoint of a model that you expect to be exactly identical (initializing a BertForSequenceClassification model from a BertForSequenceClassification model).\n"
     ]
    }
   ],
   "source": [
    "from transformers import pipeline\n",
    "classifier = pipeline('zero-shot-classification', model='roberta-large-mnli')"
   ]
  },
  {
   "cell_type": "code",
   "execution_count": 19,
   "id": "856951cb-718a-4c78-9825-8d1ae5702f88",
   "metadata": {},
   "outputs": [
    {
     "name": "stdout",
     "output_type": "stream",
     "text": [
      "Seminar Anna Jones, this is what I was thinking. If you really loved him you wouldn’t allow that. Alexandra, I was leaning toward the tiger at first because of the descriptions you gave. The apple doesn’t fall far from the tree and all that. 🙂\n"
     ]
    },
    {
     "data": {
      "text/plain": [
       "{'sequence': 'Anna Jones, this is what I was thinking. If you really loved him you wouldn’t allow that. Alexandra, I was leaning toward the tiger at first because of the descriptions you gave. The apple doesn’t fall far from the tree and all that. 🙂',\n",
       " 'labels': ['Social',\n",
       "  'Procedure',\n",
       "  'Other',\n",
       "  'Imaginative entry',\n",
       "  'Deliberation',\n",
       "  'Seminar',\n",
       "  'UX'],\n",
       " 'scores': [0.2618650496006012,\n",
       "  0.24981561303138733,\n",
       "  0.17693105340003967,\n",
       "  0.10347723215818405,\n",
       "  0.09475091844797134,\n",
       "  0.06949440389871597,\n",
       "  0.04366570711135864]}"
      ]
     },
     "execution_count": 19,
     "metadata": {},
     "output_type": "execute_result"
    }
   ],
   "source": [
    "entry = 200\n",
    "print(df['R2DiscussionType'][entry], df['Message'][entry])\n",
    "classifier(df['Message'][entry], df['R2DiscussionType'].unique())\n",
    "# doesn't work well, probably because the category names are ambigous."
   ]
  },
  {
   "cell_type": "code",
   "execution_count": 31,
   "id": "739df2c7-428c-4b36-bcce-28766efd01e7",
   "metadata": {},
   "outputs": [
    {
     "data": {
      "text/plain": [
       "array(['Social', 'Seminar', 'Procedure', 'Other', 'Deliberation', 'UX',\n",
       "       'Imaginative entry'], dtype=object)"
      ]
     },
     "execution_count": 31,
     "metadata": {},
     "output_type": "execute_result"
    }
   ],
   "source": [
    "df['R2DiscussionType'].unique()"
   ]
  },
  {
   "cell_type": "code",
   "execution_count": 29,
   "id": "6c4ca95c-a45d-4f11-bc74-88d007fd5972",
   "metadata": {},
   "outputs": [
    {
     "data": {
      "text/plain": [
       "['Discussion that establishes or maintains a relationship and does NOT relate to the assignments.',\n",
       " 'Discussion on the meaning or interpretation of content. My interpretation vs. your interpretation. What does it mean?',\n",
       " 'Discussion toward accomplishing a task. How should the task be accomplished? Specifically, discussion of how to complete the assignment.Big Question: How does this work? What does the teacher want us to do with this assignment?',\n",
       " 'Other',\n",
       " 'Turns related to decision-making about the content…. Or writing or wording. It also indicates the internal procedure of an individual, and interpersonal functioning of the group. Big Question: What should we do next?',\n",
       " \"User's opinion about the IMapBook interface, or media they wish we would include, user experience, media, relationship with the media.\",\n",
       " 'Discourse that places the learner in the discussion as an active participant']"
      ]
     },
     "execution_count": 29,
     "metadata": {},
     "output_type": "execute_result"
    }
   ],
   "source": [
    "# I can try giving the whole description in the category names.\n",
    "import json\n",
    "with open('./unprocessed_data/definitions.json') as file:\n",
    "    definitions = json.loads(file.read())\n",
    "# definitions[df['R2DiscussionType'].unique()]\n",
    "definitions = [definitions[x]['Definition'] if x != 'Other' else 'Other' for x in df['R2DiscussionType'].unique()]\n",
    "definitions"
   ]
  },
  {
   "cell_type": "code",
   "execution_count": 34,
   "id": "66ada753-0015-44d9-b92e-8c13a44922e3",
   "metadata": {},
   "outputs": [
    {
     "name": "stdout",
     "output_type": "stream",
     "text": [
      "Deliberation I tried the ones you mentioned it said try again.\n"
     ]
    },
    {
     "data": {
      "text/plain": [
       "{'sequence': 'I tried the ones you mentioned it said try again.',\n",
       " 'labels': ['Discussion toward accomplishing a task. How should the task be accomplished? Specifically, discussion of how to complete the assignment.Big Question: How does this work? What does the teacher want us to do with this assignment?',\n",
       "  'Discussion on the meaning or interpretation of content. My interpretation vs. your interpretation. What does it mean?',\n",
       "  \"User's opinion about the IMapBook interface, or media they wish we would include, user experience, media, relationship with the media.\",\n",
       "  'Other',\n",
       "  'Turns related to decision-making about the content…. Or writing or wording. It also indicates the internal procedure of an individual, and interpersonal functioning of the group. Big Question: What should we do next?',\n",
       "  'Discussion that establishes or maintains a relationship and does NOT relate to the assignments.',\n",
       "  'Discourse that places the learner in the discussion as an active participant'],\n",
       " 'scores': [0.4555492401123047,\n",
       "  0.23419347405433655,\n",
       "  0.12564997375011444,\n",
       "  0.06955558806657791,\n",
       "  0.04871547594666481,\n",
       "  0.034411489963531494,\n",
       "  0.031924761831760406]}"
      ]
     },
     "execution_count": 34,
     "metadata": {},
     "output_type": "execute_result"
    }
   ],
   "source": [
    "entry = 250\n",
    "print(df['R2DiscussionType'][entry], df['Message'][entry])\n",
    "classifier(df['Message'][entry], definitions)\n",
    "# I think roberta is a bit thick."
   ]
  },
  {
   "cell_type": "markdown",
   "id": "f702de0e-ffe2-417f-8317-54b15629caca",
   "metadata": {},
   "source": [
    "Maybe prompting llama3 is all I need."
   ]
  },
  {
   "cell_type": "code",
   "execution_count": 3,
   "id": "cf455619-cdaf-4e0c-b392-89ce8d99c2db",
   "metadata": {},
   "outputs": [
    {
     "ename": "ModuleNotFoundError",
     "evalue": "No module named 'ctransformers'",
     "output_type": "error",
     "traceback": [
      "\u001b[0;31m---------------------------------------------------------------------------\u001b[0m",
      "\u001b[0;31mModuleNotFoundError\u001b[0m                       Traceback (most recent call last)",
      "Cell \u001b[0;32mIn[3], line 1\u001b[0m\n\u001b[0;32m----> 1\u001b[0m \u001b[38;5;28;01mfrom\u001b[39;00m \u001b[38;5;21;01mctransformers\u001b[39;00m \u001b[38;5;28;01mimport\u001b[39;00m AutoModelForCausalLM\n\u001b[1;32m      3\u001b[0m \u001b[38;5;66;03m# Set gpu_layers to the number of layers to offload to GPU. Set to 0 if no GPU acceleration is available on your system.\u001b[39;00m\n\u001b[1;32m      4\u001b[0m llm \u001b[38;5;241m=\u001b[39m AutoModelForCausalLM\u001b[38;5;241m.\u001b[39mfrom_pretrained(\u001b[38;5;124m\"\u001b[39m\u001b[38;5;124mbartowski/Meta-Llama-3-8B-Instruct-GGUF\u001b[39m\u001b[38;5;124m\"\u001b[39m, model_file\u001b[38;5;241m=\u001b[39m\u001b[38;5;124m\"\u001b[39m\u001b[38;5;124mMeta-Llama-3-8B-Instruct-Q4_K_M.gguf\u001b[39m\u001b[38;5;124m\"\u001b[39m, model_type\u001b[38;5;241m=\u001b[39m\u001b[38;5;124m\"\u001b[39m\u001b[38;5;124mllama3\u001b[39m\u001b[38;5;124m\"\u001b[39m)\n",
      "\u001b[0;31mModuleNotFoundError\u001b[0m: No module named 'ctransformers'"
     ]
    }
   ],
   "source": [
    "from ctransformers import AutoModelForCausalLM\n",
    "\n",
    "# Set gpu_layers to the number of layers to offload to GPU. Set to 0 if no GPU acceleration is available on your system.\n",
    "llm = AutoModelForCausalLM.from_pretrained(\"bartowski/Meta-Llama-3-8B-Instruct-GGUF\", model_file=\"Meta-Llama-3-8B-Instruct-Q4_K_M.gguf\", model_type=\"llama3\")\n",
    "\n",
    "print(llm(\"AI is going to\"))\n"
   ]
  },
  {
   "cell_type": "code",
   "execution_count": 2,
   "id": "cbeb0d4c-c64b-4c3f-ae7f-f997b6ed70ed",
   "metadata": {},
   "outputs": [],
   "source": [
    "import outlines"
   ]
  },
  {
   "cell_type": "code",
   "execution_count": 11,
   "id": "4ebf7fea-0ab5-459c-8a43-3ce0cbbbd0b5",
   "metadata": {},
   "outputs": [
    {
     "name": "stdin",
     "output_type": "stream",
     "text": [
      "The repository for microsoft/Phi-3-mini-4k-instruct contains custom code which must be executed to correctly load the model. You can inspect the repository content at https://hf.co/microsoft/Phi-3-mini-4k-instruct.\n",
      "You can avoid this prompt in future by passing the argument `trust_remote_code=True`.\n",
      "\n",
      "Do you wish to run the custom code? [y/N]  y\n",
      "The repository for microsoft/Phi-3-mini-4k-instruct contains custom code which must be executed to correctly load the model. You can inspect the repository content at https://hf.co/microsoft/Phi-3-mini-4k-instruct.\n",
      "You can avoid this prompt in future by passing the argument `trust_remote_code=True`.\n",
      "\n",
      "Do you wish to run the custom code? [y/N]  y\n"
     ]
    },
    {
     "name": "stderr",
     "output_type": "stream",
     "text": [
      "`flash-attention` package not found, consider installing for better performance: No module named 'flash_attn'.\n",
      "Current `flash-attenton` does not support `window_size`. Either upgrade or use `attn_implementation='eager'`.\n"
     ]
    },
    {
     "data": {
      "application/vnd.jupyter.widget-view+json": {
       "model_id": "591e5974971149c287aa5e5dce03d220",
       "version_major": 2,
       "version_minor": 0
      },
      "text/plain": [
       "Loading checkpoint shards:   0%|          | 0/2 [00:00<?, ?it/s]"
      ]
     },
     "metadata": {},
     "output_type": "display_data"
    },
    {
     "ename": "OutOfMemoryError",
     "evalue": "CUDA out of memory. Tried to allocate 376.00 MiB. GPU 0 has a total capacity of 7.92 GiB of which 83.12 MiB is free. Process 1258 has 96.00 MiB memory in use. Including non-PyTorch memory, this process has 7.13 GiB memory in use. Of the allocated memory 7.05 GiB is allocated by PyTorch, and 1.62 MiB is reserved by PyTorch but unallocated. If reserved but unallocated memory is large try setting PYTORCH_CUDA_ALLOC_CONF=expandable_segments:True to avoid fragmentation.  See documentation for Memory Management  (https://pytorch.org/docs/stable/notes/cuda.html#environment-variables)",
     "output_type": "error",
     "traceback": [
      "\u001b[0;31m---------------------------------------------------------------------------\u001b[0m",
      "\u001b[0;31mOutOfMemoryError\u001b[0m                          Traceback (most recent call last)",
      "Cell \u001b[0;32mIn[11], line 1\u001b[0m\n\u001b[0;32m----> 1\u001b[0m model \u001b[38;5;241m=\u001b[39m \u001b[43moutlines\u001b[49m\u001b[38;5;241;43m.\u001b[39;49m\u001b[43mmodels\u001b[49m\u001b[38;5;241;43m.\u001b[39;49m\u001b[43mtransformers\u001b[49m\u001b[43m(\u001b[49m\u001b[38;5;124;43m\"\u001b[39;49m\u001b[38;5;124;43mmicrosoft/Phi-3-mini-4k-instruct\u001b[39;49m\u001b[38;5;124;43m\"\u001b[39;49m\u001b[43m,\u001b[49m\u001b[43m \u001b[49m\u001b[43mdevice\u001b[49m\u001b[38;5;241;43m=\u001b[39;49m\u001b[38;5;124;43m\"\u001b[39;49m\u001b[38;5;124;43mcuda\u001b[39;49m\u001b[38;5;124;43m\"\u001b[39;49m\u001b[43m)\u001b[49m\n",
      "File \u001b[0;32m/nix/store/b8smcjrn0p61q3cdn53jr3kkal1dfy16-python3-3.11.9-env/lib/python3.11/site-packages/outlines/models/transformers.py:224\u001b[0m, in \u001b[0;36mtransformers\u001b[0;34m(model_name, device, model_kwargs, tokenizer_kwargs)\u001b[0m\n\u001b[1;32m    221\u001b[0m \u001b[38;5;28;01mif\u001b[39;00m device \u001b[38;5;129;01mis\u001b[39;00m \u001b[38;5;129;01mnot\u001b[39;00m \u001b[38;5;28;01mNone\u001b[39;00m:\n\u001b[1;32m    222\u001b[0m     model_kwargs[\u001b[38;5;124m\"\u001b[39m\u001b[38;5;124mdevice_map\u001b[39m\u001b[38;5;124m\"\u001b[39m] \u001b[38;5;241m=\u001b[39m device\n\u001b[0;32m--> 224\u001b[0m model \u001b[38;5;241m=\u001b[39m \u001b[43mAutoModelForCausalLM\u001b[49m\u001b[38;5;241;43m.\u001b[39;49m\u001b[43mfrom_pretrained\u001b[49m\u001b[43m(\u001b[49m\u001b[43mmodel_name\u001b[49m\u001b[43m,\u001b[49m\u001b[43m \u001b[49m\u001b[38;5;241;43m*\u001b[39;49m\u001b[38;5;241;43m*\u001b[39;49m\u001b[43mmodel_kwargs\u001b[49m\u001b[43m)\u001b[49m\n\u001b[1;32m    226\u001b[0m tokenizer_kwargs\u001b[38;5;241m.\u001b[39msetdefault(\u001b[38;5;124m\"\u001b[39m\u001b[38;5;124mpadding_side\u001b[39m\u001b[38;5;124m\"\u001b[39m, \u001b[38;5;124m\"\u001b[39m\u001b[38;5;124mleft\u001b[39m\u001b[38;5;124m\"\u001b[39m)\n\u001b[1;32m    227\u001b[0m tokenizer \u001b[38;5;241m=\u001b[39m AutoTokenizer\u001b[38;5;241m.\u001b[39mfrom_pretrained(model_name, \u001b[38;5;241m*\u001b[39m\u001b[38;5;241m*\u001b[39mtokenizer_kwargs)\n",
      "File \u001b[0;32m/nix/store/b8smcjrn0p61q3cdn53jr3kkal1dfy16-python3-3.11.9-env/lib/python3.11/site-packages/transformers/models/auto/auto_factory.py:558\u001b[0m, in \u001b[0;36m_BaseAutoModelClass.from_pretrained\u001b[0;34m(cls, pretrained_model_name_or_path, *model_args, **kwargs)\u001b[0m\n\u001b[1;32m    556\u001b[0m     \u001b[38;5;28;01melse\u001b[39;00m:\n\u001b[1;32m    557\u001b[0m         \u001b[38;5;28mcls\u001b[39m\u001b[38;5;241m.\u001b[39mregister(config\u001b[38;5;241m.\u001b[39m\u001b[38;5;18m__class__\u001b[39m, model_class, exist_ok\u001b[38;5;241m=\u001b[39m\u001b[38;5;28;01mTrue\u001b[39;00m)\n\u001b[0;32m--> 558\u001b[0m     \u001b[38;5;28;01mreturn\u001b[39;00m \u001b[43mmodel_class\u001b[49m\u001b[38;5;241;43m.\u001b[39;49m\u001b[43mfrom_pretrained\u001b[49m\u001b[43m(\u001b[49m\n\u001b[1;32m    559\u001b[0m \u001b[43m        \u001b[49m\u001b[43mpretrained_model_name_or_path\u001b[49m\u001b[43m,\u001b[49m\u001b[43m \u001b[49m\u001b[38;5;241;43m*\u001b[39;49m\u001b[43mmodel_args\u001b[49m\u001b[43m,\u001b[49m\u001b[43m \u001b[49m\u001b[43mconfig\u001b[49m\u001b[38;5;241;43m=\u001b[39;49m\u001b[43mconfig\u001b[49m\u001b[43m,\u001b[49m\u001b[43m \u001b[49m\u001b[38;5;241;43m*\u001b[39;49m\u001b[38;5;241;43m*\u001b[39;49m\u001b[43mhub_kwargs\u001b[49m\u001b[43m,\u001b[49m\u001b[43m \u001b[49m\u001b[38;5;241;43m*\u001b[39;49m\u001b[38;5;241;43m*\u001b[39;49m\u001b[43mkwargs\u001b[49m\n\u001b[1;32m    560\u001b[0m \u001b[43m    \u001b[49m\u001b[43m)\u001b[49m\n\u001b[1;32m    561\u001b[0m \u001b[38;5;28;01melif\u001b[39;00m \u001b[38;5;28mtype\u001b[39m(config) \u001b[38;5;129;01min\u001b[39;00m \u001b[38;5;28mcls\u001b[39m\u001b[38;5;241m.\u001b[39m_model_mapping\u001b[38;5;241m.\u001b[39mkeys():\n\u001b[1;32m    562\u001b[0m     model_class \u001b[38;5;241m=\u001b[39m _get_model_class(config, \u001b[38;5;28mcls\u001b[39m\u001b[38;5;241m.\u001b[39m_model_mapping)\n",
      "File \u001b[0;32m/nix/store/b8smcjrn0p61q3cdn53jr3kkal1dfy16-python3-3.11.9-env/lib/python3.11/site-packages/transformers/modeling_utils.py:3677\u001b[0m, in \u001b[0;36mPreTrainedModel.from_pretrained\u001b[0;34m(cls, pretrained_model_name_or_path, config, cache_dir, ignore_mismatched_sizes, force_download, local_files_only, token, revision, use_safetensors, *model_args, **kwargs)\u001b[0m\n\u001b[1;32m   3668\u001b[0m     \u001b[38;5;28;01mif\u001b[39;00m dtype_orig \u001b[38;5;129;01mis\u001b[39;00m \u001b[38;5;129;01mnot\u001b[39;00m \u001b[38;5;28;01mNone\u001b[39;00m:\n\u001b[1;32m   3669\u001b[0m         torch\u001b[38;5;241m.\u001b[39mset_default_dtype(dtype_orig)\n\u001b[1;32m   3670\u001b[0m     (\n\u001b[1;32m   3671\u001b[0m         model,\n\u001b[1;32m   3672\u001b[0m         missing_keys,\n\u001b[1;32m   3673\u001b[0m         unexpected_keys,\n\u001b[1;32m   3674\u001b[0m         mismatched_keys,\n\u001b[1;32m   3675\u001b[0m         offload_index,\n\u001b[1;32m   3676\u001b[0m         error_msgs,\n\u001b[0;32m-> 3677\u001b[0m     ) \u001b[38;5;241m=\u001b[39m \u001b[38;5;28;43mcls\u001b[39;49m\u001b[38;5;241;43m.\u001b[39;49m\u001b[43m_load_pretrained_model\u001b[49m\u001b[43m(\u001b[49m\n\u001b[1;32m   3678\u001b[0m \u001b[43m        \u001b[49m\u001b[43mmodel\u001b[49m\u001b[43m,\u001b[49m\n\u001b[1;32m   3679\u001b[0m \u001b[43m        \u001b[49m\u001b[43mstate_dict\u001b[49m\u001b[43m,\u001b[49m\n\u001b[1;32m   3680\u001b[0m \u001b[43m        \u001b[49m\u001b[43mloaded_state_dict_keys\u001b[49m\u001b[43m,\u001b[49m\u001b[43m  \u001b[49m\u001b[38;5;66;43;03m# XXX: rename?\u001b[39;49;00m\n\u001b[1;32m   3681\u001b[0m \u001b[43m        \u001b[49m\u001b[43mresolved_archive_file\u001b[49m\u001b[43m,\u001b[49m\n\u001b[1;32m   3682\u001b[0m \u001b[43m        \u001b[49m\u001b[43mpretrained_model_name_or_path\u001b[49m\u001b[43m,\u001b[49m\n\u001b[1;32m   3683\u001b[0m \u001b[43m        \u001b[49m\u001b[43mignore_mismatched_sizes\u001b[49m\u001b[38;5;241;43m=\u001b[39;49m\u001b[43mignore_mismatched_sizes\u001b[49m\u001b[43m,\u001b[49m\n\u001b[1;32m   3684\u001b[0m \u001b[43m        \u001b[49m\u001b[43msharded_metadata\u001b[49m\u001b[38;5;241;43m=\u001b[39;49m\u001b[43msharded_metadata\u001b[49m\u001b[43m,\u001b[49m\n\u001b[1;32m   3685\u001b[0m \u001b[43m        \u001b[49m\u001b[43m_fast_init\u001b[49m\u001b[38;5;241;43m=\u001b[39;49m\u001b[43m_fast_init\u001b[49m\u001b[43m,\u001b[49m\n\u001b[1;32m   3686\u001b[0m \u001b[43m        \u001b[49m\u001b[43mlow_cpu_mem_usage\u001b[49m\u001b[38;5;241;43m=\u001b[39;49m\u001b[43mlow_cpu_mem_usage\u001b[49m\u001b[43m,\u001b[49m\n\u001b[1;32m   3687\u001b[0m \u001b[43m        \u001b[49m\u001b[43mdevice_map\u001b[49m\u001b[38;5;241;43m=\u001b[39;49m\u001b[43mdevice_map\u001b[49m\u001b[43m,\u001b[49m\n\u001b[1;32m   3688\u001b[0m \u001b[43m        \u001b[49m\u001b[43moffload_folder\u001b[49m\u001b[38;5;241;43m=\u001b[39;49m\u001b[43moffload_folder\u001b[49m\u001b[43m,\u001b[49m\n\u001b[1;32m   3689\u001b[0m \u001b[43m        \u001b[49m\u001b[43moffload_state_dict\u001b[49m\u001b[38;5;241;43m=\u001b[39;49m\u001b[43moffload_state_dict\u001b[49m\u001b[43m,\u001b[49m\n\u001b[1;32m   3690\u001b[0m \u001b[43m        \u001b[49m\u001b[43mdtype\u001b[49m\u001b[38;5;241;43m=\u001b[39;49m\u001b[43mtorch_dtype\u001b[49m\u001b[43m,\u001b[49m\n\u001b[1;32m   3691\u001b[0m \u001b[43m        \u001b[49m\u001b[43mhf_quantizer\u001b[49m\u001b[38;5;241;43m=\u001b[39;49m\u001b[43mhf_quantizer\u001b[49m\u001b[43m,\u001b[49m\n\u001b[1;32m   3692\u001b[0m \u001b[43m        \u001b[49m\u001b[43mkeep_in_fp32_modules\u001b[49m\u001b[38;5;241;43m=\u001b[39;49m\u001b[43mkeep_in_fp32_modules\u001b[49m\u001b[43m,\u001b[49m\n\u001b[1;32m   3693\u001b[0m \u001b[43m    \u001b[49m\u001b[43m)\u001b[49m\n\u001b[1;32m   3695\u001b[0m \u001b[38;5;66;03m# make sure token embedding weights are still tied if needed\u001b[39;00m\n\u001b[1;32m   3696\u001b[0m model\u001b[38;5;241m.\u001b[39mtie_weights()\n",
      "File \u001b[0;32m/nix/store/b8smcjrn0p61q3cdn53jr3kkal1dfy16-python3-3.11.9-env/lib/python3.11/site-packages/transformers/modeling_utils.py:4104\u001b[0m, in \u001b[0;36mPreTrainedModel._load_pretrained_model\u001b[0;34m(cls, model, state_dict, loaded_keys, resolved_archive_file, pretrained_model_name_or_path, ignore_mismatched_sizes, sharded_metadata, _fast_init, low_cpu_mem_usage, device_map, offload_folder, offload_state_dict, dtype, hf_quantizer, keep_in_fp32_modules)\u001b[0m\n\u001b[1;32m   4100\u001b[0m                 set_module_tensor_to_device(\n\u001b[1;32m   4101\u001b[0m                     model_to_load, key, \u001b[38;5;124m\"\u001b[39m\u001b[38;5;124mcpu\u001b[39m\u001b[38;5;124m\"\u001b[39m, torch\u001b[38;5;241m.\u001b[39mempty(\u001b[38;5;241m*\u001b[39mparam\u001b[38;5;241m.\u001b[39msize(), dtype\u001b[38;5;241m=\u001b[39mdtype)\n\u001b[1;32m   4102\u001b[0m                 )\n\u001b[1;32m   4103\u001b[0m     \u001b[38;5;28;01melse\u001b[39;00m:\n\u001b[0;32m-> 4104\u001b[0m         new_error_msgs, offload_index, state_dict_index \u001b[38;5;241m=\u001b[39m \u001b[43m_load_state_dict_into_meta_model\u001b[49m\u001b[43m(\u001b[49m\n\u001b[1;32m   4105\u001b[0m \u001b[43m            \u001b[49m\u001b[43mmodel_to_load\u001b[49m\u001b[43m,\u001b[49m\n\u001b[1;32m   4106\u001b[0m \u001b[43m            \u001b[49m\u001b[43mstate_dict\u001b[49m\u001b[43m,\u001b[49m\n\u001b[1;32m   4107\u001b[0m \u001b[43m            \u001b[49m\u001b[43mloaded_keys\u001b[49m\u001b[43m,\u001b[49m\n\u001b[1;32m   4108\u001b[0m \u001b[43m            \u001b[49m\u001b[43mstart_prefix\u001b[49m\u001b[43m,\u001b[49m\n\u001b[1;32m   4109\u001b[0m \u001b[43m            \u001b[49m\u001b[43mexpected_keys\u001b[49m\u001b[43m,\u001b[49m\n\u001b[1;32m   4110\u001b[0m \u001b[43m            \u001b[49m\u001b[43mdevice_map\u001b[49m\u001b[38;5;241;43m=\u001b[39;49m\u001b[43mdevice_map\u001b[49m\u001b[43m,\u001b[49m\n\u001b[1;32m   4111\u001b[0m \u001b[43m            \u001b[49m\u001b[43moffload_folder\u001b[49m\u001b[38;5;241;43m=\u001b[39;49m\u001b[43moffload_folder\u001b[49m\u001b[43m,\u001b[49m\n\u001b[1;32m   4112\u001b[0m \u001b[43m            \u001b[49m\u001b[43moffload_index\u001b[49m\u001b[38;5;241;43m=\u001b[39;49m\u001b[43moffload_index\u001b[49m\u001b[43m,\u001b[49m\n\u001b[1;32m   4113\u001b[0m \u001b[43m            \u001b[49m\u001b[43mstate_dict_folder\u001b[49m\u001b[38;5;241;43m=\u001b[39;49m\u001b[43mstate_dict_folder\u001b[49m\u001b[43m,\u001b[49m\n\u001b[1;32m   4114\u001b[0m \u001b[43m            \u001b[49m\u001b[43mstate_dict_index\u001b[49m\u001b[38;5;241;43m=\u001b[39;49m\u001b[43mstate_dict_index\u001b[49m\u001b[43m,\u001b[49m\n\u001b[1;32m   4115\u001b[0m \u001b[43m            \u001b[49m\u001b[43mdtype\u001b[49m\u001b[38;5;241;43m=\u001b[39;49m\u001b[43mdtype\u001b[49m\u001b[43m,\u001b[49m\n\u001b[1;32m   4116\u001b[0m \u001b[43m            \u001b[49m\u001b[43mhf_quantizer\u001b[49m\u001b[38;5;241;43m=\u001b[39;49m\u001b[43mhf_quantizer\u001b[49m\u001b[43m,\u001b[49m\n\u001b[1;32m   4117\u001b[0m \u001b[43m            \u001b[49m\u001b[43mis_safetensors\u001b[49m\u001b[38;5;241;43m=\u001b[39;49m\u001b[43mis_safetensors\u001b[49m\u001b[43m,\u001b[49m\n\u001b[1;32m   4118\u001b[0m \u001b[43m            \u001b[49m\u001b[43mkeep_in_fp32_modules\u001b[49m\u001b[38;5;241;43m=\u001b[39;49m\u001b[43mkeep_in_fp32_modules\u001b[49m\u001b[43m,\u001b[49m\n\u001b[1;32m   4119\u001b[0m \u001b[43m            \u001b[49m\u001b[43munexpected_keys\u001b[49m\u001b[38;5;241;43m=\u001b[39;49m\u001b[43munexpected_keys\u001b[49m\u001b[43m,\u001b[49m\n\u001b[1;32m   4120\u001b[0m \u001b[43m        \u001b[49m\u001b[43m)\u001b[49m\n\u001b[1;32m   4121\u001b[0m         error_msgs \u001b[38;5;241m+\u001b[39m\u001b[38;5;241m=\u001b[39m new_error_msgs\n\u001b[1;32m   4122\u001b[0m \u001b[38;5;28;01melse\u001b[39;00m:\n",
      "File \u001b[0;32m/nix/store/b8smcjrn0p61q3cdn53jr3kkal1dfy16-python3-3.11.9-env/lib/python3.11/site-packages/transformers/modeling_utils.py:886\u001b[0m, in \u001b[0;36m_load_state_dict_into_meta_model\u001b[0;34m(model, state_dict, loaded_state_dict_keys, start_prefix, expected_keys, device_map, offload_folder, offload_index, state_dict_folder, state_dict_index, dtype, hf_quantizer, is_safetensors, keep_in_fp32_modules, unexpected_keys)\u001b[0m\n\u001b[1;32m    875\u001b[0m     state_dict_index \u001b[38;5;241m=\u001b[39m offload_weight(param, param_name, state_dict_folder, state_dict_index)\n\u001b[1;32m    876\u001b[0m \u001b[38;5;28;01melif\u001b[39;00m (\n\u001b[1;32m    877\u001b[0m     \u001b[38;5;129;01mnot\u001b[39;00m is_quantized\n\u001b[1;32m    878\u001b[0m     \u001b[38;5;129;01mor\u001b[39;00m (\u001b[38;5;129;01mnot\u001b[39;00m hf_quantizer\u001b[38;5;241m.\u001b[39mrequires_parameters_quantization)\n\u001b[0;32m   (...)\u001b[0m\n\u001b[1;32m    884\u001b[0m ):\n\u001b[1;32m    885\u001b[0m     \u001b[38;5;66;03m# For backward compatibility with older versions of `accelerate` and for non-quantized params\u001b[39;00m\n\u001b[0;32m--> 886\u001b[0m     \u001b[43mset_module_tensor_to_device\u001b[49m\u001b[43m(\u001b[49m\u001b[43mmodel\u001b[49m\u001b[43m,\u001b[49m\u001b[43m \u001b[49m\u001b[43mparam_name\u001b[49m\u001b[43m,\u001b[49m\u001b[43m \u001b[49m\u001b[43mparam_device\u001b[49m\u001b[43m,\u001b[49m\u001b[43m \u001b[49m\u001b[38;5;241;43m*\u001b[39;49m\u001b[38;5;241;43m*\u001b[39;49m\u001b[43mset_module_kwargs\u001b[49m\u001b[43m)\u001b[49m\n\u001b[1;32m    887\u001b[0m \u001b[38;5;28;01melse\u001b[39;00m:\n\u001b[1;32m    888\u001b[0m     hf_quantizer\u001b[38;5;241m.\u001b[39mcreate_quantized_param(model, param, param_name, param_device, state_dict, unexpected_keys)\n",
      "File \u001b[0;32m/nix/store/b8smcjrn0p61q3cdn53jr3kkal1dfy16-python3-3.11.9-env/lib/python3.11/site-packages/accelerate/utils/modeling.py:384\u001b[0m, in \u001b[0;36mset_module_tensor_to_device\u001b[0;34m(module, tensor_name, device, value, dtype, fp16_statistics, tied_params_map)\u001b[0m\n\u001b[1;32m    382\u001b[0m             module\u001b[38;5;241m.\u001b[39m_parameters[tensor_name] \u001b[38;5;241m=\u001b[39m param_cls(new_value, requires_grad\u001b[38;5;241m=\u001b[39mold_value\u001b[38;5;241m.\u001b[39mrequires_grad)\n\u001b[1;32m    383\u001b[0m \u001b[38;5;28;01melif\u001b[39;00m \u001b[38;5;28misinstance\u001b[39m(value, torch\u001b[38;5;241m.\u001b[39mTensor):\n\u001b[0;32m--> 384\u001b[0m     new_value \u001b[38;5;241m=\u001b[39m \u001b[43mvalue\u001b[49m\u001b[38;5;241;43m.\u001b[39;49m\u001b[43mto\u001b[49m\u001b[43m(\u001b[49m\u001b[43mdevice\u001b[49m\u001b[43m)\u001b[49m\n\u001b[1;32m    385\u001b[0m \u001b[38;5;28;01melse\u001b[39;00m:\n\u001b[1;32m    386\u001b[0m     new_value \u001b[38;5;241m=\u001b[39m torch\u001b[38;5;241m.\u001b[39mtensor(value, device\u001b[38;5;241m=\u001b[39mdevice)\n",
      "\u001b[0;31mOutOfMemoryError\u001b[0m: CUDA out of memory. Tried to allocate 376.00 MiB. GPU 0 has a total capacity of 7.92 GiB of which 83.12 MiB is free. Process 1258 has 96.00 MiB memory in use. Including non-PyTorch memory, this process has 7.13 GiB memory in use. Of the allocated memory 7.05 GiB is allocated by PyTorch, and 1.62 MiB is reserved by PyTorch but unallocated. If reserved but unallocated memory is large try setting PYTORCH_CUDA_ALLOC_CONF=expandable_segments:True to avoid fragmentation.  See documentation for Memory Management  (https://pytorch.org/docs/stable/notes/cuda.html#environment-variables)"
     ]
    }
   ],
   "source": [
    "model = outlines.models.transformers(\"microsoft/Phi-3-mini-4k-instruct\", device=\"cuda\")"
   ]
  },
  {
   "cell_type": "code",
   "execution_count": 7,
   "id": "283f44a0-34ae-4279-b42f-eb4deb79c792",
   "metadata": {},
   "outputs": [],
   "source": [
    "@outlines.prompt\n",
    "def take_order(order):\n",
    "    \"\"\"You are the owner of a pizza parlor. Customers \\\n",
    "    send you orders from which you need to extract:\n",
    "\n",
    "    1. The pizza that is ordered\n",
    "    2. The number of pizzas\n",
    "\n",
    "    # EXAMPLE\n",
    "\n",
    "    ORDER: I would like one Margherita pizza\n",
    "    RESULT: {\"pizza\": \"Margherita\", \"number\": 1}\n",
    "\n",
    "    # OUTPUT INSTRUCTIONS\n",
    "\n",
    "    Answer in valid JSON. Here are the different objects relevant for the output:\n",
    "\n",
    "    Order:\n",
    "        pizza (str): name of the pizza\n",
    "        number (int): number of pizzas\n",
    "\n",
    "    Return a valid JSON of type \"Order\"\n",
    "\n",
    "    # OUTPUT\n",
    "\n",
    "    ORDER: {{ order }}\n",
    "    RESULT: \"\"\""
   ]
  },
  {
   "cell_type": "code",
   "execution_count": 8,
   "id": "8686f56a-053b-4cc0-82a4-8276ddff18ff",
   "metadata": {},
   "outputs": [],
   "source": [
    "from enum import Enum\n",
    "from pydantic import BaseModel\n",
    "\n",
    "class Pizza(str, Enum):\n",
    "    margherita = \"Margherita\"\n",
    "    pepperonni = \"Pepperoni\"\n",
    "    calzone = \"Calzone\"\n",
    "\n",
    "class Order(BaseModel):\n",
    "    pizza: Pizza\n",
    "    number: int\n"
   ]
  },
  {
   "cell_type": "code",
   "execution_count": 9,
   "id": "fd79f47c-2993-467f-a909-a78188e2ad30",
   "metadata": {},
   "outputs": [
    {
     "ename": "NameError",
     "evalue": "name 'model' is not defined",
     "output_type": "error",
     "traceback": [
      "\u001b[0;31m---------------------------------------------------------------------------\u001b[0m",
      "\u001b[0;31mNameError\u001b[0m                                 Traceback (most recent call last)",
      "Cell \u001b[0;32mIn[9], line 7\u001b[0m\n\u001b[1;32m      1\u001b[0m orders \u001b[38;5;241m=\u001b[39m [\n\u001b[1;32m      2\u001b[0m     \u001b[38;5;124m\"\u001b[39m\u001b[38;5;124mHi! I would like to order two pepperonni pizzas and would like them in 30mins.\u001b[39m\u001b[38;5;124m\"\u001b[39m,\n\u001b[1;32m      3\u001b[0m     \u001b[38;5;124m\"\u001b[39m\u001b[38;5;124mIs it possible to get 12 margheritas?\u001b[39m\u001b[38;5;124m\"\u001b[39m\n\u001b[1;32m      4\u001b[0m ]\n\u001b[1;32m      5\u001b[0m prompts \u001b[38;5;241m=\u001b[39m [take_order(order) \u001b[38;5;28;01mfor\u001b[39;00m order \u001b[38;5;129;01min\u001b[39;00m orders]\n\u001b[0;32m----> 7\u001b[0m generator \u001b[38;5;241m=\u001b[39m outlines\u001b[38;5;241m.\u001b[39mgenerate\u001b[38;5;241m.\u001b[39mjson(\u001b[43mmodel\u001b[49m, Order)\n\u001b[1;32m      9\u001b[0m results \u001b[38;5;241m=\u001b[39m generator(prompts)\n\u001b[1;32m     10\u001b[0m \u001b[38;5;28mprint\u001b[39m(results)\n",
      "\u001b[0;31mNameError\u001b[0m: name 'model' is not defined"
     ]
    }
   ],
   "source": [
    "orders = [\n",
    "    \"Hi! I would like to order two pepperonni pizzas and would like them in 30mins.\",\n",
    "    \"Is it possible to get 12 margheritas?\"\n",
    "]\n",
    "prompts = [take_order(order) for order in orders]\n",
    "\n",
    "generator = outlines.generate.json(model, Order)\n",
    "\n",
    "results = generator(prompts)\n",
    "print(results)"
   ]
  }
 ],
 "metadata": {
  "kernelspec": {
   "display_name": "Python 3 (ipykernel)",
   "language": "python",
   "name": "python3"
  },
  "language_info": {
   "codemirror_mode": {
    "name": "ipython",
    "version": 3
   },
   "file_extension": ".py",
   "mimetype": "text/x-python",
   "name": "python",
   "nbconvert_exporter": "python",
   "pygments_lexer": "ipython3",
   "version": "3.11.9"
  }
 },
 "nbformat": 4,
 "nbformat_minor": 5
}

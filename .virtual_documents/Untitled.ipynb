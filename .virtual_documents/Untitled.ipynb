import pandas as pd
pd.set_option('display.max_rows', None)


df = pd.read_excel('./unprocessed_data/CollabWriteAnalysisCountCodesLadyorTigerF20nS21S22wGSAnalysis27Jan2023_14Mar2024CleanF.xlsm', 'Combined Discussions')


df.columns


df = df[['Course', 'Book ID', 'Bookclub', 'Pseudonym', 'Message',
         'Message Time', 'Page', 'R2DiscussionType', 'R2DialogicSpell',
         'R2Uptake', 'R2 Question', 'R2 Pivot']]


df['Message Time'] = pd.to_datetime(df['Message Time'], errors='coerce')


df['Page'] = pd.to_numeric(df['Page'], errors='coerce').astype('Int64')


df['R2DiscussionType'] = df['R2DiscussionType'].replace('Imaginative Entry', 'Imaginative entry')


df['R2DialogicSpell'] = df['R2DialogicSpell'].astype('Int64')


df['R2 Pivot'] = df['R2 Pivot'].replace('Deliberationa to Seminar', 'Deliberation to Seminar')


df.to_csv('./data/new_data.csv')





df = pd.read_excel('./unprocessed_data/CodingDiscourseAnalysis/AnotherExampleDiscussionProjectSteinbrennerHighSchool/Gourley_p6.xlsx')


df

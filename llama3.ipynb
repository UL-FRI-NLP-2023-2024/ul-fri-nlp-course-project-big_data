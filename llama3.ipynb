{
 "cells": [
  {
   "cell_type": "code",
   "execution_count": 25,
   "id": "d57ee831-27c0-44bd-a61b-a9e6e9708993",
   "metadata": {},
   "outputs": [],
   "source": [
    "import pandas as pd\n",
    "import numpy as np\n",
    "from langchain_community.embeddings.ollama import OllamaEmbeddings"
   ]
  },
  {
   "cell_type": "markdown",
   "id": "c0b53448-0764-4db2-8f13-18e83d4b8a72",
   "metadata": {},
   "source": [
    "Embed all lines."
   ]
  },
  {
   "cell_type": "code",
   "execution_count": 4,
   "id": "42ee64a6-e04a-40e6-8e26-14d6b8e3cb5f",
   "metadata": {},
   "outputs": [],
   "source": [
    "df = pd.read_csv('./data/new_data.csv')\n",
    "df = df[~df['R2DiscussionType'].str.contains(\",\")]"
   ]
  },
  {
   "cell_type": "code",
   "execution_count": 5,
   "id": "b7dfb730-65d2-4aaf-a09c-4064ddd12afc",
   "metadata": {},
   "outputs": [
    {
     "data": {
      "text/plain": [
       "R2DiscussionType\n",
       "Seminar              333\n",
       "Deliberation          85\n",
       "Social                69\n",
       "UX                    47\n",
       "Procedure             46\n",
       "Imaginative entry     18\n",
       "Other                  6\n",
       "Imaginative            2\n",
       "Name: count, dtype: int64"
      ]
     },
     "execution_count": 5,
     "metadata": {},
     "output_type": "execute_result"
    }
   ],
   "source": [
    "df['R2DiscussionType'].value_counts()"
   ]
  },
  {
   "cell_type": "code",
   "execution_count": 6,
   "id": "a63dba93-0ff3-4da0-9be1-dfd07ec2cc4f",
   "metadata": {},
   "outputs": [],
   "source": [
    "df['R2DiscussionType'] = df['R2DiscussionType'].map(lambda x: 'Imaginative entry' if x == 'Imaginative' else x)"
   ]
  },
  {
   "cell_type": "code",
   "execution_count": 7,
   "id": "13167c39-ade7-4ecf-97a6-4bfdfe2e9abc",
   "metadata": {},
   "outputs": [
    {
     "data": {
      "text/plain": [
       "R2DiscussionType\n",
       "Seminar              333\n",
       "Deliberation          85\n",
       "Social                69\n",
       "UX                    47\n",
       "Procedure             46\n",
       "Imaginative entry     20\n",
       "Other                  6\n",
       "Name: count, dtype: int64"
      ]
     },
     "execution_count": 7,
     "metadata": {},
     "output_type": "execute_result"
    }
   ],
   "source": [
    "df['R2DiscussionType'].value_counts()"
   ]
  },
  {
   "cell_type": "code",
   "execution_count": 8,
   "id": "cfa101dd-1511-4637-a624-659132ced73a",
   "metadata": {},
   "outputs": [],
   "source": [
    "with open('./unprocessed_data/definitions.json', 'r') as file:\n",
    "    instructions = file.read()"
   ]
  },
  {
   "cell_type": "code",
   "execution_count": 9,
   "id": "40ae61fb-5a74-4bee-879c-f004a7b54284",
   "metadata": {},
   "outputs": [
    {
     "data": {
      "text/plain": [
       "5142"
      ]
     },
     "execution_count": 9,
     "metadata": {},
     "output_type": "execute_result"
    }
   ],
   "source": [
    "len(instructions)"
   ]
  },
  {
   "cell_type": "code",
   "execution_count": 10,
   "id": "d372087a-a70a-47fd-bd6d-5c5063ea5e5a",
   "metadata": {},
   "outputs": [],
   "source": [
    "ollama_emb = OllamaEmbeddings(\n",
    "    model=\"llama3\",\n",
    "    # embed_instruction=instructions\n",
    ")"
   ]
  },
  {
   "cell_type": "code",
   "execution_count": 11,
   "id": "23d46d7b-f68f-42ad-92a7-2cd4aecb05ef",
   "metadata": {},
   "outputs": [],
   "source": [
    "embeddings = ollama_emb.embed_documents(list(df['Message']))"
   ]
  },
  {
   "cell_type": "code",
   "execution_count": 12,
   "id": "c67b18c0-e73a-4c13-906c-363acf387823",
   "metadata": {},
   "outputs": [],
   "source": [
    "embeddings = np.array(embeddings)"
   ]
  },
  {
   "cell_type": "markdown",
   "id": "1465d4ee-6306-4a0d-bad7-adf8311c256b",
   "metadata": {},
   "source": [
    "Get labels"
   ]
  },
  {
   "cell_type": "code",
   "execution_count": 14,
   "id": "f8020ad4-d0f3-40a9-9e84-645042031e2c",
   "metadata": {},
   "outputs": [],
   "source": [
    "labels = df['R2DiscussionType'].map(lambda x: next((i for i, v in enumerate(np.unique(df['R2DiscussionType'])) if v == x), None))"
   ]
  },
  {
   "cell_type": "markdown",
   "id": "a34c0284-ff62-4581-8056-21df8e1a2c4b",
   "metadata": {},
   "source": [
    "Reduce dimensionality"
   ]
  },
  {
   "cell_type": "code",
   "execution_count": 8,
   "id": "32fb3b13-0b98-4c46-b076-2826dfa4686d",
   "metadata": {},
   "outputs": [],
   "source": [
    "import umap"
   ]
  },
  {
   "cell_type": "code",
   "execution_count": 15,
   "id": "73b25b72-41d5-4273-99f3-835cab462b96",
   "metadata": {},
   "outputs": [],
   "source": [
    "reducer = umap.UMAP()"
   ]
  },
  {
   "cell_type": "code",
   "execution_count": 19,
   "id": "1d03cefd-2fe3-46b0-81fd-7d1d63fb044d",
   "metadata": {},
   "outputs": [
    {
     "data": {
      "text/plain": [
       "(606, 2)"
      ]
     },
     "execution_count": 19,
     "metadata": {},
     "output_type": "execute_result"
    }
   ],
   "source": [
    "reduced = reducer.fit_transform(embeddings)\n",
    "reduced.shape"
   ]
  },
  {
   "cell_type": "markdown",
   "id": "cecf57aa-49a0-465a-8729-681c478835fe",
   "metadata": {},
   "source": [
    "Plot UMAP"
   ]
  },
  {
   "cell_type": "code",
   "execution_count": 17,
   "id": "14ab6266-7dca-4522-9df7-bb1e6025d299",
   "metadata": {},
   "outputs": [],
   "source": [
    "from matplotlib import pyplot as plt"
   ]
  },
  {
   "cell_type": "code",
   "execution_count": 20,
   "id": "e2d82fae-b610-4739-86be-c2b0879ffba5",
   "metadata": {},
   "outputs": [
    {
     "data": {
      "image/png": "[encoded data removed]",
      "text/plain": [
       "<Figure size 640x480 with 1 Axes>"
      ]
     },
     "metadata": {},
     "output_type": "display_data"
    }
   ],
   "source": [
    "plt.scatter(\n",
    "    reduced[:, 0],\n",
    "    reduced[:, 1],\n",
    "    c=labels\n",
    ")\n",
    "plt.show()"
   ]
  },
  {
   "cell_type": "code",
   "execution_count": 21,
   "id": "65ef9cd8-0c29-4df9-908b-f34a87e8dae2",
   "metadata": {},
   "outputs": [],
   "source": [
    "from sklearn.cluster import KMeans"
   ]
  },
  {
   "cell_type": "markdown",
   "id": "f30d1d1c-c8aa-4908-9d31-67f05d4b2f3d",
   "metadata": {},
   "source": [
    "Looking at what groups we get"
   ]
  },
  {
   "cell_type": "code",
   "execution_count": 38,
   "id": "ca3a89e6-fa29-489f-9bd6-dbf7c97563ff",
   "metadata": {},
   "outputs": [
    {
     "data": {
      "text/html": [
       "<style>#sk-container-id-3 {\n",
       "  /* Definition of color scheme common for light and dark mode */\n",
       "  --sklearn-color-text: black;\n",
       "  --sklearn-color-line: gray;\n",
       "  /* Definition of color scheme for unfitted estimators */\n",
       "  --sklearn-color-unfitted-level-0: #fff5e6;\n",
       "  --sklearn-color-unfitted-level-1: #f6e4d2;\n",
       "  --sklearn-color-unfitted-level-2: #ffe0b3;\n",
       "  --sklearn-color-unfitted-level-3: chocolate;\n",
       "  /* Definition of color scheme for fitted estimators */\n",
       "  --sklearn-color-fitted-level-0: #f0f8ff;\n",
       "  --sklearn-color-fitted-level-1: #d4ebff;\n",
       "  --sklearn-color-fitted-level-2: #b3dbfd;\n",
       "  --sklearn-color-fitted-level-3: cornflowerblue;\n",
       "\n",
       "  /* Specific color for light theme */\n",
       "  --sklearn-color-text-on-default-background: var(--sg-text-color, var(--theme-code-foreground, var(--jp-content-font-color1, black)));\n",
       "  --sklearn-color-background: var(--sg-background-color, var(--theme-background, var(--jp-layout-color0, white)));\n",
       "  --sklearn-color-border-box: var(--sg-text-color, var(--theme-code-foreground, var(--jp-content-font-color1, black)));\n",
       "  --sklearn-color-icon: #696969;\n",
       "\n",
       "  @media (prefers-color-scheme: dark) {\n",
       "    /* Redefinition of color scheme for dark theme */\n",
       "    --sklearn-color-text-on-default-background: var(--sg-text-color, var(--theme-code-foreground, var(--jp-content-font-color1, white)));\n",
       "    --sklearn-color-background: var(--sg-background-color, var(--theme-background, var(--jp-layout-color0, #111)));\n",
       "    --sklearn-color-border-box: var(--sg-text-color, var(--theme-code-foreground, var(--jp-content-font-color1, white)));\n",
       "    --sklearn-color-icon: #878787;\n",
       "  }\n",
       "}\n",
       "\n",
       "#sk-container-id-3 {\n",
       "  color: var(--sklearn-color-text);\n",
       "}\n",
       "\n",
       "#sk-container-id-3 pre {\n",
       "  padding: 0;\n",
       "}\n",
       "\n",
       "#sk-container-id-3 input.sk-hidden--visually {\n",
       "  border: 0;\n",
       "  clip: rect(1px 1px 1px 1px);\n",
       "  clip: rect(1px, 1px, 1px, 1px);\n",
       "  height: 1px;\n",
       "  margin: -1px;\n",
       "  overflow: hidden;\n",
       "  padding: 0;\n",
       "  position: absolute;\n",
       "  width: 1px;\n",
       "}\n",
       "\n",
       "#sk-container-id-3 div.sk-dashed-wrapped {\n",
       "  border: 1px dashed var(--sklearn-color-line);\n",
       "  margin: 0 0.4em 0.5em 0.4em;\n",
       "  box-sizing: border-box;\n",
       "  padding-bottom: 0.4em;\n",
       "  background-color: var(--sklearn-color-background);\n",
       "}\n",
       "\n",
       "#sk-container-id-3 div.sk-container {\n",
       "  /* jupyter's `normalize.less` sets `[hidden] { display: none; }`\n",
       "     but bootstrap.min.css set `[hidden] { display: none !important; }`\n",
       "     so we also need the `!important` here to be able to override the\n",
       "     default hidden behavior on the sphinx rendered scikit-learn.org.\n",
       "     See: https://github.com/scikit-learn/scikit-learn/issues/21755 */\n",
       "  display: inline-block !important;\n",
       "  position: relative;\n",
       "}\n",
       "\n",
       "#sk-container-id-3 div.sk-text-repr-fallback {\n",
       "  display: none;\n",
       "}\n",
       "\n",
       "div.sk-parallel-item,\n",
       "div.sk-serial,\n",
       "div.sk-item {\n",
       "  /* draw centered vertical line to link estimators */\n",
       "  background-image: linear-gradient(var(--sklearn-color-text-on-default-background), var(--sklearn-color-text-on-default-background));\n",
       "  background-size: 2px 100%;\n",
       "  background-repeat: no-repeat;\n",
       "  background-position: center center;\n",
       "}\n",
       "\n",
       "/* Parallel-specific style estimator block */\n",
       "\n",
       "#sk-container-id-3 div.sk-parallel-item::after {\n",
       "  content: \"\";\n",
       "  width: 100%;\n",
       "  border-bottom: 2px solid var(--sklearn-color-text-on-default-background);\n",
       "  flex-grow: 1;\n",
       "}\n",
       "\n",
       "#sk-container-id-3 div.sk-parallel {\n",
       "  display: flex;\n",
       "  align-items: stretch;\n",
       "  justify-content: center;\n",
       "  background-color: var(--sklearn-color-background);\n",
       "  position: relative;\n",
       "}\n",
       "\n",
       "#sk-container-id-3 div.sk-parallel-item {\n",
       "  display: flex;\n",
       "  flex-direction: column;\n",
       "}\n",
       "\n",
       "#sk-container-id-3 div.sk-parallel-item:first-child::after {\n",
       "  align-self: flex-end;\n",
       "  width: 50%;\n",
       "}\n",
       "\n",
       "#sk-container-id-3 div.sk-parallel-item:last-child::after {\n",
       "  align-self: flex-start;\n",
       "  width: 50%;\n",
       "}\n",
       "\n",
       "#sk-container-id-3 div.sk-parallel-item:only-child::after {\n",
       "  width: 0;\n",
       "}\n",
       "\n",
       "/* Serial-specific style estimator block */\n",
       "\n",
       "#sk-container-id-3 div.sk-serial {\n",
       "  display: flex;\n",
       "  flex-direction: column;\n",
       "  align-items: center;\n",
       "  background-color: var(--sklearn-color-background);\n",
       "  padding-right: 1em;\n",
       "  padding-left: 1em;\n",
       "}\n",
       "\n",
       "\n",
       "/* Toggleable style: style used for estimator/Pipeline/ColumnTransformer box that is\n",
       "clickable and can be expanded/collapsed.\n",
       "- Pipeline and ColumnTransformer use this feature and define the default style\n",
       "- Estimators will overwrite some part of the style using the `sk-estimator` class\n",
       "*/\n",
       "\n",
       "/* Pipeline and ColumnTransformer style (default) */\n",
       "\n",
       "#sk-container-id-3 div.sk-toggleable {\n",
       "  /* Default theme specific background. It is overwritten whether we have a\n",
       "  specific estimator or a Pipeline/ColumnTransformer */\n",
       "  background-color: var(--sklearn-color-background);\n",
       "}\n",
       "\n",
       "/* Toggleable label */\n",
       "#sk-container-id-3 label.sk-toggleable__label {\n",
       "  cursor: pointer;\n",
       "  display: block;\n",
       "  width: 100%;\n",
       "  margin-bottom: 0;\n",
       "  padding: 0.5em;\n",
       "  box-sizing: border-box;\n",
       "  text-align: center;\n",
       "}\n",
       "\n",
       "#sk-container-id-3 label.sk-toggleable__label-arrow:before {\n",
       "  /* Arrow on the left of the label */\n",
       "  content: \"▸\";\n",
       "  float: left;\n",
       "  margin-right: 0.25em;\n",
       "  color: var(--sklearn-color-icon);\n",
       "}\n",
       "\n",
       "#sk-container-id-3 label.sk-toggleable__label-arrow:hover:before {\n",
       "  color: var(--sklearn-color-text);\n",
       "}\n",
       "\n",
       "/* Toggleable content - dropdown */\n",
       "\n",
       "#sk-container-id-3 div.sk-toggleable__content {\n",
       "  max-height: 0;\n",
       "  max-width: 0;\n",
       "  overflow: hidden;\n",
       "  text-align: left;\n",
       "  /* unfitted */\n",
       "  background-color: var(--sklearn-color-unfitted-level-0);\n",
       "}\n",
       "\n",
       "#sk-container-id-3 div.sk-toggleable__content.fitted {\n",
       "  /* fitted */\n",
       "  background-color: var(--sklearn-color-fitted-level-0);\n",
       "}\n",
       "\n",
       "#sk-container-id-3 div.sk-toggleable__content pre {\n",
       "  margin: 0.2em;\n",
       "  border-radius: 0.25em;\n",
       "  color: var(--sklearn-color-text);\n",
       "  /* unfitted */\n",
       "  background-color: var(--sklearn-color-unfitted-level-0);\n",
       "}\n",
       "\n",
       "#sk-container-id-3 div.sk-toggleable__content.fitted pre {\n",
       "  /* unfitted */\n",
       "  background-color: var(--sklearn-color-fitted-level-0);\n",
       "}\n",
       "\n",
       "#sk-container-id-3 input.sk-toggleable__control:checked~div.sk-toggleable__content {\n",
       "  /* Expand drop-down */\n",
       "  max-height: 200px;\n",
       "  max-width: 100%;\n",
       "  overflow: auto;\n",
       "}\n",
       "\n",
       "#sk-container-id-3 input.sk-toggleable__control:checked~label.sk-toggleable__label-arrow:before {\n",
       "  content: \"▾\";\n",
       "}\n",
       "\n",
       "/* Pipeline/ColumnTransformer-specific style */\n",
       "\n",
       "#sk-container-id-3 div.sk-label input.sk-toggleable__control:checked~label.sk-toggleable__label {\n",
       "  color: var(--sklearn-color-text);\n",
       "  background-color: var(--sklearn-color-unfitted-level-2);\n",
       "}\n",
       "\n",
       "#sk-container-id-3 div.sk-label.fitted input.sk-toggleable__control:checked~label.sk-toggleable__label {\n",
       "  background-color: var(--sklearn-color-fitted-level-2);\n",
       "}\n",
       "\n",
       "/* Estimator-specific style */\n",
       "\n",
       "/* Colorize estimator box */\n",
       "#sk-container-id-3 div.sk-estimator input.sk-toggleable__control:checked~label.sk-toggleable__label {\n",
       "  /* unfitted */\n",
       "  background-color: var(--sklearn-color-unfitted-level-2);\n",
       "}\n",
       "\n",
       "#sk-container-id-3 div.sk-estimator.fitted input.sk-toggleable__control:checked~label.sk-toggleable__label {\n",
       "  /* fitted */\n",
       "  background-color: var(--sklearn-color-fitted-level-2);\n",
       "}\n",
       "\n",
       "#sk-container-id-3 div.sk-label label.sk-toggleable__label,\n",
       "#sk-container-id-3 div.sk-label label {\n",
       "  /* The background is the default theme color */\n",
       "  color: var(--sklearn-color-text-on-default-background);\n",
       "}\n",
       "\n",
       "/* On hover, darken the color of the background */\n",
       "#sk-container-id-3 div.sk-label:hover label.sk-toggleable__label {\n",
       "  color: var(--sklearn-color-text);\n",
       "  background-color: var(--sklearn-color-unfitted-level-2);\n",
       "}\n",
       "\n",
       "/* Label box, darken color on hover, fitted */\n",
       "#sk-container-id-3 div.sk-label.fitted:hover label.sk-toggleable__label.fitted {\n",
       "  color: var(--sklearn-color-text);\n",
       "  background-color: var(--sklearn-color-fitted-level-2);\n",
       "}\n",
       "\n",
       "/* Estimator label */\n",
       "\n",
       "#sk-container-id-3 div.sk-label label {\n",
       "  font-family: monospace;\n",
       "  font-weight: bold;\n",
       "  display: inline-block;\n",
       "  line-height: 1.2em;\n",
       "}\n",
       "\n",
       "#sk-container-id-3 div.sk-label-container {\n",
       "  text-align: center;\n",
       "}\n",
       "\n",
       "/* Estimator-specific */\n",
       "#sk-container-id-3 div.sk-estimator {\n",
       "  font-family: monospace;\n",
       "  border: 1px dotted var(--sklearn-color-border-box);\n",
       "  border-radius: 0.25em;\n",
       "  box-sizing: border-box;\n",
       "  margin-bottom: 0.5em;\n",
       "  /* unfitted */\n",
       "  background-color: var(--sklearn-color-unfitted-level-0);\n",
       "}\n",
       "\n",
       "#sk-container-id-3 div.sk-estimator.fitted {\n",
       "  /* fitted */\n",
       "  background-color: var(--sklearn-color-fitted-level-0);\n",
       "}\n",
       "\n",
       "/* on hover */\n",
       "#sk-container-id-3 div.sk-estimator:hover {\n",
       "  /* unfitted */\n",
       "  background-color: var(--sklearn-color-unfitted-level-2);\n",
       "}\n",
       "\n",
       "#sk-container-id-3 div.sk-estimator.fitted:hover {\n",
       "  /* fitted */\n",
       "  background-color: var(--sklearn-color-fitted-level-2);\n",
       "}\n",
       "\n",
       "/* Specification for estimator info (e.g. \"i\" and \"?\") */\n",
       "\n",
       "/* Common style for \"i\" and \"?\" */\n",
       "\n",
       ".sk-estimator-doc-link,\n",
       "a:link.sk-estimator-doc-link,\n",
       "a:visited.sk-estimator-doc-link {\n",
       "  float: right;\n",
       "  font-size: smaller;\n",
       "  line-height: 1em;\n",
       "  font-family: monospace;\n",
       "  background-color: var(--sklearn-color-background);\n",
       "  border-radius: 1em;\n",
       "  height: 1em;\n",
       "  width: 1em;\n",
       "  text-decoration: none !important;\n",
       "  margin-left: 1ex;\n",
       "  /* unfitted */\n",
       "  border: var(--sklearn-color-unfitted-level-1) 1pt solid;\n",
       "  color: var(--sklearn-color-unfitted-level-1);\n",
       "}\n",
       "\n",
       ".sk-estimator-doc-link.fitted,\n",
       "a:link.sk-estimator-doc-link.fitted,\n",
       "a:visited.sk-estimator-doc-link.fitted {\n",
       "  /* fitted */\n",
       "  border: var(--sklearn-color-fitted-level-1) 1pt solid;\n",
       "  color: var(--sklearn-color-fitted-level-1);\n",
       "}\n",
       "\n",
       "/* On hover */\n",
       "div.sk-estimator:hover .sk-estimator-doc-link:hover,\n",
       ".sk-estimator-doc-link:hover,\n",
       "div.sk-label-container:hover .sk-estimator-doc-link:hover,\n",
       ".sk-estimator-doc-link:hover {\n",
       "  /* unfitted */\n",
       "  background-color: var(--sklearn-color-unfitted-level-3);\n",
       "  color: var(--sklearn-color-background);\n",
       "  text-decoration: none;\n",
       "}\n",
       "\n",
       "div.sk-estimator.fitted:hover .sk-estimator-doc-link.fitted:hover,\n",
       ".sk-estimator-doc-link.fitted:hover,\n",
       "div.sk-label-container:hover .sk-estimator-doc-link.fitted:hover,\n",
       ".sk-estimator-doc-link.fitted:hover {\n",
       "  /* fitted */\n",
       "  background-color: var(--sklearn-color-fitted-level-3);\n",
       "  color: var(--sklearn-color-background);\n",
       "  text-decoration: none;\n",
       "}\n",
       "\n",
       "/* Span, style for the box shown on hovering the info icon */\n",
       ".sk-estimator-doc-link span {\n",
       "  display: none;\n",
       "  z-index: 9999;\n",
       "  position: relative;\n",
       "  font-weight: normal;\n",
       "  right: .2ex;\n",
       "  padding: .5ex;\n",
       "  margin: .5ex;\n",
       "  width: min-content;\n",
       "  min-width: 20ex;\n",
       "  max-width: 50ex;\n",
       "  color: var(--sklearn-color-text);\n",
       "  box-shadow: 2pt 2pt 4pt #999;\n",
       "  /* unfitted */\n",
       "  background: var(--sklearn-color-unfitted-level-0);\n",
       "  border: .5pt solid var(--sklearn-color-unfitted-level-3);\n",
       "}\n",
       "\n",
       ".sk-estimator-doc-link.fitted span {\n",
       "  /* fitted */\n",
       "  background: var(--sklearn-color-fitted-level-0);\n",
       "  border: var(--sklearn-color-fitted-level-3);\n",
       "}\n",
       "\n",
       ".sk-estimator-doc-link:hover span {\n",
       "  display: block;\n",
       "}\n",
       "\n",
       "/* \"?\"-specific style due to the `<a>` HTML tag */\n",
       "\n",
       "#sk-container-id-3 a.estimator_doc_link {\n",
       "  float: right;\n",
       "  font-size: 1rem;\n",
       "  line-height: 1em;\n",
       "  font-family: monospace;\n",
       "  background-color: var(--sklearn-color-background);\n",
       "  border-radius: 1rem;\n",
       "  height: 1rem;\n",
       "  width: 1rem;\n",
       "  text-decoration: none;\n",
       "  /* unfitted */\n",
       "  color: var(--sklearn-color-unfitted-level-1);\n",
       "  border: var(--sklearn-color-unfitted-level-1) 1pt solid;\n",
       "}\n",
       "\n",
       "#sk-container-id-3 a.estimator_doc_link.fitted {\n",
       "  /* fitted */\n",
       "  border: var(--sklearn-color-fitted-level-1) 1pt solid;\n",
       "  color: var(--sklearn-color-fitted-level-1);\n",
       "}\n",
       "\n",
       "/* On hover */\n",
       "#sk-container-id-3 a.estimator_doc_link:hover {\n",
       "  /* unfitted */\n",
       "  background-color: var(--sklearn-color-unfitted-level-3);\n",
       "  color: var(--sklearn-color-background);\n",
       "  text-decoration: none;\n",
       "}\n",
       "\n",
       "#sk-container-id-3 a.estimator_doc_link.fitted:hover {\n",
       "  /* fitted */\n",
       "  background-color: var(--sklearn-color-fitted-level-3);\n",
       "}\n",
       "</style><div id=\"sk-container-id-3\" class=\"sk-top-container\"><div class=\"sk-text-repr-fallback\"><pre>KMeans()</pre><b>In a Jupyter environment, please rerun this cell to show the HTML representation or trust the notebook. <br />On GitHub, the HTML representation is unable to render, please try loading this page with nbviewer.org.</b></div><div class=\"sk-container\" hidden><div class=\"sk-item\"><div class=\"sk-estimator fitted sk-toggleable\"><input class=\"sk-toggleable__control sk-hidden--visually\" id=\"sk-estimator-id-3\" type=\"checkbox\" checked><label for=\"sk-estimator-id-3\" class=\"sk-toggleable__label fitted sk-toggleable__label-arrow fitted\">&nbsp;&nbsp;KMeans<a class=\"sk-estimator-doc-link fitted\" rel=\"noreferrer\" target=\"_blank\" href=\"https://scikit-learn.org/1.4/modules/generated/sklearn.cluster.KMeans.html\">?<span>Documentation for KMeans</span></a><span class=\"sk-estimator-doc-link fitted\">i<span>Fitted</span></span></label><div class=\"sk-toggleable__content fitted\"><pre>KMeans()</pre></div> </div></div></div></div>"
      ],
      "text/plain": [
       "KMeans()"
      ]
     },
     "execution_count": 38,
     "metadata": {},
     "output_type": "execute_result"
    }
   ],
   "source": [
    "kmeans = KMeans(n_clusters=8)\n",
    "kmeans.fit(reduced)"
   ]
  },
  {
   "cell_type": "code",
   "execution_count": 39,
   "id": "5dad9b1a-9e4d-4f9e-8673-0d06d3b755a1",
   "metadata": {},
   "outputs": [
    {
     "data": {
      "image/png": "[encoded data removed]",
      "text/plain": [
       "<Figure size 640x480 with 1 Axes>"
      ]
     },
     "metadata": {},
     "output_type": "display_data"
    }
   ],
   "source": [
    "plt.scatter(reduced[:, 0], reduced[:, 1], c=kmeans.labels_)\n",
    "plt.show()"
   ]
  },
  {
   "cell_type": "code",
   "execution_count": 43,
   "id": "fe0be8bd-e7f4-49df-a500-6fdeee0806b0",
   "metadata": {},
   "outputs": [
    {
     "data": {
      "text/html": [
       "<div>\n",
       "<style scoped>\n",
       "    .dataframe tbody tr th:only-of-type {\n",
       "        vertical-align: middle;\n",
       "    }\n",
       "\n",
       "    .dataframe tbody tr th {\n",
       "        vertical-align: top;\n",
       "    }\n",
       "\n",
       "    .dataframe thead th {\n",
       "        text-align: right;\n",
       "    }\n",
       "</style>\n",
       "<table border=\"1\" class=\"dataframe\">\n",
       "  <thead>\n",
       "    <tr style=\"text-align: right;\">\n",
       "      <th></th>\n",
       "      <th>Message</th>\n",
       "      <th>R2DiscussionType</th>\n",
       "    </tr>\n",
       "  </thead>\n",
       "  <tbody>\n",
       "    <tr>\n",
       "      <th>1</th>\n",
       "      <td>My assumption is</td>\n",
       "      <td>Seminar</td>\n",
       "    </tr>\n",
       "    <tr>\n",
       "      <th>11</th>\n",
       "      <td>It doesn't appear so. For instance, she discloses great agony, jealousy, and stress about the potential wedding between her lover and the lady behind the door;</td>\n",
       "      <td>Seminar</td>\n",
       "    </tr>\n",
       "    <tr>\n",
       "      <th>13</th>\n",
       "      <td>mor</td>\n",
       "      <td>Other</td>\n",
       "    </tr>\n",
       "    <tr>\n",
       "      <th>14</th>\n",
       "      <td>more upset with the prospect of him belonging to another, and so it is clear,</td>\n",
       "      <td>Seminar</td>\n",
       "    </tr>\n",
       "    <tr>\n",
       "      <th>15</th>\n",
       "      <td>given the two terrible choices,</td>\n",
       "      <td>Seminar</td>\n",
       "    </tr>\n",
       "    <tr>\n",
       "      <th>19</th>\n",
       "      <td>I would imagine,</td>\n",
       "      <td>Seminar</td>\n",
       "    </tr>\n",
       "    <tr>\n",
       "      <th>21</th>\n",
       "      <td>However, I also do not</td>\n",
       "      <td>Seminar</td>\n",
       "    </tr>\n",
       "    <tr>\n",
       "      <th>22</th>\n",
       "      <td>ima</td>\n",
       "      <td>Seminar</td>\n",
       "    </tr>\n",
       "    <tr>\n",
       "      <th>31</th>\n",
       "      <td>I also agree with Ashley</td>\n",
       "      <td>Seminar</td>\n",
       "    </tr>\n",
       "    <tr>\n",
       "      <th>36</th>\n",
       "      <td>opportun</td>\n",
       "      <td>Seminar</td>\n",
       "    </tr>\n",
       "    <tr>\n",
       "      <th>53</th>\n",
       "      <td>but I figured I might as well add to this</td>\n",
       "      <td>Procedure</td>\n",
       "    </tr>\n",
       "    <tr>\n",
       "      <th>54</th>\n",
       "      <td>because while I agree with the first part said</td>\n",
       "      <td>Seminar</td>\n",
       "    </tr>\n",
       "    <tr>\n",
       "      <th>58</th>\n",
       "      <td>While Jealousy is a strong determinate, Love is often stronger, and it would make sense to allow her lover to live out of love just as much as it would make</td>\n",
       "      <td>Seminar</td>\n",
       "    </tr>\n",
       "    <tr>\n",
       "      <th>59</th>\n",
       "      <td>s</td>\n",
       "      <td>Other</td>\n",
       "    </tr>\n",
       "    <tr>\n",
       "      <th>64</th>\n",
       "      <td>The princess has no qualms about her lover dying but</td>\n",
       "      <td>Seminar</td>\n",
       "    </tr>\n",
       "    <tr>\n",
       "      <th>69</th>\n",
       "      <td>Without someone seeing her give the signal, they really cannot accuse her of helping him</td>\n",
       "      <td>Seminar</td>\n",
       "    </tr>\n",
       "    <tr>\n",
       "      <th>72</th>\n",
       "      <td>uwgyeu</td>\n",
       "      <td>Other</td>\n",
       "    </tr>\n",
       "    <tr>\n",
       "      <th>76</th>\n",
       "      <td>This action seems indicitive of her barbaric and jealous nature because this way she remains the conquerer  and if she cannot</td>\n",
       "      <td>Seminar</td>\n",
       "    </tr>\n",
       "    <tr>\n",
       "      <th>85</th>\n",
       "      <td>w</td>\n",
       "      <td>Other</td>\n",
       "    </tr>\n",
       "    <tr>\n",
       "      <th>109</th>\n",
       "      <td>There are other guys out there so even if he was the most handsome and all that,</td>\n",
       "      <td>Imaginative entry</td>\n",
       "    </tr>\n",
       "    <tr>\n",
       "      <th>136</th>\n",
       "      <td>I liked what you mentioned earlier Kyra</td>\n",
       "      <td>Seminar</td>\n",
       "    </tr>\n",
       "    <tr>\n",
       "      <th>176</th>\n",
       "      <td>darla</td>\n",
       "      <td>Other</td>\n",
       "    </tr>\n",
       "    <tr>\n",
       "      <th>177</th>\n",
       "      <td>Part 1: Ultimately, it is left for the reader to decide what is behind the door,</td>\n",
       "      <td>Seminar</td>\n",
       "    </tr>\n",
       "    <tr>\n",
       "      <th>184</th>\n",
       "      <td>experien</td>\n",
       "      <td>Seminar</td>\n",
       "    </tr>\n",
       "    <tr>\n",
       "      <th>225</th>\n",
       "      <td>Karen Richardson,</td>\n",
       "      <td>Seminar</td>\n",
       "    </tr>\n",
       "    <tr>\n",
       "      <th>231</th>\n",
       "      <td>The four questions</td>\n",
       "      <td>Deliberation</td>\n",
       "    </tr>\n",
       "    <tr>\n",
       "      <th>238</th>\n",
       "      <td>Live without was the first one I put.  Then Trust, Love, and then Know</td>\n",
       "      <td>Deliberation</td>\n",
       "    </tr>\n",
       "    <tr>\n",
       "      <th>242</th>\n",
       "      <td>Live Without Him is probably the most important question</td>\n",
       "      <td>Deliberation</td>\n",
       "    </tr>\n",
       "    <tr>\n",
       "      <th>243</th>\n",
       "      <td>But it asked for 4 so i amswered with 4</td>\n",
       "      <td>Deliberation</td>\n",
       "    </tr>\n",
       "    <tr>\n",
       "      <th>244</th>\n",
       "      <td>We need total four answers to the question</td>\n",
       "      <td>Deliberation</td>\n",
       "    </tr>\n",
       "    <tr>\n",
       "      <th>246</th>\n",
       "      <td>ok</td>\n",
       "      <td>Deliberation</td>\n",
       "    </tr>\n",
       "    <tr>\n",
       "      <th>249</th>\n",
       "      <td>That is a good point, Victoria</td>\n",
       "      <td>Seminar</td>\n",
       "    </tr>\n",
       "    <tr>\n",
       "      <th>260</th>\n",
       "      <td>ooooh</td>\n",
       "      <td>UX</td>\n",
       "    </tr>\n",
       "    <tr>\n",
       "      <th>268</th>\n",
       "      <td>Hey guys I got through the next page</td>\n",
       "      <td>Deliberation</td>\n",
       "    </tr>\n",
       "    <tr>\n",
       "      <th>270</th>\n",
       "      <td>it's I know I live without him final question</td>\n",
       "      <td>Seminar</td>\n",
       "    </tr>\n",
       "    <tr>\n",
       "      <th>272</th>\n",
       "      <td>Did you guys get the final question</td>\n",
       "      <td>Deliberation</td>\n",
       "    </tr>\n",
       "    <tr>\n",
       "      <th>273</th>\n",
       "      <td>I know live without him</td>\n",
       "      <td>Deliberation</td>\n",
       "    </tr>\n",
       "    <tr>\n",
       "      <th>274</th>\n",
       "      <td>im just back at the screen we were at before</td>\n",
       "      <td>UX</td>\n",
       "    </tr>\n",
       "    <tr>\n",
       "      <th>278</th>\n",
       "      <td>i do not</td>\n",
       "      <td>UX</td>\n",
       "    </tr>\n",
       "    <tr>\n",
       "      <th>279</th>\n",
       "      <td>I was looking for that</td>\n",
       "      <td>UX</td>\n",
       "    </tr>\n",
       "    <tr>\n",
       "      <th>284</th>\n",
       "      <td>lol well ok then. Nice work team</td>\n",
       "      <td>Deliberation</td>\n",
       "    </tr>\n",
       "    <tr>\n",
       "      <th>288</th>\n",
       "      <td>Nice work team</td>\n",
       "      <td>Social</td>\n",
       "    </tr>\n",
       "    <tr>\n",
       "      <th>320</th>\n",
       "      <td>I believe the King would be upset that the rules of his arena were broken. But</td>\n",
       "      <td>Seminar</td>\n",
       "    </tr>\n",
       "    <tr>\n",
       "      <th>328</th>\n",
       "      <td>Hi Patricia Green and Michelle Rivera,</td>\n",
       "      <td>Social</td>\n",
       "    </tr>\n",
       "    <tr>\n",
       "      <th>334</th>\n",
       "      <td>I am on,</td>\n",
       "      <td>Procedure</td>\n",
       "    </tr>\n",
       "    <tr>\n",
       "      <th>342</th>\n",
       "      <td>Definitely</td>\n",
       "      <td>Deliberation</td>\n",
       "    </tr>\n",
       "    <tr>\n",
       "      <th>373</th>\n",
       "      <td>I like the \"doom\"</td>\n",
       "      <td>Seminar</td>\n",
       "    </tr>\n",
       "    <tr>\n",
       "      <th>384</th>\n",
       "      <td>Maybe not to enough of a degree not to put her to trial...but he does love her, just like to a degree she loved the man</td>\n",
       "      <td>Seminar</td>\n",
       "    </tr>\n",
       "    <tr>\n",
       "      <th>387</th>\n",
       "      <td>yes</td>\n",
       "      <td>Seminar</td>\n",
       "    </tr>\n",
       "    <tr>\n",
       "      <th>396</th>\n",
       "      <td>I believe that is all the survey and canvas yes</td>\n",
       "      <td>Procedure</td>\n",
       "    </tr>\n",
       "    <tr>\n",
       "      <th>412</th>\n",
       "      <td>thank you</td>\n",
       "      <td>Social</td>\n",
       "    </tr>\n",
       "    <tr>\n",
       "      <th>428</th>\n",
       "      <td>That's true -</td>\n",
       "      <td>Seminar</td>\n",
       "    </tr>\n",
       "    <tr>\n",
       "      <th>434</th>\n",
       "      <td>acce</td>\n",
       "      <td>Seminar</td>\n",
       "    </tr>\n",
       "    <tr>\n",
       "      <th>436</th>\n",
       "      <td>w</td>\n",
       "      <td>Seminar</td>\n",
       "    </tr>\n",
       "    <tr>\n",
       "      <th>442</th>\n",
       "      <td>Part 1\\nI believe that the lady will be behind the doors. I think that the Princess loved her lover too much to allow him to be eaten by the Tiger. She would rather see him out and about the kingdom happy with someone else then torn int...</td>\n",
       "      <td>Seminar</td>\n",
       "    </tr>\n",
       "    <tr>\n",
       "      <th>444</th>\n",
       "      <td>att</td>\n",
       "      <td>Seminar</td>\n",
       "    </tr>\n",
       "    <tr>\n",
       "      <th>508</th>\n",
       "      <td>I know, I've been waiting my the computer</td>\n",
       "      <td>Social</td>\n",
       "    </tr>\n",
       "    <tr>\n",
       "      <th>510</th>\n",
       "      <td>*by</td>\n",
       "      <td>Social</td>\n",
       "    </tr>\n",
       "    <tr>\n",
       "      <th>523</th>\n",
       "      <td>Okay Hi Rebecca and Katie</td>\n",
       "      <td>Social</td>\n",
       "    </tr>\n",
       "    <tr>\n",
       "      <th>525</th>\n",
       "      <td>That's what I thought to or how I interpreted the ending</td>\n",
       "      <td>Seminar</td>\n",
       "    </tr>\n",
       "    <tr>\n",
       "      <th>538</th>\n",
       "      <td>head in hands</td>\n",
       "      <td>Social</td>\n",
       "    </tr>\n",
       "    <tr>\n",
       "      <th>544</th>\n",
       "      <td>It took me 10 tried. Then I got it</td>\n",
       "      <td>UX</td>\n",
       "    </tr>\n",
       "    <tr>\n",
       "      <th>545</th>\n",
       "      <td>It doesn't matter the combo of the questions</td>\n",
       "      <td>UX</td>\n",
       "    </tr>\n",
       "    <tr>\n",
       "      <th>554</th>\n",
       "      <td>ha ha</td>\n",
       "      <td>Social</td>\n",
       "    </tr>\n",
       "    <tr>\n",
       "      <th>556</th>\n",
       "      <td>Well said, Rebecca</td>\n",
       "      <td>Seminar</td>\n",
       "    </tr>\n",
       "    <tr>\n",
       "      <th>557</th>\n",
       "      <td>Good point you made Rebecca</td>\n",
       "      <td>Seminar</td>\n",
       "    </tr>\n",
       "    <tr>\n",
       "      <th>587</th>\n",
       "      <td>Hi sorry ladies I got kicked off</td>\n",
       "      <td>UX</td>\n",
       "    </tr>\n",
       "    <tr>\n",
       "      <th>591</th>\n",
       "      <td>anyways have a good night</td>\n",
       "      <td>Social</td>\n",
       "    </tr>\n",
       "    <tr>\n",
       "      <th>592</th>\n",
       "      <td>and a wonderful semester thanks for hopping on</td>\n",
       "      <td>Social</td>\n",
       "    </tr>\n",
       "    <tr>\n",
       "      <th>593</th>\n",
       "      <td>Enjoy the wedding Katie</td>\n",
       "      <td>Social</td>\n",
       "    </tr>\n",
       "  </tbody>\n",
       "</table>\n",
       "</div>"
      ],
      "text/plain": [
       "                                                                                                                                                                                                                                             Message  \\\n",
       "1                                                                                                                                                                                                                                   My assumption is   \n",
       "11                                                                                   It doesn't appear so. For instance, she discloses great agony, jealousy, and stress about the potential wedding between her lover and the lady behind the door;   \n",
       "13                                                                                                                                                                                                                                               mor   \n",
       "14                                                                                                                                                                     more upset with the prospect of him belonging to another, and so it is clear,   \n",
       "15                                                                                                                                                                                                                   given the two terrible choices,   \n",
       "19                                                                                                                                                                                                                                  I would imagine,   \n",
       "21                                                                                                                                                                                                                            However, I also do not   \n",
       "22                                                                                                                                                                                                                                               ima   \n",
       "31                                                                                                                                                                                                                          I also agree with Ashley   \n",
       "36                                                                                                                                                                                                                                          opportun   \n",
       "53                                                                                                                                                                                                         but I figured I might as well add to this   \n",
       "54                                                                                                                                                                                                    because while I agree with the first part said   \n",
       "58                                                                                      While Jealousy is a strong determinate, Love is often stronger, and it would make sense to allow her lover to live out of love just as much as it would make   \n",
       "59                                                                                                                                                                                                                                                 s   \n",
       "64                                                                                                                                                                                              The princess has no qualms about her lover dying but   \n",
       "69                                                                                                                                                          Without someone seeing her give the signal, they really cannot accuse her of helping him   \n",
       "72                                                                                                                                                                                                                                            uwgyeu   \n",
       "76                                                                                                                     This action seems indicitive of her barbaric and jealous nature because this way she remains the conquerer  and if she cannot   \n",
       "85                                                                                                                                                                                                                                                 w   \n",
       "109                                                                                                                                                                 There are other guys out there so even if he was the most handsome and all that,   \n",
       "136                                                                                                                                                                                                          I liked what you mentioned earlier Kyra   \n",
       "176                                                                                                                                                                                                                                            darla   \n",
       "177                                                                                                                                                                 Part 1: Ultimately, it is left for the reader to decide what is behind the door,   \n",
       "184                                                                                                                                                                                                                                         experien   \n",
       "225                                                                                                                                                                                                                                Karen Richardson,   \n",
       "231                                                                                                                                                                                                                               The four questions   \n",
       "238                                                                                                                                                                           Live without was the first one I put.  Then Trust, Love, and then Know   \n",
       "242                                                                                                                                                                                         Live Without Him is probably the most important question   \n",
       "243                                                                                                                                                                                                          But it asked for 4 so i amswered with 4   \n",
       "244                                                                                                                                                                                                       We need total four answers to the question   \n",
       "246                                                                                                                                                                                                                                               ok   \n",
       "249                                                                                                                                                                                                                   That is a good point, Victoria   \n",
       "260                                                                                                                                                                                                                                            ooooh   \n",
       "268                                                                                                                                                                                                             Hey guys I got through the next page   \n",
       "270                                                                                                                                                                                                    it's I know I live without him final question   \n",
       "272                                                                                                                                                                                                              Did you guys get the final question   \n",
       "273                                                                                                                                                                                                                          I know live without him   \n",
       "274                                                                                                                                                                                                     im just back at the screen we were at before   \n",
       "278                                                                                                                                                                                                                                         i do not   \n",
       "279                                                                                                                                                                                                                           I was looking for that   \n",
       "284                                                                                                                                                                                                                 lol well ok then. Nice work team   \n",
       "288                                                                                                                                                                                                                                   Nice work team   \n",
       "320                                                                                                                                                                   I believe the King would be upset that the rules of his arena were broken. But   \n",
       "328                                                                                                                                                                                                           Hi Patricia Green and Michelle Rivera,   \n",
       "334                                                                                                                                                                                                                                         I am on,   \n",
       "342                                                                                                                                                                                                                                       Definitely   \n",
       "373                                                                                                                                                                                                                                I like the \"doom\"   \n",
       "384                                                                                                                          Maybe not to enough of a degree not to put her to trial...but he does love her, just like to a degree she loved the man   \n",
       "387                                                                                                                                                                                                                                              yes   \n",
       "396                                                                                                                                                                                                  I believe that is all the survey and canvas yes   \n",
       "412                                                                                                                                                                                                                                        thank you   \n",
       "428                                                                                                                                                                                                                                    That's true -   \n",
       "434                                                                                                                                                                                                                                             acce   \n",
       "436                                                                                                                                                                                                                                                w   \n",
       "442  Part 1\\nI believe that the lady will be behind the doors. I think that the Princess loved her lover too much to allow him to be eaten by the Tiger. She would rather see him out and about the kingdom happy with someone else then torn int...   \n",
       "444                                                                                                                                                                                                                                              att   \n",
       "508                                                                                                                                                                                                        I know, I've been waiting my the computer   \n",
       "510                                                                                                                                                                                                                                              *by   \n",
       "523                                                                                                                                                                                                                        Okay Hi Rebecca and Katie   \n",
       "525                                                                                                                                                                                         That's what I thought to or how I interpreted the ending   \n",
       "538                                                                                                                                                                                                                                    head in hands   \n",
       "544                                                                                                                                                                                                               It took me 10 tried. Then I got it   \n",
       "545                                                                                                                                                                                                     It doesn't matter the combo of the questions   \n",
       "554                                                                                                                                                                                                                                            ha ha   \n",
       "556                                                                                                                                                                                                                               Well said, Rebecca   \n",
       "557                                                                                                                                                                                                                      Good point you made Rebecca   \n",
       "587                                                                                                                                                                                                                 Hi sorry ladies I got kicked off   \n",
       "591                                                                                                                                                                                                                        anyways have a good night   \n",
       "592                                                                                                                                                                                                   and a wonderful semester thanks for hopping on   \n",
       "593                                                                                                                                                                                                                          Enjoy the wedding Katie   \n",
       "\n",
       "      R2DiscussionType  \n",
       "1              Seminar  \n",
       "11             Seminar  \n",
       "13               Other  \n",
       "14             Seminar  \n",
       "15             Seminar  \n",
       "19             Seminar  \n",
       "21             Seminar  \n",
       "22             Seminar  \n",
       "31             Seminar  \n",
       "36             Seminar  \n",
       "53           Procedure  \n",
       "54             Seminar  \n",
       "58             Seminar  \n",
       "59               Other  \n",
       "64             Seminar  \n",
       "69             Seminar  \n",
       "72               Other  \n",
       "76             Seminar  \n",
       "85               Other  \n",
       "109  Imaginative entry  \n",
       "136            Seminar  \n",
       "176              Other  \n",
       "177            Seminar  \n",
       "184            Seminar  \n",
       "225            Seminar  \n",
       "231       Deliberation  \n",
       "238       Deliberation  \n",
       "242       Deliberation  \n",
       "243       Deliberation  \n",
       "244       Deliberation  \n",
       "246       Deliberation  \n",
       "249            Seminar  \n",
       "260                 UX  \n",
       "268       Deliberation  \n",
       "270            Seminar  \n",
       "272       Deliberation  \n",
       "273       Deliberation  \n",
       "274                 UX  \n",
       "278                 UX  \n",
       "279                 UX  \n",
       "284       Deliberation  \n",
       "288             Social  \n",
       "320            Seminar  \n",
       "328             Social  \n",
       "334          Procedure  \n",
       "342       Deliberation  \n",
       "373            Seminar  \n",
       "384            Seminar  \n",
       "387            Seminar  \n",
       "396          Procedure  \n",
       "412             Social  \n",
       "428            Seminar  \n",
       "434            Seminar  \n",
       "436            Seminar  \n",
       "442            Seminar  \n",
       "444            Seminar  \n",
       "508             Social  \n",
       "510             Social  \n",
       "523             Social  \n",
       "525            Seminar  \n",
       "538             Social  \n",
       "544                 UX  \n",
       "545                 UX  \n",
       "554             Social  \n",
       "556            Seminar  \n",
       "557            Seminar  \n",
       "587                 UX  \n",
       "591             Social  \n",
       "592             Social  \n",
       "593             Social  "
      ]
     },
     "execution_count": 43,
     "metadata": {},
     "output_type": "execute_result"
    }
   ],
   "source": [
    "pd.set_option('display.max_rows', None)\n",
    "pd.set_option('display.max_colwidth', 240)\n",
    "df[kmeans.labels_ == 1][['Message', 'R2DiscussionType']]"
   ]
  },
  {
   "cell_type": "markdown",
   "id": "6d4b26d2-b17c-4cac-a70c-9a2f6821389c",
   "metadata": {},
   "source": [
    "Let's try classifying width the high dimensional vectors."
   ]
  },
  {
   "cell_type": "code",
   "execution_count": 55,
   "id": "88be1891-5b81-43d0-bd9b-c8bef4359bc5",
   "metadata": {},
   "outputs": [],
   "source": [
    "from sklearn.model_selection import cross_val_score\n",
    "from sklearn.svm import SVC\n",
    "from sklearn.linear_model import LogisticRegression\n",
    "from sklearn.linear_model import RidgeClassifier"
   ]
  },
  {
   "cell_type": "code",
   "execution_count": 56,
   "id": "55f79ff3-a6cc-4ee9-9f89-578f015d6ae5",
   "metadata": {},
   "outputs": [
    {
     "name": "stderr",
     "output_type": "stream",
     "text": [
      "/nix/store/bbilhkh35cdldw231babbkycawvy38wq-python3-3.11.9-env/lib/python3.11/site-packages/sklearn/model_selection/_split.py:737: UserWarning: The least populated class in y has only 2 members, which is less than n_splits=5.\n",
      "  warnings.warn(\n"
     ]
    },
    {
     "data": {
      "text/plain": [
       "array([0.6147541 , 0.6446281 , 0.6446281 , 0.68595041, 0.74380165])"
      ]
     },
     "execution_count": 56,
     "metadata": {},
     "output_type": "execute_result"
    }
   ],
   "source": [
    "clf = RidgeClassifier()\n",
    "scores = cross_val_score(clf, embeddings, labels, cv=5)\n",
    "scores"
   ]
  },
  {
   "cell_type": "markdown",
   "id": "641c40cb-8204-4a81-9483-1a2caed3a1ca",
   "metadata": {},
   "source": [
    "This doesn't look like it's leading anywhere. I think the llama embeddings are too complex. Althouuuuugh I can try\n",
    "LDA maybe that will be good."
   ]
  },
  {
   "cell_type": "code",
   "execution_count": 58,
   "id": "867a5f74-1040-4c27-bd3b-396a557d27f3",
   "metadata": {},
   "outputs": [],
   "source": [
    "from sklearn.discriminant_analysis import LinearDiscriminantAnalysis"
   ]
  },
  {
   "cell_type": "code",
   "execution_count": 59,
   "id": "76d9a0aa-2cc4-450b-bbcf-c47f6cb29ccf",
   "metadata": {},
   "outputs": [
    {
     "data": {
      "image/png": "[encoded data removed]",
      "text/plain": [
       "<Figure size 640x480 with 1 Axes>"
      ]
     },
     "metadata": {},
     "output_type": "display_data"
    }
   ],
   "source": [
    "clf = LinearDiscriminantAnalysis(n_components=2)\n",
    "ldad = clf.fit_transform(embeddings, labels)\n",
    "plt.scatter(\n",
    "    ldad[:, 0],\n",
    "    ldad[:, 1],\n",
    "    c=labels\n",
    ")\n",
    "plt.show()"
   ]
  },
  {
   "cell_type": "code",
   "execution_count": 70,
   "id": "acfc06b7-c5e6-4878-9d5d-d6b95c8425a4",
   "metadata": {},
   "outputs": [
    {
     "data": {
      "text/plain": [
       "13        mor\n",
       "59          s\n",
       "72     uwgyeu\n",
       "77        ha\"\n",
       "85          w\n",
       "176     darla\n",
       "436         w\n",
       "Name: Message, dtype: object"
      ]
     },
     "execution_count": 70,
     "metadata": {},
     "output_type": "execute_result"
    }
   ],
   "source": [
    "df.iloc[np.squeeze(np.argwhere(ldad[:, 1] < -15))]['Message']\n",
    "# stupid gibberish data"
   ]
  },
  {
   "cell_type": "code",
   "execution_count": 76,
   "id": "aee2a517-e2c1-48bb-b5ac-89d52b743a89",
   "metadata": {},
   "outputs": [
    {
     "data": {
      "image/png": "[encoded data removed]",
      "text/plain": [
       "<Figure size 640x480 with 1 Axes>"
      ]
     },
     "metadata": {},
     "output_type": "display_data"
    }
   ],
   "source": [
    "plt.scatter(\n",
    "    ldad[ldad[:, 1] >= -15][:, 0],\n",
    "    ldad[ldad[:, 1] >= -15][:, 1],\n",
    "    c=np.array(labels)[ldad[:, 1] >= -15]\n",
    ")\n",
    "plt.show()\n",
    "# This looks oddly good. Should try cross evaluation"
   ]
  },
  {
   "cell_type": "code",
   "execution_count": 81,
   "id": "5640927a-6ca9-4938-b281-8ba6c6211002",
   "metadata": {},
   "outputs": [
    {
     "name": "stderr",
     "output_type": "stream",
     "text": [
      "/nix/store/bbilhkh35cdldw231babbkycawvy38wq-python3-3.11.9-env/lib/python3.11/site-packages/sklearn/model_selection/_split.py:737: UserWarning: The least populated class in y has only 2 members, which is less than n_splits=3.\n",
      "  warnings.warn(\n"
     ]
    },
    {
     "data": {
      "text/plain": [
       "array([0.52970297, 0.69306931, 0.62871287])"
      ]
     },
     "execution_count": 81,
     "metadata": {},
     "output_type": "execute_result"
    }
   ],
   "source": [
    "# Scores very bad. weird\n",
    "scores = cross_val_score(LinearDiscriminantAnalysis(n_components=2), embeddings, labels, cv=3)\n",
    "scores"
   ]
  },
  {
   "cell_type": "markdown",
   "id": "04d92c4a-da33-43ce-8c69-9676f85b8147",
   "metadata": {},
   "source": [
    "Let's try some cross val since I don't trust this"
   ]
  },
  {
   "cell_type": "code",
   "execution_count": 78,
   "id": "d87afdae-e6ea-4053-9c07-d0f06be3d11f",
   "metadata": {},
   "outputs": [
    {
     "data": {
      "image/png": "[encoded data removed]",
      "text/plain": [
       "<Figure size 640x480 with 1 Axes>"
      ]
     },
     "metadata": {},
     "output_type": "display_data"
    }
   ],
   "source": [
    "clf = LinearDiscriminantAnalysis(n_components=2)\n",
    "ldad = clf.fit_transform(embeddings[:-100], labels[:-100])\n",
    "plt.scatter(\n",
    "    ldad[:, 0],\n",
    "    ldad[:, 1],\n",
    "    c=labels[:-100]\n",
    ")\n",
    "plt.show()"
   ]
  },
  {
   "cell_type": "code",
   "execution_count": 83,
   "id": "26b565be-cd46-41cc-91ab-a75747736108",
   "metadata": {},
   "outputs": [
    {
     "data": {
      "image/png": "[encoded data removed]",
      "text/plain": [
       "<Figure size 640x480 with 1 Axes>"
      ]
     },
     "metadata": {},
     "output_type": "display_data"
    }
   ],
   "source": [
    "predicted = clf.transform(embeddings[-100:])\n",
    "plt.scatter(\n",
    "    predicted[:, 0],\n",
    "    predicted[:, 1],\n",
    "    c=labels[-100:]\n",
    ")\n",
    "plt.show()\n",
    "# Okay this is obviously not working. Not good LDA scam."
   ]
  },
  {
   "cell_type": "markdown",
   "id": "af5f86fa-f6e1-47a2-a457-0e9adbd22ee6",
   "metadata": {},
   "source": [
    "This isn't working. I think we need better embeddings. (or less complex ones at least)\n",
    "Or maybe I'l try t-sne with classes."
   ]
  },
  {
   "cell_type": "code",
   "execution_count": 85,
   "id": "05fce45a-f090-412d-8b09-93e5d133aff9",
   "metadata": {},
   "outputs": [],
   "source": [
    "from sklearn.manifold import TSNE"
   ]
  },
  {
   "cell_type": "code",
   "execution_count": 88,
   "id": "bc058dda-543d-49f6-943b-9c58af5ad3ce",
   "metadata": {},
   "outputs": [
    {
     "data": {
      "image/png": "[encoded data removed]",
      "text/plain": [
       "<Figure size 640x480 with 1 Axes>"
      ]
     },
     "metadata": {},
     "output_type": "display_data"
    }
   ],
   "source": [
    "clf = TSNE()\n",
    "tsned = clf.fit_transform(embeddings[:-100], labels[:-100])\n",
    "plt.scatter(\n",
    "    tsned[:, 0],\n",
    "    tsned[:, 1],\n",
    "    c=labels[:-100]\n",
    ")\n",
    "plt.show()"
   ]
  },
  {
   "cell_type": "markdown",
   "id": "da157bc9-7e96-4d8f-b1d2-5a64e3fd4ed1",
   "metadata": {},
   "source": [
    "Well that's not good. How about I try roBERTa."
   ]
  },
  {
   "cell_type": "code",
   "execution_count": 13,
   "id": "d2b824be-1500-45fb-904e-528787b21ade",
   "metadata": {},
   "outputs": [
    {
     "name": "stderr",
     "output_type": "stream",
     "text": [
      "Some weights of the model checkpoint at roberta-large-mnli were not used when initializing RobertaForSequenceClassification: ['roberta.pooler.dense.bias', 'roberta.pooler.dense.weight']\n",
      "- This IS expected if you are initializing RobertaForSequenceClassification from the checkpoint of a model trained on another task or with another architecture (e.g. initializing a BertForSequenceClassification model from a BertForPreTraining model).\n",
      "- This IS NOT expected if you are initializing RobertaForSequenceClassification from the checkpoint of a model that you expect to be exactly identical (initializing a BertForSequenceClassification model from a BertForSequenceClassification model).\n"
     ]
    }
   ],
   "source": [
    "from transformers import pipeline\n",
    "classifier = pipeline('zero-shot-classification', model='roberta-large-mnli')"
   ]
  },
  {
   "cell_type": "code",
   "execution_count": 19,
   "id": "856951cb-718a-4c78-9825-8d1ae5702f88",
   "metadata": {},
   "outputs": [
    {
     "name": "stdout",
     "output_type": "stream",
     "text": [
      "Seminar Anna Jones, this is what I was thinking. If you really loved him you wouldn’t allow that. Alexandra, I was leaning toward the tiger at first because of the descriptions you gave. The apple doesn’t fall far from the tree and all that. 🙂\n"
     ]
    },
    {
     "data": {
      "text/plain": [
       "{'sequence': 'Anna Jones, this is what I was thinking. If you really loved him you wouldn’t allow that. Alexandra, I was leaning toward the tiger at first because of the descriptions you gave. The apple doesn’t fall far from the tree and all that. 🙂',\n",
       " 'labels': ['Social',\n",
       "  'Procedure',\n",
       "  'Other',\n",
       "  'Imaginative entry',\n",
       "  'Deliberation',\n",
       "  'Seminar',\n",
       "  'UX'],\n",
       " 'scores': [0.2618650496006012,\n",
       "  0.24981561303138733,\n",
       "  0.17693105340003967,\n",
       "  0.10347723215818405,\n",
       "  0.09475091844797134,\n",
       "  0.06949440389871597,\n",
       "  0.04366570711135864]}"
      ]
     },
     "execution_count": 19,
     "metadata": {},
     "output_type": "execute_result"
    }
   ],
   "source": [
    "entry = 200\n",
    "print(df['R2DiscussionType'][entry], df['Message'][entry])\n",
    "classifier(df['Message'][entry], df['R2DiscussionType'].unique())\n",
    "# doesn't work well, probably because the category names are ambigous."
   ]
  },
  {
   "cell_type": "code",
   "execution_count": 31,
   "id": "739df2c7-428c-4b36-bcce-28766efd01e7",
   "metadata": {},
   "outputs": [
    {
     "data": {
      "text/plain": [
       "array(['Social', 'Seminar', 'Procedure', 'Other', 'Deliberation', 'UX',\n",
       "       'Imaginative entry'], dtype=object)"
      ]
     },
     "execution_count": 31,
     "metadata": {},
     "output_type": "execute_result"
    }
   ],
   "source": [
    "df['R2DiscussionType'].unique()"
   ]
  },
  {
   "cell_type": "code",
   "execution_count": 29,
   "id": "6c4ca95c-a45d-4f11-bc74-88d007fd5972",
   "metadata": {},
   "outputs": [
    {
     "data": {
      "text/plain": [
       "['Discussion that establishes or maintains a relationship and does NOT relate to the assignments.',\n",
       " 'Discussion on the meaning or interpretation of content. My interpretation vs. your interpretation. What does it mean?',\n",
       " 'Discussion toward accomplishing a task. How should the task be accomplished? Specifically, discussion of how to complete the assignment.Big Question: How does this work? What does the teacher want us to do with this assignment?',\n",
       " 'Other',\n",
       " 'Turns related to decision-making about the content…. Or writing or wording. It also indicates the internal procedure of an individual, and interpersonal functioning of the group. Big Question: What should we do next?',\n",
       " \"User's opinion about the IMapBook interface, or media they wish we would include, user experience, media, relationship with the media.\",\n",
       " 'Discourse that places the learner in the discussion as an active participant']"
      ]
     },
     "execution_count": 29,
     "metadata": {},
     "output_type": "execute_result"
    }
   ],
   "source": [
    "# I can try giving the whole description in the category names.\n",
    "import json\n",
    "with open('./unprocessed_data/definitions.json') as file:\n",
    "    definitions = json.loads(file.read())\n",
    "# definitions[df['R2DiscussionType'].unique()]\n",
    "definitions = [definitions[x]['Definition'] if x != 'Other' else 'Other' for x in df['R2DiscussionType'].unique()]\n",
    "definitions"
   ]
  },
  {
   "cell_type": "code",
   "execution_count": 34,
   "id": "66ada753-0015-44d9-b92e-8c13a44922e3",
   "metadata": {},
   "outputs": [
    {
     "name": "stdout",
     "output_type": "stream",
     "text": [
      "Deliberation I tried the ones you mentioned it said try again.\n"
     ]
    },
    {
     "data": {
      "text/plain": [
       "{'sequence': 'I tried the ones you mentioned it said try again.',\n",
       " 'labels': ['Discussion toward accomplishing a task. How should the task be accomplished? Specifically, discussion of how to complete the assignment.Big Question: How does this work? What does the teacher want us to do with this assignment?',\n",
       "  'Discussion on the meaning or interpretation of content. My interpretation vs. your interpretation. What does it mean?',\n",
       "  \"User's opinion about the IMapBook interface, or media they wish we would include, user experience, media, relationship with the media.\",\n",
       "  'Other',\n",
       "  'Turns related to decision-making about the content…. Or writing or wording. It also indicates the internal procedure of an individual, and interpersonal functioning of the group. Big Question: What should we do next?',\n",
       "  'Discussion that establishes or maintains a relationship and does NOT relate to the assignments.',\n",
       "  'Discourse that places the learner in the discussion as an active participant'],\n",
       " 'scores': [0.4555492401123047,\n",
       "  0.23419347405433655,\n",
       "  0.12564997375011444,\n",
       "  0.06955558806657791,\n",
       "  0.04871547594666481,\n",
       "  0.034411489963531494,\n",
       "  0.031924761831760406]}"
      ]
     },
     "execution_count": 34,
     "metadata": {},
     "output_type": "execute_result"
    }
   ],
   "source": [
    "entry = 250\n",
    "print(df['R2DiscussionType'][entry], df['Message'][entry])\n",
    "classifier(df['Message'][entry], definitions)\n",
    "# I think roberta is a bit thick."
   ]
  },
  {
   "cell_type": "markdown",
   "id": "f702de0e-ffe2-417f-8317-54b15629caca",
   "metadata": {},
   "source": [
    "Maybe prompting llama3 is all I need."
   ]
  },
  {
   "cell_type": "code",
   "execution_count": 36,
   "id": "a0dd8a86-12b4-4016-bbd0-57c95fdd92bc",
   "metadata": {},
   "outputs": [],
   "source": [
    "from langchain.output_parsers import ResponseSchema, StructuredOutputParser\n",
    "from langchain_core.prompts import PromptTemplate\n",
    "from langchain_community.chat_models import ChatOllama"
   ]
  },
  {
   "cell_type": "code",
   "execution_count": null,
   "id": "99da6647-c7e8-400e-9e62-e337c24a9774",
   "metadata": {},
   "outputs": [],
   "source": [
    "response_schemas = [\n",
    "    ResponseSchema(name=\"discourse type\", description=\"the type of \"),\n",
    "    ResponseSchema(\n",
    "        name=\"source\",\n",
    "        description=\"source used to answer the user's question, should be a website.\",\n",
    "    ),\n",
    "]\n",
    "output_parser = StructuredOutputParser.from_response_schemas(response_schemas)"
   ]
  }
 ],
 "metadata": {
  "kernelspec": {
   "display_name": "Python 3 (ipykernel)",
   "language": "python",
   "name": "python3"
  },
  "language_info": {
   "codemirror_mode": {
    "name": "ipython",
    "version": 3
   },
   "file_extension": ".py",
   "mimetype": "text/x-python",
   "name": "python",
   "nbconvert_exporter": "python",
   "pygments_lexer": "ipython3",
   "version": "3.11.9"
  }
 },
 "nbformat": 4,
 "nbformat_minor": 5
}
